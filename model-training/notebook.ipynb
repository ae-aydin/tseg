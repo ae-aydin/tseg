{
 "cells": [
  {
   "cell_type": "code",
   "execution_count": 14,
   "id": "Hbol",
   "metadata": {},
   "outputs": [],
   "source": [
    "import polars as pl\n",
    "from pathlib import Path\n",
    "import marimo as mo"
   ]
  },
  {
   "cell_type": "code",
   "execution_count": 15,
   "id": "MJUe",
   "metadata": {},
   "outputs": [],
   "source": [
    "DATASET_PATH = Path(\"~/Playground/tiles/dataset-combined-512-256-jpg/\")\n",
    "\n",
    "split_df = pl.read_csv(DATASET_PATH / \"metadata\" / \"split_info.csv\")\n",
    "slide_df = pl.read_csv(DATASET_PATH / \"metadata\" / \"slide_info.csv\")\n",
    "tiles_df = pl.read_csv(DATASET_PATH / \"metadata\" / \"tile_info.csv\")"
   ]
  },
  {
   "cell_type": "markdown",
   "id": "vblA",
   "metadata": {},
   "source": [
    "# General Information"
   ]
  },
  {
   "cell_type": "code",
   "execution_count": 16,
   "id": "bkHC",
   "metadata": {},
   "outputs": [
    {
     "name": "stdout",
     "output_type": "stream",
     "text": [
      "Rows: 164\n",
      "Columns: 2\n",
      "$ slide_name <str> 'B-18125-23-ER', 'B-20000-23-2-ER', 'B-20002-23-ER'\n",
      "$ split      <str> 'train', 'train', 'train'\n",
      "\n"
     ]
    }
   ],
   "source": [
    "split_df.glimpse(max_items_per_column=3)"
   ]
  },
  {
   "cell_type": "code",
   "execution_count": 17,
   "id": "lEQa",
   "metadata": {},
   "outputs": [
    {
     "data": {
      "text/html": [
       "<div><style>\n",
       ".dataframe > thead > tr,\n",
       ".dataframe > tbody > tr {\n",
       "  text-align: right;\n",
       "  white-space: pre-wrap;\n",
       "}\n",
       "</style>\n",
       "<small>shape: (5, 2)</small><table border=\"1\" class=\"dataframe\"><thead><tr><th>slide_name</th><th>split</th></tr><tr><td>str</td><td>str</td></tr></thead><tbody><tr><td>&quot;B-18125-23-ER&quot;</td><td>&quot;train&quot;</td></tr><tr><td>&quot;B-20000-23-2-ER&quot;</td><td>&quot;train&quot;</td></tr><tr><td>&quot;B-20002-23-ER&quot;</td><td>&quot;train&quot;</td></tr><tr><td>&quot;B-17557-23-KI67&quot;</td><td>&quot;train&quot;</td></tr><tr><td>&quot;B-19844-23-ER&quot;</td><td>&quot;train&quot;</td></tr></tbody></table></div>"
      ],
      "text/plain": [
       "shape: (5, 2)\n",
       "┌─────────────────┬───────┐\n",
       "│ slide_name      ┆ split │\n",
       "│ ---             ┆ ---   │\n",
       "│ str             ┆ str   │\n",
       "╞═════════════════╪═══════╡\n",
       "│ B-18125-23-ER   ┆ train │\n",
       "│ B-20000-23-2-ER ┆ train │\n",
       "│ B-20002-23-ER   ┆ train │\n",
       "│ B-17557-23-KI67 ┆ train │\n",
       "│ B-19844-23-ER   ┆ train │\n",
       "└─────────────────┴───────┘"
      ]
     },
     "execution_count": 17,
     "metadata": {},
     "output_type": "execute_result"
    }
   ],
   "source": [
    "split_df.head(5)"
   ]
  },
  {
   "cell_type": "code",
   "execution_count": 18,
   "id": "PKri",
   "metadata": {},
   "outputs": [
    {
     "name": "stdout",
     "output_type": "stream",
     "text": [
      "Rows: 164\n",
      "Columns: 9\n",
      "$ category               <str> 'wsi_tiled', 'wsi_tiled', 'wsi_tiled'\n",
      "$ slide_name             <str> 'B-18125-23-ER', 'B-20000-23-2-ER', 'B-20002-23-ER'\n",
      "$ downsample_rate        <f64> 3.0, 3.0, 3.0\n",
      "$ img_size               <i64> 512, 512, 512\n",
      "$ overlap_ratio_per_tile <f64> 0.5, 0.5, 0.5\n",
      "$ only_annotated_tiles   <str> 'T', 'T', 'T'\n",
      "$ allow_partial_tiles    <str> 'F', 'F', 'F'\n",
      "$ tile_count             <i64> 1591, 537, 699\n",
      "$ mask_count             <i64> 1591, 537, 699\n",
      "\n"
     ]
    }
   ],
   "source": [
    "slide_df.glimpse(max_items_per_column=3)"
   ]
  },
  {
   "cell_type": "code",
   "execution_count": 19,
   "id": "Xref",
   "metadata": {},
   "outputs": [
    {
     "data": {
      "text/html": [
       "<div><style>\n",
       ".dataframe > thead > tr,\n",
       ".dataframe > tbody > tr {\n",
       "  text-align: right;\n",
       "  white-space: pre-wrap;\n",
       "}\n",
       "</style>\n",
       "<small>shape: (5, 9)</small><table border=\"1\" class=\"dataframe\"><thead><tr><th>category</th><th>slide_name</th><th>downsample_rate</th><th>img_size</th><th>overlap_ratio_per_tile</th><th>only_annotated_tiles</th><th>allow_partial_tiles</th><th>tile_count</th><th>mask_count</th></tr><tr><td>str</td><td>str</td><td>f64</td><td>i64</td><td>f64</td><td>str</td><td>str</td><td>i64</td><td>i64</td></tr></thead><tbody><tr><td>&quot;wsi_tiled&quot;</td><td>&quot;B-18125-23-ER&quot;</td><td>3.0</td><td>512</td><td>0.5</td><td>&quot;T&quot;</td><td>&quot;F&quot;</td><td>1591</td><td>1591</td></tr><tr><td>&quot;wsi_tiled&quot;</td><td>&quot;B-20000-23-2-ER&quot;</td><td>3.0</td><td>512</td><td>0.5</td><td>&quot;T&quot;</td><td>&quot;F&quot;</td><td>537</td><td>537</td></tr><tr><td>&quot;wsi_tiled&quot;</td><td>&quot;B-20002-23-ER&quot;</td><td>3.0</td><td>512</td><td>0.5</td><td>&quot;T&quot;</td><td>&quot;F&quot;</td><td>699</td><td>699</td></tr><tr><td>&quot;wsi_tiled&quot;</td><td>&quot;B-17557-23-KI67&quot;</td><td>3.0</td><td>512</td><td>0.5</td><td>&quot;T&quot;</td><td>&quot;F&quot;</td><td>470</td><td>470</td></tr><tr><td>&quot;wsi_tiled&quot;</td><td>&quot;B-19844-23-ER&quot;</td><td>3.0</td><td>512</td><td>0.5</td><td>&quot;T&quot;</td><td>&quot;F&quot;</td><td>2639</td><td>2639</td></tr></tbody></table></div>"
      ],
      "text/plain": [
       "shape: (5, 9)\n",
       "┌───────────┬───────────┬───────────┬──────────┬───┬───────────┬───────────┬───────────┬───────────┐\n",
       "│ category  ┆ slide_nam ┆ downsampl ┆ img_size ┆ … ┆ only_anno ┆ allow_par ┆ tile_coun ┆ mask_coun │\n",
       "│ ---       ┆ e         ┆ e_rate    ┆ ---      ┆   ┆ tated_til ┆ tial_tile ┆ t         ┆ t         │\n",
       "│ str       ┆ ---       ┆ ---       ┆ i64      ┆   ┆ es        ┆ s         ┆ ---       ┆ ---       │\n",
       "│           ┆ str       ┆ f64       ┆          ┆   ┆ ---       ┆ ---       ┆ i64       ┆ i64       │\n",
       "│           ┆           ┆           ┆          ┆   ┆ str       ┆ str       ┆           ┆           │\n",
       "╞═══════════╪═══════════╪═══════════╪══════════╪═══╪═══════════╪═══════════╪═══════════╪═══════════╡\n",
       "│ wsi_tiled ┆ B-18125-2 ┆ 3.0       ┆ 512      ┆ … ┆ T         ┆ F         ┆ 1591      ┆ 1591      │\n",
       "│           ┆ 3-ER      ┆           ┆          ┆   ┆           ┆           ┆           ┆           │\n",
       "│ wsi_tiled ┆ B-20000-2 ┆ 3.0       ┆ 512      ┆ … ┆ T         ┆ F         ┆ 537       ┆ 537       │\n",
       "│           ┆ 3-2-ER    ┆           ┆          ┆   ┆           ┆           ┆           ┆           │\n",
       "│ wsi_tiled ┆ B-20002-2 ┆ 3.0       ┆ 512      ┆ … ┆ T         ┆ F         ┆ 699       ┆ 699       │\n",
       "│           ┆ 3-ER      ┆           ┆          ┆   ┆           ┆           ┆           ┆           │\n",
       "│ wsi_tiled ┆ B-17557-2 ┆ 3.0       ┆ 512      ┆ … ┆ T         ┆ F         ┆ 470       ┆ 470       │\n",
       "│           ┆ 3-KI67    ┆           ┆          ┆   ┆           ┆           ┆           ┆           │\n",
       "│ wsi_tiled ┆ B-19844-2 ┆ 3.0       ┆ 512      ┆ … ┆ T         ┆ F         ┆ 2639      ┆ 2639      │\n",
       "│           ┆ 3-ER      ┆           ┆          ┆   ┆           ┆           ┆           ┆           │\n",
       "└───────────┴───────────┴───────────┴──────────┴───┴───────────┴───────────┴───────────┴───────────┘"
      ]
     },
     "execution_count": 19,
     "metadata": {},
     "output_type": "execute_result"
    }
   ],
   "source": [
    "slide_df.head(5)"
   ]
  },
  {
   "cell_type": "code",
   "execution_count": 20,
   "id": "SFPL",
   "metadata": {},
   "outputs": [
    {
     "name": "stdout",
     "output_type": "stream",
     "text": [
      "Rows: 12710\n",
      "Columns: 10\n",
      "$ slide_name          <str> 'B-18125-23-ER', 'B-18125-23-ER', 'B-18125-23-ER'\n",
      "$ parent_dir_path     <str> 'train/B-18125-23-ER', 'train/B-18125-23-ER', 'train/B-18125-23-ER'\n",
      "$ relative_image_path <str> 'images/B-18125-23-ER.vsi - 20x [d=3,x=13824,y=0,w=1536,h=1536].jpg', 'images/B-18125-23-ER.vsi - 20x [d=3,x=17664,y=0,w=1536,h=1536].jpg', 'images/B-18125-23-ER.vsi - 20x [d=3,x=16896,y=0,w=1536,h=1536].jpg'\n",
      "$ relative_mask_path  <str> 'masks/B-18125-23-ER.vsi - 20x [d=3,x=13824,y=0,w=1536,h=1536]_label.png', 'masks/B-18125-23-ER.vsi - 20x [d=3,x=17664,y=0,w=1536,h=1536]_label.png', 'masks/B-18125-23-ER.vsi - 20x [d=3,x=16896,y=0,w=1536,h=1536]_label.png'\n",
      "$ tumor_percentage    <f64> 0.6517753601074219, 0.6089324951171875, 0.6018104553222656\n",
      "$ image_size          <i64> 512, 512, 512\n",
      "$ downsample_rate     <f64> 3.0, 3.0, 3.0\n",
      "$ x                   <i64> 13824, 17664, 16896\n",
      "$ y                   <i64> 0, 0, 0\n",
      "$ size_on_slide       <i64> 1536, 1536, 1536\n",
      "\n"
     ]
    }
   ],
   "source": [
    "tiles_df.glimpse(max_items_per_column=3)"
   ]
  },
  {
   "cell_type": "code",
   "execution_count": 21,
   "id": "BYtC",
   "metadata": {},
   "outputs": [
    {
     "data": {
      "text/html": [
       "<div><style>\n",
       ".dataframe > thead > tr,\n",
       ".dataframe > tbody > tr {\n",
       "  text-align: right;\n",
       "  white-space: pre-wrap;\n",
       "}\n",
       "</style>\n",
       "<small>shape: (5, 10)</small><table border=\"1\" class=\"dataframe\"><thead><tr><th>slide_name</th><th>parent_dir_path</th><th>relative_image_path</th><th>relative_mask_path</th><th>tumor_percentage</th><th>image_size</th><th>downsample_rate</th><th>x</th><th>y</th><th>size_on_slide</th></tr><tr><td>str</td><td>str</td><td>str</td><td>str</td><td>f64</td><td>i64</td><td>f64</td><td>i64</td><td>i64</td><td>i64</td></tr></thead><tbody><tr><td>&quot;B-18125-23-ER&quot;</td><td>&quot;train/B-18125-23-ER&quot;</td><td>&quot;images/B-18125-23-ER.vsi - 20x…</td><td>&quot;masks/B-18125-23-ER.vsi - 20x …</td><td>0.651775</td><td>512</td><td>3.0</td><td>13824</td><td>0</td><td>1536</td></tr><tr><td>&quot;B-18125-23-ER&quot;</td><td>&quot;train/B-18125-23-ER&quot;</td><td>&quot;images/B-18125-23-ER.vsi - 20x…</td><td>&quot;masks/B-18125-23-ER.vsi - 20x …</td><td>0.608932</td><td>512</td><td>3.0</td><td>17664</td><td>0</td><td>1536</td></tr><tr><td>&quot;B-18125-23-ER&quot;</td><td>&quot;train/B-18125-23-ER&quot;</td><td>&quot;images/B-18125-23-ER.vsi - 20x…</td><td>&quot;masks/B-18125-23-ER.vsi - 20x …</td><td>0.60181</td><td>512</td><td>3.0</td><td>16896</td><td>0</td><td>1536</td></tr><tr><td>&quot;B-18125-23-ER&quot;</td><td>&quot;train/B-18125-23-ER&quot;</td><td>&quot;images/B-18125-23-ER.vsi - 20x…</td><td>&quot;masks/B-18125-23-ER.vsi - 20x …</td><td>0.751411</td><td>512</td><td>3.0</td><td>10752</td><td>0</td><td>1536</td></tr><tr><td>&quot;B-18125-23-ER&quot;</td><td>&quot;train/B-18125-23-ER&quot;</td><td>&quot;images/B-18125-23-ER.vsi - 20x…</td><td>&quot;masks/B-18125-23-ER.vsi - 20x …</td><td>0.641216</td><td>512</td><td>3.0</td><td>14592</td><td>0</td><td>1536</td></tr></tbody></table></div>"
      ],
      "text/plain": [
       "shape: (5, 10)\n",
       "┌─────────────┬─────────────┬─────────────┬────────────┬───┬────────────┬───────┬─────┬────────────┐\n",
       "│ slide_name  ┆ parent_dir_ ┆ relative_im ┆ relative_m ┆ … ┆ downsample ┆ x     ┆ y   ┆ size_on_sl │\n",
       "│ ---         ┆ path        ┆ age_path    ┆ ask_path   ┆   ┆ _rate      ┆ ---   ┆ --- ┆ ide        │\n",
       "│ str         ┆ ---         ┆ ---         ┆ ---        ┆   ┆ ---        ┆ i64   ┆ i64 ┆ ---        │\n",
       "│             ┆ str         ┆ str         ┆ str        ┆   ┆ f64        ┆       ┆     ┆ i64        │\n",
       "╞═════════════╪═════════════╪═════════════╪════════════╪═══╪════════════╪═══════╪═════╪════════════╡\n",
       "│ B-18125-23- ┆ train/B-181 ┆ images/B-18 ┆ masks/B-18 ┆ … ┆ 3.0        ┆ 13824 ┆ 0   ┆ 1536       │\n",
       "│ ER          ┆ 25-23-ER    ┆ 125-23-ER.v ┆ 125-23-ER. ┆   ┆            ┆       ┆     ┆            │\n",
       "│             ┆             ┆ si - 20x…   ┆ vsi - 20x  ┆   ┆            ┆       ┆     ┆            │\n",
       "│             ┆             ┆             ┆ …          ┆   ┆            ┆       ┆     ┆            │\n",
       "│ B-18125-23- ┆ train/B-181 ┆ images/B-18 ┆ masks/B-18 ┆ … ┆ 3.0        ┆ 17664 ┆ 0   ┆ 1536       │\n",
       "│ ER          ┆ 25-23-ER    ┆ 125-23-ER.v ┆ 125-23-ER. ┆   ┆            ┆       ┆     ┆            │\n",
       "│             ┆             ┆ si - 20x…   ┆ vsi - 20x  ┆   ┆            ┆       ┆     ┆            │\n",
       "│             ┆             ┆             ┆ …          ┆   ┆            ┆       ┆     ┆            │\n",
       "│ B-18125-23- ┆ train/B-181 ┆ images/B-18 ┆ masks/B-18 ┆ … ┆ 3.0        ┆ 16896 ┆ 0   ┆ 1536       │\n",
       "│ ER          ┆ 25-23-ER    ┆ 125-23-ER.v ┆ 125-23-ER. ┆   ┆            ┆       ┆     ┆            │\n",
       "│             ┆             ┆ si - 20x…   ┆ vsi - 20x  ┆   ┆            ┆       ┆     ┆            │\n",
       "│             ┆             ┆             ┆ …          ┆   ┆            ┆       ┆     ┆            │\n",
       "│ B-18125-23- ┆ train/B-181 ┆ images/B-18 ┆ masks/B-18 ┆ … ┆ 3.0        ┆ 10752 ┆ 0   ┆ 1536       │\n",
       "│ ER          ┆ 25-23-ER    ┆ 125-23-ER.v ┆ 125-23-ER. ┆   ┆            ┆       ┆     ┆            │\n",
       "│             ┆             ┆ si - 20x…   ┆ vsi - 20x  ┆   ┆            ┆       ┆     ┆            │\n",
       "│             ┆             ┆             ┆ …          ┆   ┆            ┆       ┆     ┆            │\n",
       "│ B-18125-23- ┆ train/B-181 ┆ images/B-18 ┆ masks/B-18 ┆ … ┆ 3.0        ┆ 14592 ┆ 0   ┆ 1536       │\n",
       "│ ER          ┆ 25-23-ER    ┆ 125-23-ER.v ┆ 125-23-ER. ┆   ┆            ┆       ┆     ┆            │\n",
       "│             ┆             ┆ si - 20x…   ┆ vsi - 20x  ┆   ┆            ┆       ┆     ┆            │\n",
       "│             ┆             ┆             ┆ …          ┆   ┆            ┆       ┆     ┆            │\n",
       "└─────────────┴─────────────┴─────────────┴────────────┴───┴────────────┴───────┴─────┴────────────┘"
      ]
     },
     "execution_count": 21,
     "metadata": {},
     "output_type": "execute_result"
    }
   ],
   "source": [
    "tiles_df.head(5)"
   ]
  },
  {
   "cell_type": "markdown",
   "id": "RGSE",
   "metadata": {},
   "source": [
    "# Slide Information"
   ]
  },
  {
   "cell_type": "code",
   "execution_count": 22,
   "id": "Kclp",
   "metadata": {},
   "outputs": [
    {
     "data": {
      "text/html": [
       "<div><style>\n",
       ".dataframe > thead > tr,\n",
       ".dataframe > tbody > tr {\n",
       "  text-align: right;\n",
       "  white-space: pre-wrap;\n",
       "}\n",
       "</style>\n",
       "<small>shape: (5, 10)</small><table border=\"1\" class=\"dataframe\"><thead><tr><th>category</th><th>slide_name</th><th>downsample_rate</th><th>img_size</th><th>overlap_ratio_per_tile</th><th>only_annotated_tiles</th><th>allow_partial_tiles</th><th>tile_count</th><th>mask_count</th><th>split</th></tr><tr><td>str</td><td>str</td><td>f64</td><td>i64</td><td>f64</td><td>str</td><td>str</td><td>i64</td><td>i64</td><td>str</td></tr></thead><tbody><tr><td>&quot;wsi_tiled&quot;</td><td>&quot;B-18125-23-ER&quot;</td><td>3.0</td><td>512</td><td>0.5</td><td>&quot;T&quot;</td><td>&quot;F&quot;</td><td>1591</td><td>1591</td><td>&quot;train&quot;</td></tr><tr><td>&quot;wsi_tiled&quot;</td><td>&quot;B-20000-23-2-ER&quot;</td><td>3.0</td><td>512</td><td>0.5</td><td>&quot;T&quot;</td><td>&quot;F&quot;</td><td>537</td><td>537</td><td>&quot;train&quot;</td></tr><tr><td>&quot;wsi_tiled&quot;</td><td>&quot;B-20002-23-ER&quot;</td><td>3.0</td><td>512</td><td>0.5</td><td>&quot;T&quot;</td><td>&quot;F&quot;</td><td>699</td><td>699</td><td>&quot;train&quot;</td></tr><tr><td>&quot;wsi_tiled&quot;</td><td>&quot;B-17557-23-KI67&quot;</td><td>3.0</td><td>512</td><td>0.5</td><td>&quot;T&quot;</td><td>&quot;F&quot;</td><td>470</td><td>470</td><td>&quot;train&quot;</td></tr><tr><td>&quot;wsi_tiled&quot;</td><td>&quot;B-19844-23-ER&quot;</td><td>3.0</td><td>512</td><td>0.5</td><td>&quot;T&quot;</td><td>&quot;F&quot;</td><td>2639</td><td>2639</td><td>&quot;train&quot;</td></tr></tbody></table></div>"
      ],
      "text/plain": [
       "shape: (5, 10)\n",
       "┌───────────┬────────────┬────────────┬──────────┬───┬────────────┬────────────┬───────────┬───────┐\n",
       "│ category  ┆ slide_name ┆ downsample ┆ img_size ┆ … ┆ allow_part ┆ tile_count ┆ mask_coun ┆ split │\n",
       "│ ---       ┆ ---        ┆ _rate      ┆ ---      ┆   ┆ ial_tiles  ┆ ---        ┆ t         ┆ ---   │\n",
       "│ str       ┆ str        ┆ ---        ┆ i64      ┆   ┆ ---        ┆ i64        ┆ ---       ┆ str   │\n",
       "│           ┆            ┆ f64        ┆          ┆   ┆ str        ┆            ┆ i64       ┆       │\n",
       "╞═══════════╪════════════╪════════════╪══════════╪═══╪════════════╪════════════╪═══════════╪═══════╡\n",
       "│ wsi_tiled ┆ B-18125-23 ┆ 3.0        ┆ 512      ┆ … ┆ F          ┆ 1591       ┆ 1591      ┆ train │\n",
       "│           ┆ -ER        ┆            ┆          ┆   ┆            ┆            ┆           ┆       │\n",
       "│ wsi_tiled ┆ B-20000-23 ┆ 3.0        ┆ 512      ┆ … ┆ F          ┆ 537        ┆ 537       ┆ train │\n",
       "│           ┆ -2-ER      ┆            ┆          ┆   ┆            ┆            ┆           ┆       │\n",
       "│ wsi_tiled ┆ B-20002-23 ┆ 3.0        ┆ 512      ┆ … ┆ F          ┆ 699        ┆ 699       ┆ train │\n",
       "│           ┆ -ER        ┆            ┆          ┆   ┆            ┆            ┆           ┆       │\n",
       "│ wsi_tiled ┆ B-17557-23 ┆ 3.0        ┆ 512      ┆ … ┆ F          ┆ 470        ┆ 470       ┆ train │\n",
       "│           ┆ -KI67      ┆            ┆          ┆   ┆            ┆            ┆           ┆       │\n",
       "│ wsi_tiled ┆ B-19844-23 ┆ 3.0        ┆ 512      ┆ … ┆ F          ┆ 2639       ┆ 2639      ┆ train │\n",
       "│           ┆ -ER        ┆            ┆          ┆   ┆            ┆            ┆           ┆       │\n",
       "└───────────┴────────────┴────────────┴──────────┴───┴────────────┴────────────┴───────────┴───────┘"
      ]
     },
     "execution_count": 22,
     "metadata": {},
     "output_type": "execute_result"
    }
   ],
   "source": [
    "slide_split_join_df = slide_df.join(split_df, on=\"slide_name\")\n",
    "\n",
    "slide_split_join_df.head(5)"
   ]
  },
  {
   "cell_type": "code",
   "execution_count": 23,
   "id": "emfo",
   "metadata": {},
   "outputs": [
    {
     "data": {
      "text/html": [
       "<div><style>\n",
       ".dataframe > thead > tr,\n",
       ".dataframe > tbody > tr {\n",
       "  text-align: right;\n",
       "  white-space: pre-wrap;\n",
       "}\n",
       "</style>\n",
       "<small>shape: (1, 10)</small><table border=\"1\" class=\"dataframe\"><thead><tr><th>set</th><th>s_count</th><th>s_pct</th><th>t_min</th><th>t_max</th><th>t_avg</th><th>t_std</th><th>t_median</th><th>t_count</th><th>t_pct</th></tr><tr><td>str</td><td>u32</td><td>f64</td><td>i64</td><td>i64</td><td>f64</td><td>f64</td><td>f64</td><td>i64</td><td>f64</td></tr></thead><tbody><tr><td>&quot;ALL&quot;</td><td>164</td><td>100.0</td><td>0</td><td>2639</td><td>78.0</td><td>274.0</td><td>22.0</td><td>12710</td><td>100.0</td></tr></tbody></table></div>"
      ],
      "text/plain": [
       "shape: (1, 10)\n",
       "┌─────┬─────────┬───────┬───────┬───┬───────┬──────────┬─────────┬───────┐\n",
       "│ set ┆ s_count ┆ s_pct ┆ t_min ┆ … ┆ t_std ┆ t_median ┆ t_count ┆ t_pct │\n",
       "│ --- ┆ ---     ┆ ---   ┆ ---   ┆   ┆ ---   ┆ ---      ┆ ---     ┆ ---   │\n",
       "│ str ┆ u32     ┆ f64   ┆ i64   ┆   ┆ f64   ┆ f64      ┆ i64     ┆ f64   │\n",
       "╞═════╪═════════╪═══════╪═══════╪═══╪═══════╪══════════╪═════════╪═══════╡\n",
       "│ ALL ┆ 164     ┆ 100.0 ┆ 0     ┆ … ┆ 274.0 ┆ 22.0     ┆ 12710   ┆ 100.0 │\n",
       "└─────┴─────────┴───────┴───────┴───┴───────┴──────────┴─────────┴───────┘"
      ]
     },
     "execution_count": 23,
     "metadata": {},
     "output_type": "execute_result"
    }
   ],
   "source": [
    "# Overall Information\n",
    "\n",
    "stats = slide_split_join_df[\"tile_count\"]\n",
    "overall = pl.DataFrame({\n",
    "    \"set\": [\"ALL\"],\n",
    "    \"s_count\": [len(slide_split_join_df)],\n",
    "    \"s_pct\": [100.0],\n",
    "    \"t_min\": [stats.min()],\n",
    "    \"t_max\": [stats.max()],\n",
    "    \"t_avg\": [round(stats.mean(), 0)],\n",
    "    \"t_std\": [round(stats.std(), 0)],\n",
    "    \"t_median\": [stats.median()],\n",
    "    \"t_count\": [stats.sum()],\n",
    "    \"t_pct\": [100.0],\n",
    "})\n",
    "\n",
    "overall = overall.cast({\"s_count\": pl.UInt32})\n",
    "\n",
    "overall"
   ]
  },
  {
   "cell_type": "code",
   "execution_count": 24,
   "id": "Hstk",
   "metadata": {},
   "outputs": [
    {
     "data": {
      "text/html": [
       "<div><style>\n",
       ".dataframe > thead > tr,\n",
       ".dataframe > tbody > tr {\n",
       "  text-align: right;\n",
       "  white-space: pre-wrap;\n",
       "}\n",
       "</style>\n",
       "<small>shape: (2, 10)</small><table border=\"1\" class=\"dataframe\"><thead><tr><th>set</th><th>s_count</th><th>s_pct</th><th>t_min</th><th>t_max</th><th>t_avg</th><th>t_std</th><th>t_median</th><th>t_count</th><th>t_pct</th></tr><tr><td>str</td><td>u32</td><td>f64</td><td>i64</td><td>i64</td><td>f64</td><td>f64</td><td>f64</td><td>i64</td><td>f64</td></tr></thead><tbody><tr><td>&quot;wsi_tiled&quot;</td><td>11</td><td>6.71</td><td>284</td><td>2639</td><td>877.0</td><td>682.0</td><td>644.0</td><td>9649</td><td>75.92</td></tr><tr><td>&quot;img_tiled&quot;</td><td>153</td><td>93.29</td><td>0</td><td>36</td><td>20.0</td><td>7.0</td><td>18.0</td><td>3061</td><td>24.08</td></tr></tbody></table></div>"
      ],
      "text/plain": [
       "shape: (2, 10)\n",
       "┌───────────┬─────────┬───────┬───────┬───┬───────┬──────────┬─────────┬───────┐\n",
       "│ set       ┆ s_count ┆ s_pct ┆ t_min ┆ … ┆ t_std ┆ t_median ┆ t_count ┆ t_pct │\n",
       "│ ---       ┆ ---     ┆ ---   ┆ ---   ┆   ┆ ---   ┆ ---      ┆ ---     ┆ ---   │\n",
       "│ str       ┆ u32     ┆ f64   ┆ i64   ┆   ┆ f64   ┆ f64      ┆ i64     ┆ f64   │\n",
       "╞═══════════╪═════════╪═══════╪═══════╪═══╪═══════╪══════════╪═════════╪═══════╡\n",
       "│ wsi_tiled ┆ 11      ┆ 6.71  ┆ 284   ┆ … ┆ 682.0 ┆ 644.0    ┆ 9649    ┆ 75.92 │\n",
       "│ img_tiled ┆ 153     ┆ 93.29 ┆ 0     ┆ … ┆ 7.0   ┆ 18.0     ┆ 3061    ┆ 24.08 │\n",
       "└───────────┴─────────┴───────┴───────┴───┴───────┴──────────┴─────────┴───────┘"
      ]
     },
     "execution_count": 24,
     "metadata": {},
     "output_type": "execute_result"
    }
   ],
   "source": [
    "# Category-wise Information\n",
    "\n",
    "per_category = (\n",
    "    slide_split_join_df\n",
    "    .group_by(\"category\")\n",
    "    .agg([\n",
    "        pl.len().alias(\"s_count\"),\n",
    "        pl.col(\"tile_count\").min().alias(\"t_min\"),\n",
    "        pl.col(\"tile_count\").max().alias(\"t_max\"),\n",
    "        pl.col(\"tile_count\").mean().round(0).alias(\"t_avg\"),\n",
    "        pl.col(\"tile_count\").std().round(0).alias(\"t_std\"),\n",
    "        pl.col(\"tile_count\").median().alias(\"t_median\"),\n",
    "        pl.col(\"tile_count\").sum().alias(\"t_count\"),\n",
    "    ])\n",
    "    .with_columns(\n",
    "        (pl.col(\"s_count\") / pl.col(\"s_count\").sum() * 100).round(2).alias(\"s_pct\"),\n",
    "        (pl.col(\"t_count\") / pl.col(\"t_count\").sum() * 100).round(2).alias(\"t_pct\")\n",
    "    )\n",
    "    .sort(by=\"t_count\", descending=True)\n",
    ")\n",
    "\n",
    "per_category = per_category.rename({\"category\": \"set\"})\n",
    "per_category = per_category.select(overall.columns)\n",
    "\n",
    "per_category"
   ]
  },
  {
   "cell_type": "code",
   "execution_count": 25,
   "id": "nWHF",
   "metadata": {},
   "outputs": [
    {
     "data": {
      "text/html": [
       "<div><style>\n",
       ".dataframe > thead > tr,\n",
       ".dataframe > tbody > tr {\n",
       "  text-align: right;\n",
       "  white-space: pre-wrap;\n",
       "}\n",
       "</style>\n",
       "<small>shape: (3, 10)</small><table border=\"1\" class=\"dataframe\"><thead><tr><th>set</th><th>s_count</th><th>s_pct</th><th>t_min</th><th>t_max</th><th>t_avg</th><th>t_std</th><th>t_median</th><th>t_count</th><th>t_pct</th></tr><tr><td>str</td><td>u32</td><td>f64</td><td>i64</td><td>i64</td><td>f64</td><td>f64</td><td>f64</td><td>i64</td><td>f64</td></tr></thead><tbody><tr><td>&quot;train&quot;</td><td>99</td><td>60.37</td><td>0</td><td>2639</td><td>90.0</td><td>328.0</td><td>24.0</td><td>8936</td><td>70.31</td></tr><tr><td>&quot;val&quot;</td><td>33</td><td>20.12</td><td>11</td><td>963</td><td>64.0</td><td>183.0</td><td>22.0</td><td>2120</td><td>16.68</td></tr><tr><td>&quot;test&quot;</td><td>32</td><td>19.51</td><td>0</td><td>644</td><td>52.0</td><td>133.0</td><td>16.0</td><td>1654</td><td>13.01</td></tr></tbody></table></div>"
      ],
      "text/plain": [
       "shape: (3, 10)\n",
       "┌───────┬─────────┬───────┬───────┬───┬───────┬──────────┬─────────┬───────┐\n",
       "│ set   ┆ s_count ┆ s_pct ┆ t_min ┆ … ┆ t_std ┆ t_median ┆ t_count ┆ t_pct │\n",
       "│ ---   ┆ ---     ┆ ---   ┆ ---   ┆   ┆ ---   ┆ ---      ┆ ---     ┆ ---   │\n",
       "│ str   ┆ u32     ┆ f64   ┆ i64   ┆   ┆ f64   ┆ f64      ┆ i64     ┆ f64   │\n",
       "╞═══════╪═════════╪═══════╪═══════╪═══╪═══════╪══════════╪═════════╪═══════╡\n",
       "│ train ┆ 99      ┆ 60.37 ┆ 0     ┆ … ┆ 328.0 ┆ 24.0     ┆ 8936    ┆ 70.31 │\n",
       "│ val   ┆ 33      ┆ 20.12 ┆ 11    ┆ … ┆ 183.0 ┆ 22.0     ┆ 2120    ┆ 16.68 │\n",
       "│ test  ┆ 32      ┆ 19.51 ┆ 0     ┆ … ┆ 133.0 ┆ 16.0     ┆ 1654    ┆ 13.01 │\n",
       "└───────┴─────────┴───────┴───────┴───┴───────┴──────────┴─────────┴───────┘"
      ]
     },
     "execution_count": 25,
     "metadata": {},
     "output_type": "execute_result"
    }
   ],
   "source": [
    "# Split-wise Information\n",
    "\n",
    "per_split = (\n",
    "    slide_split_join_df\n",
    "    .group_by(\"split\")\n",
    "    .agg([\n",
    "        pl.len().alias(\"s_count\"),\n",
    "        pl.col(\"tile_count\").min().alias(\"t_min\"),\n",
    "        pl.col(\"tile_count\").max().alias(\"t_max\"),\n",
    "        pl.col(\"tile_count\").mean().round(0).alias(\"t_avg\"),\n",
    "        pl.col(\"tile_count\").std().round(0).alias(\"t_std\"),\n",
    "        pl.col(\"tile_count\").median().alias(\"t_median\"),\n",
    "        pl.col(\"tile_count\").sum().alias(\"t_count\"),\n",
    "    ])\n",
    "    .with_columns(\n",
    "        (pl.col(\"s_count\") / pl.col(\"s_count\").sum() * 100).round(2).alias(\"s_pct\"),\n",
    "        (pl.col(\"t_count\") / pl.col(\"t_count\").sum() * 100).round(2).alias(\"t_pct\")\n",
    "    )\n",
    "    .sort(by=[\"t_count\"], descending=True)\n",
    ")\n",
    "\n",
    "per_split = per_split.rename({\"split\": \"set\"})\n",
    "per_split = per_split.select(overall.columns)\n",
    "\n",
    "per_split"
   ]
  },
  {
   "cell_type": "code",
   "execution_count": 26,
   "id": "iLit",
   "metadata": {},
   "outputs": [
    {
     "data": {
      "text/html": [
       "<div><style>\n",
       ".dataframe > thead > tr,\n",
       ".dataframe > tbody > tr {\n",
       "  text-align: right;\n",
       "  white-space: pre-wrap;\n",
       "}\n",
       "</style>\n",
       "<small>shape: (6, 10)</small><table border=\"1\" class=\"dataframe\"><thead><tr><th>set</th><th>s_count</th><th>s_pct</th><th>t_min</th><th>t_max</th><th>t_avg</th><th>t_std</th><th>t_median</th><th>t_count</th><th>t_pct</th></tr><tr><td>str</td><td>u32</td><td>f64</td><td>i64</td><td>i64</td><td>f64</td><td>f64</td><td>f64</td><td>i64</td><td>f64</td></tr></thead><tbody><tr><td>&quot;wsi_tiled_train&quot;</td><td>7</td><td>4.27</td><td>284</td><td>2639</td><td>1010.0</td><td>832.0</td><td>699.0</td><td>7070</td><td>55.63</td></tr><tr><td>&quot;img_tiled_train&quot;</td><td>92</td><td>56.1</td><td>0</td><td>36</td><td>20.0</td><td>7.0</td><td>19.0</td><td>1866</td><td>14.68</td></tr><tr><td>&quot;wsi_tiled_val&quot;</td><td>2</td><td>1.22</td><td>513</td><td>963</td><td>738.0</td><td>318.0</td><td>738.0</td><td>1476</td><td>11.61</td></tr><tr><td>&quot;wsi_tiled_test&quot;</td><td>2</td><td>1.22</td><td>459</td><td>644</td><td>552.0</td><td>131.0</td><td>551.5</td><td>1103</td><td>8.68</td></tr><tr><td>&quot;img_tiled_val&quot;</td><td>31</td><td>18.9</td><td>11</td><td>35</td><td>21.0</td><td>6.0</td><td>22.0</td><td>644</td><td>5.07</td></tr><tr><td>&quot;img_tiled_test&quot;</td><td>30</td><td>18.29</td><td>0</td><td>35</td><td>18.0</td><td>7.0</td><td>16.0</td><td>551</td><td>4.34</td></tr></tbody></table></div>"
      ],
      "text/plain": [
       "shape: (6, 10)\n",
       "┌─────────────────┬─────────┬───────┬───────┬───┬───────┬──────────┬─────────┬───────┐\n",
       "│ set             ┆ s_count ┆ s_pct ┆ t_min ┆ … ┆ t_std ┆ t_median ┆ t_count ┆ t_pct │\n",
       "│ ---             ┆ ---     ┆ ---   ┆ ---   ┆   ┆ ---   ┆ ---      ┆ ---     ┆ ---   │\n",
       "│ str             ┆ u32     ┆ f64   ┆ i64   ┆   ┆ f64   ┆ f64      ┆ i64     ┆ f64   │\n",
       "╞═════════════════╪═════════╪═══════╪═══════╪═══╪═══════╪══════════╪═════════╪═══════╡\n",
       "│ wsi_tiled_train ┆ 7       ┆ 4.27  ┆ 284   ┆ … ┆ 832.0 ┆ 699.0    ┆ 7070    ┆ 55.63 │\n",
       "│ img_tiled_train ┆ 92      ┆ 56.1  ┆ 0     ┆ … ┆ 7.0   ┆ 19.0     ┆ 1866    ┆ 14.68 │\n",
       "│ wsi_tiled_val   ┆ 2       ┆ 1.22  ┆ 513   ┆ … ┆ 318.0 ┆ 738.0    ┆ 1476    ┆ 11.61 │\n",
       "│ wsi_tiled_test  ┆ 2       ┆ 1.22  ┆ 459   ┆ … ┆ 131.0 ┆ 551.5    ┆ 1103    ┆ 8.68  │\n",
       "│ img_tiled_val   ┆ 31      ┆ 18.9  ┆ 11    ┆ … ┆ 6.0   ┆ 22.0     ┆ 644     ┆ 5.07  │\n",
       "│ img_tiled_test  ┆ 30      ┆ 18.29 ┆ 0     ┆ … ┆ 7.0   ┆ 16.0     ┆ 551     ┆ 4.34  │\n",
       "└─────────────────┴─────────┴───────┴───────┴───┴───────┴──────────┴─────────┴───────┘"
      ]
     },
     "execution_count": 26,
     "metadata": {},
     "output_type": "execute_result"
    }
   ],
   "source": [
    "# Category-wise & Split-wise Information\n",
    "\n",
    "per_category_split = (\n",
    "    slide_split_join_df\n",
    "    .group_by([\"category\", \"split\"])\n",
    "    .agg([\n",
    "        pl.len().alias(\"s_count\"),\n",
    "        pl.col(\"tile_count\").min().alias(\"t_min\"),\n",
    "        pl.col(\"tile_count\").max().alias(\"t_max\"),\n",
    "        pl.col(\"tile_count\").mean().round(0).alias(\"t_avg\"),\n",
    "        pl.col(\"tile_count\").std().round(0).alias(\"t_std\"),\n",
    "        pl.col(\"tile_count\").median().alias(\"t_median\"),\n",
    "        pl.col(\"tile_count\").sum().alias(\"t_count\"),\n",
    "    ])\n",
    "    .with_columns(\n",
    "        (pl.col(\"s_count\") / pl.col(\"s_count\").sum() * 100).round(2).alias(\"s_pct\"),\n",
    "        (pl.col(\"t_count\") / pl.col(\"t_count\").sum() * 100).round(2).alias(\"t_pct\"),\n",
    "        pl.format(\"{}_{}\", pl.col(\"category\"), pl.col(\"split\")).alias(\"set\")\n",
    "    )\n",
    "    .sort(by=[\"t_count\"], descending=True)\n",
    ")\n",
    "\n",
    "per_category_split.drop_in_place(\"category\")\n",
    "per_category_split.drop_in_place(\"split\")\n",
    "per_category_split = per_category_split.select(overall.columns)\n",
    "\n",
    "per_category_split"
   ]
  },
  {
   "cell_type": "code",
   "execution_count": 27,
   "id": "ZHCJ",
   "metadata": {},
   "outputs": [
    {
     "data": {
      "text/html": [
       "<div><style>\n",
       ".dataframe > thead > tr,\n",
       ".dataframe > tbody > tr {\n",
       "  text-align: right;\n",
       "  white-space: pre-wrap;\n",
       "}\n",
       "</style>\n",
       "<small>shape: (12, 10)</small><table border=\"1\" class=\"dataframe\"><thead><tr><th>set</th><th>s_count</th><th>s_pct</th><th>t_min</th><th>t_max</th><th>t_avg</th><th>t_std</th><th>t_median</th><th>t_count</th><th>t_pct</th></tr><tr><td>str</td><td>u32</td><td>f64</td><td>i64</td><td>i64</td><td>f64</td><td>f64</td><td>f64</td><td>i64</td><td>f64</td></tr></thead><tbody><tr><td>&quot;ALL&quot;</td><td>164</td><td>100.0</td><td>0</td><td>2639</td><td>78.0</td><td>274.0</td><td>22.0</td><td>12710</td><td>100.0</td></tr><tr><td>&quot;wsi_tiled&quot;</td><td>11</td><td>6.71</td><td>284</td><td>2639</td><td>877.0</td><td>682.0</td><td>644.0</td><td>9649</td><td>75.92</td></tr><tr><td>&quot;img_tiled&quot;</td><td>153</td><td>93.29</td><td>0</td><td>36</td><td>20.0</td><td>7.0</td><td>18.0</td><td>3061</td><td>24.08</td></tr><tr><td>&quot;train&quot;</td><td>99</td><td>60.37</td><td>0</td><td>2639</td><td>90.0</td><td>328.0</td><td>24.0</td><td>8936</td><td>70.31</td></tr><tr><td>&quot;val&quot;</td><td>33</td><td>20.12</td><td>11</td><td>963</td><td>64.0</td><td>183.0</td><td>22.0</td><td>2120</td><td>16.68</td></tr><tr><td>&hellip;</td><td>&hellip;</td><td>&hellip;</td><td>&hellip;</td><td>&hellip;</td><td>&hellip;</td><td>&hellip;</td><td>&hellip;</td><td>&hellip;</td><td>&hellip;</td></tr><tr><td>&quot;img_tiled_train&quot;</td><td>92</td><td>56.1</td><td>0</td><td>36</td><td>20.0</td><td>7.0</td><td>19.0</td><td>1866</td><td>14.68</td></tr><tr><td>&quot;wsi_tiled_val&quot;</td><td>2</td><td>1.22</td><td>513</td><td>963</td><td>738.0</td><td>318.0</td><td>738.0</td><td>1476</td><td>11.61</td></tr><tr><td>&quot;wsi_tiled_test&quot;</td><td>2</td><td>1.22</td><td>459</td><td>644</td><td>552.0</td><td>131.0</td><td>551.5</td><td>1103</td><td>8.68</td></tr><tr><td>&quot;img_tiled_val&quot;</td><td>31</td><td>18.9</td><td>11</td><td>35</td><td>21.0</td><td>6.0</td><td>22.0</td><td>644</td><td>5.07</td></tr><tr><td>&quot;img_tiled_test&quot;</td><td>30</td><td>18.29</td><td>0</td><td>35</td><td>18.0</td><td>7.0</td><td>16.0</td><td>551</td><td>4.34</td></tr></tbody></table></div>"
      ],
      "text/plain": [
       "shape: (12, 10)\n",
       "┌─────────────────┬─────────┬───────┬───────┬───┬───────┬──────────┬─────────┬───────┐\n",
       "│ set             ┆ s_count ┆ s_pct ┆ t_min ┆ … ┆ t_std ┆ t_median ┆ t_count ┆ t_pct │\n",
       "│ ---             ┆ ---     ┆ ---   ┆ ---   ┆   ┆ ---   ┆ ---      ┆ ---     ┆ ---   │\n",
       "│ str             ┆ u32     ┆ f64   ┆ i64   ┆   ┆ f64   ┆ f64      ┆ i64     ┆ f64   │\n",
       "╞═════════════════╪═════════╪═══════╪═══════╪═══╪═══════╪══════════╪═════════╪═══════╡\n",
       "│ ALL             ┆ 164     ┆ 100.0 ┆ 0     ┆ … ┆ 274.0 ┆ 22.0     ┆ 12710   ┆ 100.0 │\n",
       "│ wsi_tiled       ┆ 11      ┆ 6.71  ┆ 284   ┆ … ┆ 682.0 ┆ 644.0    ┆ 9649    ┆ 75.92 │\n",
       "│ img_tiled       ┆ 153     ┆ 93.29 ┆ 0     ┆ … ┆ 7.0   ┆ 18.0     ┆ 3061    ┆ 24.08 │\n",
       "│ train           ┆ 99      ┆ 60.37 ┆ 0     ┆ … ┆ 328.0 ┆ 24.0     ┆ 8936    ┆ 70.31 │\n",
       "│ val             ┆ 33      ┆ 20.12 ┆ 11    ┆ … ┆ 183.0 ┆ 22.0     ┆ 2120    ┆ 16.68 │\n",
       "│ …               ┆ …       ┆ …     ┆ …     ┆ … ┆ …     ┆ …        ┆ …       ┆ …     │\n",
       "│ img_tiled_train ┆ 92      ┆ 56.1  ┆ 0     ┆ … ┆ 7.0   ┆ 19.0     ┆ 1866    ┆ 14.68 │\n",
       "│ wsi_tiled_val   ┆ 2       ┆ 1.22  ┆ 513   ┆ … ┆ 318.0 ┆ 738.0    ┆ 1476    ┆ 11.61 │\n",
       "│ wsi_tiled_test  ┆ 2       ┆ 1.22  ┆ 459   ┆ … ┆ 131.0 ┆ 551.5    ┆ 1103    ┆ 8.68  │\n",
       "│ img_tiled_val   ┆ 31      ┆ 18.9  ┆ 11    ┆ … ┆ 6.0   ┆ 22.0     ┆ 644     ┆ 5.07  │\n",
       "│ img_tiled_test  ┆ 30      ┆ 18.29 ┆ 0     ┆ … ┆ 7.0   ┆ 16.0     ┆ 551     ┆ 4.34  │\n",
       "└─────────────────┴─────────┴───────┴───────┴───┴───────┴──────────┴─────────┴───────┘"
      ]
     },
     "execution_count": 27,
     "metadata": {},
     "output_type": "execute_result"
    }
   ],
   "source": [
    "# All Slide Type Information\n",
    "\n",
    "all_slide_metrics_df = pl.concat([overall, per_category, per_split, per_category_split])\n",
    "\n",
    "all_slide_metrics_df"
   ]
  },
  {
   "cell_type": "markdown",
   "id": "ROlb",
   "metadata": {},
   "source": [
    "# Tile Information"
   ]
  },
  {
   "cell_type": "code",
   "execution_count": 28,
   "id": "qnkX",
   "metadata": {},
   "outputs": [
    {
     "data": {
      "text/html": [
       "<div><style>\n",
       ".dataframe > thead > tr,\n",
       ".dataframe > tbody > tr {\n",
       "  text-align: right;\n",
       "  white-space: pre-wrap;\n",
       "}\n",
       "</style>\n",
       "<small>shape: (5, 19)</small><table border=\"1\" class=\"dataframe\"><thead><tr><th>category</th><th>slide_name</th><th>downsample_rate</th><th>img_size</th><th>overlap_ratio_per_tile</th><th>only_annotated_tiles</th><th>allow_partial_tiles</th><th>tile_count</th><th>mask_count</th><th>split</th><th>parent_dir_path</th><th>relative_image_path</th><th>relative_mask_path</th><th>tumor_percentage</th><th>image_size</th><th>downsample_rate_right</th><th>x</th><th>y</th><th>size_on_slide</th></tr><tr><td>str</td><td>str</td><td>f64</td><td>i64</td><td>f64</td><td>str</td><td>str</td><td>i64</td><td>i64</td><td>str</td><td>str</td><td>str</td><td>str</td><td>f64</td><td>i64</td><td>f64</td><td>i64</td><td>i64</td><td>i64</td></tr></thead><tbody><tr><td>&quot;wsi_tiled&quot;</td><td>&quot;B-18125-23-ER&quot;</td><td>3.0</td><td>512</td><td>0.5</td><td>&quot;T&quot;</td><td>&quot;F&quot;</td><td>1591</td><td>1591</td><td>&quot;train&quot;</td><td>&quot;train/B-18125-23-ER&quot;</td><td>&quot;images/B-18125-23-ER.vsi - 20x…</td><td>&quot;masks/B-18125-23-ER.vsi - 20x …</td><td>0.651775</td><td>512</td><td>3.0</td><td>13824</td><td>0</td><td>1536</td></tr><tr><td>&quot;wsi_tiled&quot;</td><td>&quot;B-18125-23-ER&quot;</td><td>3.0</td><td>512</td><td>0.5</td><td>&quot;T&quot;</td><td>&quot;F&quot;</td><td>1591</td><td>1591</td><td>&quot;train&quot;</td><td>&quot;train/B-18125-23-ER&quot;</td><td>&quot;images/B-18125-23-ER.vsi - 20x…</td><td>&quot;masks/B-18125-23-ER.vsi - 20x …</td><td>0.608932</td><td>512</td><td>3.0</td><td>17664</td><td>0</td><td>1536</td></tr><tr><td>&quot;wsi_tiled&quot;</td><td>&quot;B-18125-23-ER&quot;</td><td>3.0</td><td>512</td><td>0.5</td><td>&quot;T&quot;</td><td>&quot;F&quot;</td><td>1591</td><td>1591</td><td>&quot;train&quot;</td><td>&quot;train/B-18125-23-ER&quot;</td><td>&quot;images/B-18125-23-ER.vsi - 20x…</td><td>&quot;masks/B-18125-23-ER.vsi - 20x …</td><td>0.60181</td><td>512</td><td>3.0</td><td>16896</td><td>0</td><td>1536</td></tr><tr><td>&quot;wsi_tiled&quot;</td><td>&quot;B-18125-23-ER&quot;</td><td>3.0</td><td>512</td><td>0.5</td><td>&quot;T&quot;</td><td>&quot;F&quot;</td><td>1591</td><td>1591</td><td>&quot;train&quot;</td><td>&quot;train/B-18125-23-ER&quot;</td><td>&quot;images/B-18125-23-ER.vsi - 20x…</td><td>&quot;masks/B-18125-23-ER.vsi - 20x …</td><td>0.751411</td><td>512</td><td>3.0</td><td>10752</td><td>0</td><td>1536</td></tr><tr><td>&quot;wsi_tiled&quot;</td><td>&quot;B-18125-23-ER&quot;</td><td>3.0</td><td>512</td><td>0.5</td><td>&quot;T&quot;</td><td>&quot;F&quot;</td><td>1591</td><td>1591</td><td>&quot;train&quot;</td><td>&quot;train/B-18125-23-ER&quot;</td><td>&quot;images/B-18125-23-ER.vsi - 20x…</td><td>&quot;masks/B-18125-23-ER.vsi - 20x …</td><td>0.641216</td><td>512</td><td>3.0</td><td>14592</td><td>0</td><td>1536</td></tr></tbody></table></div>"
      ],
      "text/plain": [
       "shape: (5, 19)\n",
       "┌───────────┬──────────────┬──────────────┬──────────┬───┬─────────────┬───────┬─────┬─────────────┐\n",
       "│ category  ┆ slide_name   ┆ downsample_r ┆ img_size ┆ … ┆ downsample_ ┆ x     ┆ y   ┆ size_on_sli │\n",
       "│ ---       ┆ ---          ┆ ate          ┆ ---      ┆   ┆ rate_right  ┆ ---   ┆ --- ┆ de          │\n",
       "│ str       ┆ str          ┆ ---          ┆ i64      ┆   ┆ ---         ┆ i64   ┆ i64 ┆ ---         │\n",
       "│           ┆              ┆ f64          ┆          ┆   ┆ f64         ┆       ┆     ┆ i64         │\n",
       "╞═══════════╪══════════════╪══════════════╪══════════╪═══╪═════════════╪═══════╪═════╪═════════════╡\n",
       "│ wsi_tiled ┆ B-18125-23-E ┆ 3.0          ┆ 512      ┆ … ┆ 3.0         ┆ 13824 ┆ 0   ┆ 1536        │\n",
       "│           ┆ R            ┆              ┆          ┆   ┆             ┆       ┆     ┆             │\n",
       "│ wsi_tiled ┆ B-18125-23-E ┆ 3.0          ┆ 512      ┆ … ┆ 3.0         ┆ 17664 ┆ 0   ┆ 1536        │\n",
       "│           ┆ R            ┆              ┆          ┆   ┆             ┆       ┆     ┆             │\n",
       "│ wsi_tiled ┆ B-18125-23-E ┆ 3.0          ┆ 512      ┆ … ┆ 3.0         ┆ 16896 ┆ 0   ┆ 1536        │\n",
       "│           ┆ R            ┆              ┆          ┆   ┆             ┆       ┆     ┆             │\n",
       "│ wsi_tiled ┆ B-18125-23-E ┆ 3.0          ┆ 512      ┆ … ┆ 3.0         ┆ 10752 ┆ 0   ┆ 1536        │\n",
       "│           ┆ R            ┆              ┆          ┆   ┆             ┆       ┆     ┆             │\n",
       "│ wsi_tiled ┆ B-18125-23-E ┆ 3.0          ┆ 512      ┆ … ┆ 3.0         ┆ 14592 ┆ 0   ┆ 1536        │\n",
       "│           ┆ R            ┆              ┆          ┆   ┆             ┆       ┆     ┆             │\n",
       "└───────────┴──────────────┴──────────────┴──────────┴───┴─────────────┴───────┴─────┴─────────────┘"
      ]
     },
     "execution_count": 28,
     "metadata": {},
     "output_type": "execute_result"
    }
   ],
   "source": [
    "combined_df = slide_split_join_df.join(tiles_df, on=\"slide_name\")\n",
    "\n",
    "combined_df.head(5)"
   ]
  },
  {
   "cell_type": "code",
   "execution_count": 29,
   "id": "TqIu",
   "metadata": {},
   "outputs": [
    {
     "data": {
      "text/html": [
       "<div><style>\n",
       ".dataframe > thead > tr,\n",
       ".dataframe > tbody > tr {\n",
       "  text-align: right;\n",
       "  white-space: pre-wrap;\n",
       "}\n",
       "</style>\n",
       "<small>shape: (1, 6)</small><table border=\"1\" class=\"dataframe\"><thead><tr><th>set</th><th>min</th><th>max</th><th>avg</th><th>std</th><th>median</th></tr><tr><td>str</td><td>f64</td><td>f64</td><td>f64</td><td>f64</td><td>f64</td></tr></thead><tbody><tr><td>&quot;ALL&quot;</td><td>0.0</td><td>1.0</td><td>0.35</td><td>0.26</td><td>0.32</td></tr></tbody></table></div>"
      ],
      "text/plain": [
       "shape: (1, 6)\n",
       "┌─────┬─────┬─────┬──────┬──────┬────────┐\n",
       "│ set ┆ min ┆ max ┆ avg  ┆ std  ┆ median │\n",
       "│ --- ┆ --- ┆ --- ┆ ---  ┆ ---  ┆ ---    │\n",
       "│ str ┆ f64 ┆ f64 ┆ f64  ┆ f64  ┆ f64    │\n",
       "╞═════╪═════╪═════╪══════╪══════╪════════╡\n",
       "│ ALL ┆ 0.0 ┆ 1.0 ┆ 0.35 ┆ 0.26 ┆ 0.32   │\n",
       "└─────┴─────┴─────┴──────┴──────┴────────┘"
      ]
     },
     "execution_count": 29,
     "metadata": {},
     "output_type": "execute_result"
    }
   ],
   "source": [
    "# Overall Tile Tumor Percentage Stats\n",
    "\n",
    "tile_stats = combined_df[\"tumor_percentage\"]\n",
    "overall_tile = pl.DataFrame({\n",
    "    \"set\": [\"ALL\"],\n",
    "    \"min\": [round(tile_stats.min(), 2)],\n",
    "    \"max\": [round(tile_stats.max(), 2)],\n",
    "    \"avg\": [round(tile_stats.mean(), 2)],\n",
    "    \"std\": [round(tile_stats.std(), 2)],\n",
    "    \"median\": [round(tile_stats.median(), 2)],\n",
    "})\n",
    "\n",
    "\n",
    "overall_tile"
   ]
  },
  {
   "cell_type": "code",
   "execution_count": 30,
   "id": "Vxnm",
   "metadata": {},
   "outputs": [
    {
     "data": {
      "text/html": [
       "<div><style>\n",
       ".dataframe > thead > tr,\n",
       ".dataframe > tbody > tr {\n",
       "  text-align: right;\n",
       "  white-space: pre-wrap;\n",
       "}\n",
       "</style>\n",
       "<small>shape: (3, 6)</small><table border=\"1\" class=\"dataframe\"><thead><tr><th>set</th><th>min</th><th>max</th><th>avg</th><th>std</th><th>median</th></tr><tr><td>str</td><td>f64</td><td>f64</td><td>f64</td><td>f64</td><td>f64</td></tr></thead><tbody><tr><td>&quot;val&quot;</td><td>0.0</td><td>1.0</td><td>0.34</td><td>0.27</td><td>0.28</td></tr><tr><td>&quot;train&quot;</td><td>0.0</td><td>1.0</td><td>0.36</td><td>0.25</td><td>0.35</td></tr><tr><td>&quot;test&quot;</td><td>0.0</td><td>1.0</td><td>0.3</td><td>0.26</td><td>0.24</td></tr></tbody></table></div>"
      ],
      "text/plain": [
       "shape: (3, 6)\n",
       "┌───────┬─────┬─────┬──────┬──────┬────────┐\n",
       "│ set   ┆ min ┆ max ┆ avg  ┆ std  ┆ median │\n",
       "│ ---   ┆ --- ┆ --- ┆ ---  ┆ ---  ┆ ---    │\n",
       "│ str   ┆ f64 ┆ f64 ┆ f64  ┆ f64  ┆ f64    │\n",
       "╞═══════╪═════╪═════╪══════╪══════╪════════╡\n",
       "│ val   ┆ 0.0 ┆ 1.0 ┆ 0.34 ┆ 0.27 ┆ 0.28   │\n",
       "│ train ┆ 0.0 ┆ 1.0 ┆ 0.36 ┆ 0.25 ┆ 0.35   │\n",
       "│ test  ┆ 0.0 ┆ 1.0 ┆ 0.3  ┆ 0.26 ┆ 0.24   │\n",
       "└───────┴─────┴─────┴──────┴──────┴────────┘"
      ]
     },
     "execution_count": 30,
     "metadata": {},
     "output_type": "execute_result"
    }
   ],
   "source": [
    "# Per Split Set Tile Tumor Percentage Stats\n",
    "\n",
    "per_split_tile = (\n",
    "    combined_df\n",
    "    .group_by(\"split\")\n",
    "    .agg([\n",
    "        pl.col(\"tumor_percentage\").min().round(2).alias(\"min\"),\n",
    "        pl.col(\"tumor_percentage\").max().round(2).alias(\"max\"),\n",
    "        pl.col(\"tumor_percentage\").mean().round(2).alias(\"avg\"),\n",
    "        pl.col(\"tumor_percentage\").std().round(2).alias(\"std\"),\n",
    "        pl.col(\"tumor_percentage\").median().round(2).alias(\"median\"),\n",
    "    ])\n",
    "    .with_columns(\n",
    "    )\n",
    "    .sort(by=[\"split\"], descending=True)\n",
    ")\n",
    "\n",
    "per_split_tile = per_split_tile.rename({\"split\": \"set\"})\n",
    "\n",
    "per_split_tile"
   ]
  }
 ],
 "metadata": {
  "language_info": {
   "name": "python"
  }
 },
 "nbformat": 4,
 "nbformat_minor": 5
}
