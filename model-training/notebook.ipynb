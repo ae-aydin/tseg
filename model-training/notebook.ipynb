{
 "cells": [
  {
   "cell_type": "code",
   "execution_count": 9,
   "id": "Hbol",
   "metadata": {},
   "outputs": [],
   "source": [
    "import polars as pl\n",
    "from pathlib import Path"
   ]
  },
  {
   "cell_type": "code",
   "execution_count": 10,
   "id": "MJUe",
   "metadata": {},
   "outputs": [],
   "source": [
    "DATASET_PATH = Path(\"~/Playground/tiles/dataset-combined-512-256-jpg/\")\n",
    "\n",
    "split_df = pl.read_csv(DATASET_PATH / \"metadata\" / \"split_info.csv\")\n",
    "slide_df = pl.read_csv(DATASET_PATH / \"metadata\" / \"slide_info.csv\")\n",
    "tiles_df = pl.read_csv(DATASET_PATH / \"metadata\" / \"tile_info.csv\")"
   ]
  },
  {
   "cell_type": "code",
   "execution_count": 11,
   "id": "vblA",
   "metadata": {},
   "outputs": [
    {
     "name": "stdout",
     "output_type": "stream",
     "text": [
      "Rows: 164\n",
      "Columns: 2\n",
      "$ slide_name <str> 'B-18125-23-ER', 'B-20000-23-2-ER', 'B-20002-23-ER', 'B-17557-23-KI67', 'B-19844-23-ER'\n",
      "$ split      <str> 'train', 'train', 'train', 'train', 'train'\n",
      "\n"
     ]
    }
   ],
   "source": [
    "split_df.glimpse(max_items_per_column=5)"
   ]
  },
  {
   "cell_type": "code",
   "execution_count": 12,
   "id": "bkHC",
   "metadata": {},
   "outputs": [
    {
     "name": "stdout",
     "output_type": "stream",
     "text": [
      "Rows: 164\n",
      "Columns: 9\n",
      "$ category               <str> 'wsi_tiled', 'wsi_tiled', 'wsi_tiled', 'wsi_tiled', 'wsi_tiled'\n",
      "$ slide_name             <str> 'B-18125-23-ER', 'B-20000-23-2-ER', 'B-20002-23-ER', 'B-17557-23-KI67', 'B-19844-23-ER'\n",
      "$ downsample_rate        <f64> 3.0, 3.0, 3.0, 3.0, 3.0\n",
      "$ img_size               <i64> 512, 512, 512, 512, 512\n",
      "$ overlap_ratio_per_tile <f64> 0.5, 0.5, 0.5, 0.5, 0.5\n",
      "$ only_annotated_tiles   <str> 'T', 'T', 'T', 'T', 'T'\n",
      "$ allow_partial_tiles    <str> 'F', 'F', 'F', 'F', 'F'\n",
      "$ tile_count             <i64> 1591, 537, 699, 470, 2639\n",
      "$ mask_count             <i64> 1591, 537, 699, 470, 2639\n",
      "\n"
     ]
    }
   ],
   "source": [
    "slide_df.glimpse(max_items_per_column=5)"
   ]
  },
  {
   "cell_type": "code",
   "execution_count": 13,
   "id": "lEQa",
   "metadata": {},
   "outputs": [
    {
     "name": "stdout",
     "output_type": "stream",
     "text": [
      "Rows: 12710\n",
      "Columns: 10\n",
      "$ slide_name          <str> 'B-18125-23-ER', 'B-18125-23-ER', 'B-18125-23-ER', 'B-18125-23-ER', 'B-18125-23-ER'\n",
      "$ parent_dir_path     <str> 'train/B-18125-23-ER', 'train/B-18125-23-ER', 'train/B-18125-23-ER', 'train/B-18125-23-ER', 'train/B-18125-23-ER'\n",
      "$ relative_image_path <str> 'images/B-18125-23-ER.vsi - 20x [d=3,x=13824,y=0,w=1536,h=1536].jpg', 'images/B-18125-23-ER.vsi - 20x [d=3,x=17664,y=0,w=1536,h=1536].jpg', 'images/B-18125-23-ER.vsi - 20x [d=3,x=16896,y=0,w=1536,h=1536].jpg', 'images/B-18125-23-ER.vsi - 20x [d=3,x=10752,y=0,w=1536,h=1536].jpg', 'images/B-18125-23-ER.vsi - 20x [d=3,x=14592,y=0,w=1536,h=1536].jpg'\n",
      "$ relative_mask_path  <str> 'masks/B-18125-23-ER.vsi - 20x [d=3,x=13824,y=0,w=1536,h=1536]_label.png', 'masks/B-18125-23-ER.vsi - 20x [d=3,x=17664,y=0,w=1536,h=1536]_label.png', 'masks/B-18125-23-ER.vsi - 20x [d=3,x=16896,y=0,w=1536,h=1536]_label.png', 'masks/B-18125-23-ER.vsi - 20x [d=3,x=10752,y=0,w=1536,h=1536]_label.png', 'masks/B-18125-23-ER.vsi - 20x [d=3,x=14592,y=0,w=1536,h=1536]_label.png'\n",
      "$ tumor_percentage    <f64> 0.6517753601074219, 0.6089324951171875, 0.6018104553222656, 0.7514114379882812, 0.6412162780761719\n",
      "$ image_size          <i64> 512, 512, 512, 512, 512\n",
      "$ downsample_rate     <f64> 3.0, 3.0, 3.0, 3.0, 3.0\n",
      "$ x                   <i64> 13824, 17664, 16896, 10752, 14592\n",
      "$ y                   <i64> 0, 0, 0, 0, 0\n",
      "$ size_on_slide       <i64> 1536, 1536, 1536, 1536, 1536\n",
      "\n"
     ]
    }
   ],
   "source": [
    "tiles_df.glimpse(max_items_per_column=5)"
   ]
  }
 ],
 "metadata": {
  "kernelspec": {
   "display_name": ".venv",
   "language": "python",
   "name": "python3"
  },
  "language_info": {
   "codemirror_mode": {
    "name": "ipython",
    "version": 3
   },
   "file_extension": ".py",
   "mimetype": "text/x-python",
   "name": "python",
   "nbconvert_exporter": "python",
   "pygments_lexer": "ipython3",
   "version": "3.13.3"
  }
 },
 "nbformat": 4,
 "nbformat_minor": 5
}
