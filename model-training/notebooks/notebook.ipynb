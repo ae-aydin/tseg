{
 "cells": [
  {
   "cell_type": "code",
   "execution_count": 64,
   "id": "Hbol",
   "metadata": {},
   "outputs": [],
   "source": [
    "from pathlib import Path\n",
    "\n",
    "import marimo as mo\n",
    "import polars as pl\n"
   ]
  },
  {
   "cell_type": "code",
   "execution_count": 65,
   "id": "MJUe",
   "metadata": {},
   "outputs": [],
   "source": [
    "DATASET_PATH = Path(\"~/Playground/tiles/dataset-combined-512-256-jpg/\")\n",
    "\n",
    "split_df = pl.read_csv(DATASET_PATH / \"metadata\" / \"split_info.csv\")\n",
    "slide_df = pl.read_csv(DATASET_PATH / \"metadata\" / \"slide_info.csv\")\n",
    "tiles_df = pl.read_csv(DATASET_PATH / \"metadata\" / \"tile_info.csv\")"
   ]
  },
  {
   "cell_type": "markdown",
   "id": "vblA",
   "metadata": {},
   "source": [
    "# General Information"
   ]
  },
  {
   "cell_type": "code",
   "execution_count": 66,
   "id": "bkHC",
   "metadata": {},
   "outputs": [
    {
     "name": "stdout",
     "output_type": "stream",
     "text": [
      "Rows: 164\n",
      "Columns: 2\n",
      "$ slide_name <str> 'B-18125-23-ER', 'B-19844-23-ER', 'B-20000-23-2-ER'\n",
      "$ split      <str> 'train', 'train', 'train'\n",
      "\n"
     ]
    }
   ],
   "source": [
    "split_df.glimpse(max_items_per_column=3)"
   ]
  },
  {
   "cell_type": "code",
   "execution_count": 67,
   "id": "lEQa",
   "metadata": {},
   "outputs": [
    {
     "data": {
      "text/html": [
       "<div><style>\n",
       ".dataframe > thead > tr,\n",
       ".dataframe > tbody > tr {\n",
       "  text-align: right;\n",
       "  white-space: pre-wrap;\n",
       "}\n",
       "</style>\n",
       "<small>shape: (5, 2)</small><table border=\"1\" class=\"dataframe\"><thead><tr><th>slide_name</th><th>split</th></tr><tr><td>str</td><td>str</td></tr></thead><tbody><tr><td>&quot;B-18125-23-ER&quot;</td><td>&quot;train&quot;</td></tr><tr><td>&quot;B-19844-23-ER&quot;</td><td>&quot;train&quot;</td></tr><tr><td>&quot;B-20000-23-2-ER&quot;</td><td>&quot;train&quot;</td></tr><tr><td>&quot;B-23157-23-ER&quot;</td><td>&quot;train&quot;</td></tr><tr><td>&quot;B-17557-23-ER&quot;</td><td>&quot;train&quot;</td></tr></tbody></table></div>"
      ],
      "text/plain": [
       "shape: (5, 2)\n",
       "┌─────────────────┬───────┐\n",
       "│ slide_name      ┆ split │\n",
       "│ ---             ┆ ---   │\n",
       "│ str             ┆ str   │\n",
       "╞═════════════════╪═══════╡\n",
       "│ B-18125-23-ER   ┆ train │\n",
       "│ B-19844-23-ER   ┆ train │\n",
       "│ B-20000-23-2-ER ┆ train │\n",
       "│ B-23157-23-ER   ┆ train │\n",
       "│ B-17557-23-ER   ┆ train │\n",
       "└─────────────────┴───────┘"
      ]
     },
     "execution_count": 67,
     "metadata": {},
     "output_type": "execute_result"
    }
   ],
   "source": [
    "split_df.head(5)"
   ]
  },
  {
   "cell_type": "code",
   "execution_count": 68,
   "id": "PKri",
   "metadata": {},
   "outputs": [
    {
     "name": "stdout",
     "output_type": "stream",
     "text": [
      "Rows: 164\n",
      "Columns: 9\n",
      "$ category               <str> 'wsi_tiled', 'wsi_tiled', 'wsi_tiled'\n",
      "$ slide_name             <str> 'B-18125-23-ER', 'B-19844-23-ER', 'B-20000-23-2-ER'\n",
      "$ downsample_rate        <f64> 3.0, 3.0, 3.0\n",
      "$ img_size               <i64> 512, 512, 512\n",
      "$ overlap_ratio_per_tile <f64> 0.5, 0.5, 0.5\n",
      "$ only_annotated_tiles   <str> 'T', 'T', 'T'\n",
      "$ allow_partial_tiles    <str> 'F', 'F', 'F'\n",
      "$ tile_count             <i64> 1591, 2639, 537\n",
      "$ mask_count             <i64> 1591, 2639, 537\n",
      "\n"
     ]
    }
   ],
   "source": [
    "slide_df.glimpse(max_items_per_column=3)"
   ]
  },
  {
   "cell_type": "code",
   "execution_count": 69,
   "id": "Xref",
   "metadata": {},
   "outputs": [
    {
     "data": {
      "text/html": [
       "<div><style>\n",
       ".dataframe > thead > tr,\n",
       ".dataframe > tbody > tr {\n",
       "  text-align: right;\n",
       "  white-space: pre-wrap;\n",
       "}\n",
       "</style>\n",
       "<small>shape: (5, 9)</small><table border=\"1\" class=\"dataframe\"><thead><tr><th>category</th><th>slide_name</th><th>downsample_rate</th><th>img_size</th><th>overlap_ratio_per_tile</th><th>only_annotated_tiles</th><th>allow_partial_tiles</th><th>tile_count</th><th>mask_count</th></tr><tr><td>str</td><td>str</td><td>f64</td><td>i64</td><td>f64</td><td>str</td><td>str</td><td>i64</td><td>i64</td></tr></thead><tbody><tr><td>&quot;wsi_tiled&quot;</td><td>&quot;B-18125-23-ER&quot;</td><td>3.0</td><td>512</td><td>0.5</td><td>&quot;T&quot;</td><td>&quot;F&quot;</td><td>1591</td><td>1591</td></tr><tr><td>&quot;wsi_tiled&quot;</td><td>&quot;B-19844-23-ER&quot;</td><td>3.0</td><td>512</td><td>0.5</td><td>&quot;T&quot;</td><td>&quot;F&quot;</td><td>2639</td><td>2639</td></tr><tr><td>&quot;wsi_tiled&quot;</td><td>&quot;B-20000-23-2-ER&quot;</td><td>3.0</td><td>512</td><td>0.5</td><td>&quot;T&quot;</td><td>&quot;F&quot;</td><td>537</td><td>537</td></tr><tr><td>&quot;wsi_tiled&quot;</td><td>&quot;B-23157-23-ER&quot;</td><td>3.0</td><td>512</td><td>0.5</td><td>&quot;T&quot;</td><td>&quot;F&quot;</td><td>513</td><td>513</td></tr><tr><td>&quot;wsi_tiled&quot;</td><td>&quot;B-17557-23-ER&quot;</td><td>3.0</td><td>512</td><td>0.5</td><td>&quot;T&quot;</td><td>&quot;F&quot;</td><td>459</td><td>459</td></tr></tbody></table></div>"
      ],
      "text/plain": [
       "shape: (5, 9)\n",
       "┌───────────┬───────────┬───────────┬──────────┬───┬───────────┬───────────┬───────────┬───────────┐\n",
       "│ category  ┆ slide_nam ┆ downsampl ┆ img_size ┆ … ┆ only_anno ┆ allow_par ┆ tile_coun ┆ mask_coun │\n",
       "│ ---       ┆ e         ┆ e_rate    ┆ ---      ┆   ┆ tated_til ┆ tial_tile ┆ t         ┆ t         │\n",
       "│ str       ┆ ---       ┆ ---       ┆ i64      ┆   ┆ es        ┆ s         ┆ ---       ┆ ---       │\n",
       "│           ┆ str       ┆ f64       ┆          ┆   ┆ ---       ┆ ---       ┆ i64       ┆ i64       │\n",
       "│           ┆           ┆           ┆          ┆   ┆ str       ┆ str       ┆           ┆           │\n",
       "╞═══════════╪═══════════╪═══════════╪══════════╪═══╪═══════════╪═══════════╪═══════════╪═══════════╡\n",
       "│ wsi_tiled ┆ B-18125-2 ┆ 3.0       ┆ 512      ┆ … ┆ T         ┆ F         ┆ 1591      ┆ 1591      │\n",
       "│           ┆ 3-ER      ┆           ┆          ┆   ┆           ┆           ┆           ┆           │\n",
       "│ wsi_tiled ┆ B-19844-2 ┆ 3.0       ┆ 512      ┆ … ┆ T         ┆ F         ┆ 2639      ┆ 2639      │\n",
       "│           ┆ 3-ER      ┆           ┆          ┆   ┆           ┆           ┆           ┆           │\n",
       "│ wsi_tiled ┆ B-20000-2 ┆ 3.0       ┆ 512      ┆ … ┆ T         ┆ F         ┆ 537       ┆ 537       │\n",
       "│           ┆ 3-2-ER    ┆           ┆          ┆   ┆           ┆           ┆           ┆           │\n",
       "│ wsi_tiled ┆ B-23157-2 ┆ 3.0       ┆ 512      ┆ … ┆ T         ┆ F         ┆ 513       ┆ 513       │\n",
       "│           ┆ 3-ER      ┆           ┆          ┆   ┆           ┆           ┆           ┆           │\n",
       "│ wsi_tiled ┆ B-17557-2 ┆ 3.0       ┆ 512      ┆ … ┆ T         ┆ F         ┆ 459       ┆ 459       │\n",
       "│           ┆ 3-ER      ┆           ┆          ┆   ┆           ┆           ┆           ┆           │\n",
       "└───────────┴───────────┴───────────┴──────────┴───┴───────────┴───────────┴───────────┴───────────┘"
      ]
     },
     "execution_count": 69,
     "metadata": {},
     "output_type": "execute_result"
    }
   ],
   "source": [
    "slide_df.head(5)"
   ]
  },
  {
   "cell_type": "code",
   "execution_count": 70,
   "id": "SFPL",
   "metadata": {},
   "outputs": [
    {
     "name": "stdout",
     "output_type": "stream",
     "text": [
      "Rows: 12710\n",
      "Columns: 10\n",
      "$ slide_name          <str> 'B-18125-23-ER', 'B-18125-23-ER', 'B-18125-23-ER'\n",
      "$ parent_dir_path     <str> 'train/B-18125-23-ER', 'train/B-18125-23-ER', 'train/B-18125-23-ER'\n",
      "$ relative_image_path <str> 'images/B-18125-23-ER.vsi - 20x [d=3,x=13824,y=0,w=1536,h=1536].jpg', 'images/B-18125-23-ER.vsi - 20x [d=3,x=17664,y=0,w=1536,h=1536].jpg', 'images/B-18125-23-ER.vsi - 20x [d=3,x=16896,y=0,w=1536,h=1536].jpg'\n",
      "$ relative_mask_path  <str> 'masks/B-18125-23-ER.vsi - 20x [d=3,x=13824,y=0,w=1536,h=1536]_label.png', 'masks/B-18125-23-ER.vsi - 20x [d=3,x=17664,y=0,w=1536,h=1536]_label.png', 'masks/B-18125-23-ER.vsi - 20x [d=3,x=16896,y=0,w=1536,h=1536]_label.png'\n",
      "$ tumor_frac          <f64> 0.6517753601074219, 0.6089324951171875, 0.6018104553222656\n",
      "$ image_size          <i64> 512, 512, 512\n",
      "$ downsample_rate     <f64> 3.0, 3.0, 3.0\n",
      "$ x                   <i64> 13824, 17664, 16896\n",
      "$ y                   <i64> 0, 0, 0\n",
      "$ size_on_slide       <i64> 1536, 1536, 1536\n",
      "\n"
     ]
    }
   ],
   "source": [
    "tiles_df.glimpse(max_items_per_column=3)"
   ]
  },
  {
   "cell_type": "code",
   "execution_count": 71,
   "id": "BYtC",
   "metadata": {},
   "outputs": [
    {
     "data": {
      "text/html": [
       "<div><style>\n",
       ".dataframe > thead > tr,\n",
       ".dataframe > tbody > tr {\n",
       "  text-align: right;\n",
       "  white-space: pre-wrap;\n",
       "}\n",
       "</style>\n",
       "<small>shape: (5, 10)</small><table border=\"1\" class=\"dataframe\"><thead><tr><th>slide_name</th><th>parent_dir_path</th><th>relative_image_path</th><th>relative_mask_path</th><th>tumor_frac</th><th>image_size</th><th>downsample_rate</th><th>x</th><th>y</th><th>size_on_slide</th></tr><tr><td>str</td><td>str</td><td>str</td><td>str</td><td>f64</td><td>i64</td><td>f64</td><td>i64</td><td>i64</td><td>i64</td></tr></thead><tbody><tr><td>&quot;B-18125-23-ER&quot;</td><td>&quot;train/B-18125-23-ER&quot;</td><td>&quot;images/B-18125-23-ER.vsi - 20x…</td><td>&quot;masks/B-18125-23-ER.vsi - 20x …</td><td>0.651775</td><td>512</td><td>3.0</td><td>13824</td><td>0</td><td>1536</td></tr><tr><td>&quot;B-18125-23-ER&quot;</td><td>&quot;train/B-18125-23-ER&quot;</td><td>&quot;images/B-18125-23-ER.vsi - 20x…</td><td>&quot;masks/B-18125-23-ER.vsi - 20x …</td><td>0.608932</td><td>512</td><td>3.0</td><td>17664</td><td>0</td><td>1536</td></tr><tr><td>&quot;B-18125-23-ER&quot;</td><td>&quot;train/B-18125-23-ER&quot;</td><td>&quot;images/B-18125-23-ER.vsi - 20x…</td><td>&quot;masks/B-18125-23-ER.vsi - 20x …</td><td>0.60181</td><td>512</td><td>3.0</td><td>16896</td><td>0</td><td>1536</td></tr><tr><td>&quot;B-18125-23-ER&quot;</td><td>&quot;train/B-18125-23-ER&quot;</td><td>&quot;images/B-18125-23-ER.vsi - 20x…</td><td>&quot;masks/B-18125-23-ER.vsi - 20x …</td><td>0.751411</td><td>512</td><td>3.0</td><td>10752</td><td>0</td><td>1536</td></tr><tr><td>&quot;B-18125-23-ER&quot;</td><td>&quot;train/B-18125-23-ER&quot;</td><td>&quot;images/B-18125-23-ER.vsi - 20x…</td><td>&quot;masks/B-18125-23-ER.vsi - 20x …</td><td>0.641216</td><td>512</td><td>3.0</td><td>14592</td><td>0</td><td>1536</td></tr></tbody></table></div>"
      ],
      "text/plain": [
       "shape: (5, 10)\n",
       "┌─────────────┬─────────────┬─────────────┬────────────┬───┬────────────┬───────┬─────┬────────────┐\n",
       "│ slide_name  ┆ parent_dir_ ┆ relative_im ┆ relative_m ┆ … ┆ downsample ┆ x     ┆ y   ┆ size_on_sl │\n",
       "│ ---         ┆ path        ┆ age_path    ┆ ask_path   ┆   ┆ _rate      ┆ ---   ┆ --- ┆ ide        │\n",
       "│ str         ┆ ---         ┆ ---         ┆ ---        ┆   ┆ ---        ┆ i64   ┆ i64 ┆ ---        │\n",
       "│             ┆ str         ┆ str         ┆ str        ┆   ┆ f64        ┆       ┆     ┆ i64        │\n",
       "╞═════════════╪═════════════╪═════════════╪════════════╪═══╪════════════╪═══════╪═════╪════════════╡\n",
       "│ B-18125-23- ┆ train/B-181 ┆ images/B-18 ┆ masks/B-18 ┆ … ┆ 3.0        ┆ 13824 ┆ 0   ┆ 1536       │\n",
       "│ ER          ┆ 25-23-ER    ┆ 125-23-ER.v ┆ 125-23-ER. ┆   ┆            ┆       ┆     ┆            │\n",
       "│             ┆             ┆ si - 20x…   ┆ vsi - 20x  ┆   ┆            ┆       ┆     ┆            │\n",
       "│             ┆             ┆             ┆ …          ┆   ┆            ┆       ┆     ┆            │\n",
       "│ B-18125-23- ┆ train/B-181 ┆ images/B-18 ┆ masks/B-18 ┆ … ┆ 3.0        ┆ 17664 ┆ 0   ┆ 1536       │\n",
       "│ ER          ┆ 25-23-ER    ┆ 125-23-ER.v ┆ 125-23-ER. ┆   ┆            ┆       ┆     ┆            │\n",
       "│             ┆             ┆ si - 20x…   ┆ vsi - 20x  ┆   ┆            ┆       ┆     ┆            │\n",
       "│             ┆             ┆             ┆ …          ┆   ┆            ┆       ┆     ┆            │\n",
       "│ B-18125-23- ┆ train/B-181 ┆ images/B-18 ┆ masks/B-18 ┆ … ┆ 3.0        ┆ 16896 ┆ 0   ┆ 1536       │\n",
       "│ ER          ┆ 25-23-ER    ┆ 125-23-ER.v ┆ 125-23-ER. ┆   ┆            ┆       ┆     ┆            │\n",
       "│             ┆             ┆ si - 20x…   ┆ vsi - 20x  ┆   ┆            ┆       ┆     ┆            │\n",
       "│             ┆             ┆             ┆ …          ┆   ┆            ┆       ┆     ┆            │\n",
       "│ B-18125-23- ┆ train/B-181 ┆ images/B-18 ┆ masks/B-18 ┆ … ┆ 3.0        ┆ 10752 ┆ 0   ┆ 1536       │\n",
       "│ ER          ┆ 25-23-ER    ┆ 125-23-ER.v ┆ 125-23-ER. ┆   ┆            ┆       ┆     ┆            │\n",
       "│             ┆             ┆ si - 20x…   ┆ vsi - 20x  ┆   ┆            ┆       ┆     ┆            │\n",
       "│             ┆             ┆             ┆ …          ┆   ┆            ┆       ┆     ┆            │\n",
       "│ B-18125-23- ┆ train/B-181 ┆ images/B-18 ┆ masks/B-18 ┆ … ┆ 3.0        ┆ 14592 ┆ 0   ┆ 1536       │\n",
       "│ ER          ┆ 25-23-ER    ┆ 125-23-ER.v ┆ 125-23-ER. ┆   ┆            ┆       ┆     ┆            │\n",
       "│             ┆             ┆ si - 20x…   ┆ vsi - 20x  ┆   ┆            ┆       ┆     ┆            │\n",
       "│             ┆             ┆             ┆ …          ┆   ┆            ┆       ┆     ┆            │\n",
       "└─────────────┴─────────────┴─────────────┴────────────┴───┴────────────┴───────┴─────┴────────────┘"
      ]
     },
     "execution_count": 71,
     "metadata": {},
     "output_type": "execute_result"
    }
   ],
   "source": [
    "tiles_df.head(5)"
   ]
  },
  {
   "cell_type": "markdown",
   "id": "RGSE",
   "metadata": {},
   "source": [
    "# Slide Information"
   ]
  },
  {
   "cell_type": "code",
   "execution_count": 72,
   "id": "Kclp",
   "metadata": {},
   "outputs": [
    {
     "data": {
      "text/html": [
       "<div><style>\n",
       ".dataframe > thead > tr,\n",
       ".dataframe > tbody > tr {\n",
       "  text-align: right;\n",
       "  white-space: pre-wrap;\n",
       "}\n",
       "</style>\n",
       "<small>shape: (5, 10)</small><table border=\"1\" class=\"dataframe\"><thead><tr><th>category</th><th>slide_name</th><th>downsample_rate</th><th>img_size</th><th>overlap_ratio_per_tile</th><th>only_annotated_tiles</th><th>allow_partial_tiles</th><th>tile_count</th><th>mask_count</th><th>split</th></tr><tr><td>str</td><td>str</td><td>f64</td><td>i64</td><td>f64</td><td>str</td><td>str</td><td>i64</td><td>i64</td><td>str</td></tr></thead><tbody><tr><td>&quot;wsi_tiled&quot;</td><td>&quot;B-18125-23-ER&quot;</td><td>3.0</td><td>512</td><td>0.5</td><td>&quot;T&quot;</td><td>&quot;F&quot;</td><td>1591</td><td>1591</td><td>&quot;train&quot;</td></tr><tr><td>&quot;wsi_tiled&quot;</td><td>&quot;B-19844-23-ER&quot;</td><td>3.0</td><td>512</td><td>0.5</td><td>&quot;T&quot;</td><td>&quot;F&quot;</td><td>2639</td><td>2639</td><td>&quot;train&quot;</td></tr><tr><td>&quot;wsi_tiled&quot;</td><td>&quot;B-20000-23-2-ER&quot;</td><td>3.0</td><td>512</td><td>0.5</td><td>&quot;T&quot;</td><td>&quot;F&quot;</td><td>537</td><td>537</td><td>&quot;train&quot;</td></tr><tr><td>&quot;wsi_tiled&quot;</td><td>&quot;B-23157-23-ER&quot;</td><td>3.0</td><td>512</td><td>0.5</td><td>&quot;T&quot;</td><td>&quot;F&quot;</td><td>513</td><td>513</td><td>&quot;train&quot;</td></tr><tr><td>&quot;wsi_tiled&quot;</td><td>&quot;B-17557-23-ER&quot;</td><td>3.0</td><td>512</td><td>0.5</td><td>&quot;T&quot;</td><td>&quot;F&quot;</td><td>459</td><td>459</td><td>&quot;train&quot;</td></tr></tbody></table></div>"
      ],
      "text/plain": [
       "shape: (5, 10)\n",
       "┌───────────┬────────────┬────────────┬──────────┬───┬────────────┬────────────┬───────────┬───────┐\n",
       "│ category  ┆ slide_name ┆ downsample ┆ img_size ┆ … ┆ allow_part ┆ tile_count ┆ mask_coun ┆ split │\n",
       "│ ---       ┆ ---        ┆ _rate      ┆ ---      ┆   ┆ ial_tiles  ┆ ---        ┆ t         ┆ ---   │\n",
       "│ str       ┆ str        ┆ ---        ┆ i64      ┆   ┆ ---        ┆ i64        ┆ ---       ┆ str   │\n",
       "│           ┆            ┆ f64        ┆          ┆   ┆ str        ┆            ┆ i64       ┆       │\n",
       "╞═══════════╪════════════╪════════════╪══════════╪═══╪════════════╪════════════╪═══════════╪═══════╡\n",
       "│ wsi_tiled ┆ B-18125-23 ┆ 3.0        ┆ 512      ┆ … ┆ F          ┆ 1591       ┆ 1591      ┆ train │\n",
       "│           ┆ -ER        ┆            ┆          ┆   ┆            ┆            ┆           ┆       │\n",
       "│ wsi_tiled ┆ B-19844-23 ┆ 3.0        ┆ 512      ┆ … ┆ F          ┆ 2639       ┆ 2639      ┆ train │\n",
       "│           ┆ -ER        ┆            ┆          ┆   ┆            ┆            ┆           ┆       │\n",
       "│ wsi_tiled ┆ B-20000-23 ┆ 3.0        ┆ 512      ┆ … ┆ F          ┆ 537        ┆ 537       ┆ train │\n",
       "│           ┆ -2-ER      ┆            ┆          ┆   ┆            ┆            ┆           ┆       │\n",
       "│ wsi_tiled ┆ B-23157-23 ┆ 3.0        ┆ 512      ┆ … ┆ F          ┆ 513        ┆ 513       ┆ train │\n",
       "│           ┆ -ER        ┆            ┆          ┆   ┆            ┆            ┆           ┆       │\n",
       "│ wsi_tiled ┆ B-17557-23 ┆ 3.0        ┆ 512      ┆ … ┆ F          ┆ 459        ┆ 459       ┆ train │\n",
       "│           ┆ -ER        ┆            ┆          ┆   ┆            ┆            ┆           ┆       │\n",
       "└───────────┴────────────┴────────────┴──────────┴───┴────────────┴────────────┴───────────┴───────┘"
      ]
     },
     "execution_count": 72,
     "metadata": {},
     "output_type": "execute_result"
    }
   ],
   "source": [
    "slide_split_join_df = slide_df.join(split_df, on=\"slide_name\")\n",
    "\n",
    "slide_split_join_df.head(5)"
   ]
  },
  {
   "cell_type": "code",
   "execution_count": 73,
   "id": "emfo",
   "metadata": {},
   "outputs": [
    {
     "data": {
      "text/html": [
       "<div><style>\n",
       ".dataframe > thead > tr,\n",
       ".dataframe > tbody > tr {\n",
       "  text-align: right;\n",
       "  white-space: pre-wrap;\n",
       "}\n",
       "</style>\n",
       "<small>shape: (1, 10)</small><table border=\"1\" class=\"dataframe\"><thead><tr><th>set</th><th>slide_count</th><th>slide_pct</th><th>tile_min</th><th>tile_max</th><th>tile_avg</th><th>tile_std</th><th>tile_median</th><th>tile_count</th><th>tile_pct</th></tr><tr><td>str</td><td>u32</td><td>f64</td><td>i64</td><td>i64</td><td>f64</td><td>f64</td><td>f64</td><td>i64</td><td>f64</td></tr></thead><tbody><tr><td>&quot;ALL&quot;</td><td>164</td><td>100.0</td><td>0</td><td>2639</td><td>78.0</td><td>274.0</td><td>22.0</td><td>12710</td><td>100.0</td></tr></tbody></table></div>"
      ],
      "text/plain": [
       "shape: (1, 10)\n",
       "┌─────┬─────────────┬───────────┬──────────┬───┬──────────┬─────────────┬────────────┬──────────┐\n",
       "│ set ┆ slide_count ┆ slide_pct ┆ tile_min ┆ … ┆ tile_std ┆ tile_median ┆ tile_count ┆ tile_pct │\n",
       "│ --- ┆ ---         ┆ ---       ┆ ---      ┆   ┆ ---      ┆ ---         ┆ ---        ┆ ---      │\n",
       "│ str ┆ u32         ┆ f64       ┆ i64      ┆   ┆ f64      ┆ f64         ┆ i64        ┆ f64      │\n",
       "╞═════╪═════════════╪═══════════╪══════════╪═══╪══════════╪═════════════╪════════════╪══════════╡\n",
       "│ ALL ┆ 164         ┆ 100.0     ┆ 0        ┆ … ┆ 274.0    ┆ 22.0        ┆ 12710      ┆ 100.0    │\n",
       "└─────┴─────────────┴───────────┴──────────┴───┴──────────┴─────────────┴────────────┴──────────┘"
      ]
     },
     "execution_count": 73,
     "metadata": {},
     "output_type": "execute_result"
    }
   ],
   "source": [
    "# Overall Information\n",
    "\n",
    "stats = slide_split_join_df[\"tile_count\"]\n",
    "overall = pl.DataFrame(\n",
    "    {\n",
    "        \"set\": [\"ALL\"],\n",
    "        \"slide_count\": [len(slide_split_join_df)],\n",
    "        \"slide_pct\": [100.0],\n",
    "        \"tile_min\": [stats.min()],\n",
    "        \"tile_max\": [stats.max()],\n",
    "        \"tile_avg\": [round(stats.mean(), 0)],\n",
    "        \"tile_std\": [round(stats.std(), 0)],\n",
    "        \"tile_median\": [stats.median()],\n",
    "        \"tile_count\": [stats.sum()],\n",
    "        \"tile_pct\": [100.0],\n",
    "    }\n",
    ")\n",
    "\n",
    "overall = overall.cast({\"slide_count\": pl.UInt32})\n",
    "\n",
    "overall"
   ]
  },
  {
   "cell_type": "code",
   "execution_count": 74,
   "id": "Hstk",
   "metadata": {},
   "outputs": [
    {
     "data": {
      "text/html": [
       "<div><style>\n",
       ".dataframe > thead > tr,\n",
       ".dataframe > tbody > tr {\n",
       "  text-align: right;\n",
       "  white-space: pre-wrap;\n",
       "}\n",
       "</style>\n",
       "<small>shape: (2, 10)</small><table border=\"1\" class=\"dataframe\"><thead><tr><th>set</th><th>slide_count</th><th>slide_pct</th><th>tile_min</th><th>tile_max</th><th>tile_avg</th><th>tile_std</th><th>tile_median</th><th>tile_count</th><th>tile_pct</th></tr><tr><td>str</td><td>u32</td><td>f64</td><td>i64</td><td>i64</td><td>f64</td><td>f64</td><td>f64</td><td>i64</td><td>f64</td></tr></thead><tbody><tr><td>&quot;wsi_tiled&quot;</td><td>11</td><td>6.71</td><td>284</td><td>2639</td><td>877.0</td><td>682.0</td><td>644.0</td><td>9649</td><td>75.92</td></tr><tr><td>&quot;img_tiled&quot;</td><td>153</td><td>93.29</td><td>0</td><td>36</td><td>20.0</td><td>7.0</td><td>18.0</td><td>3061</td><td>24.08</td></tr></tbody></table></div>"
      ],
      "text/plain": [
       "shape: (2, 10)\n",
       "┌───────────┬────────────┬───────────┬──────────┬───┬──────────┬────────────┬───────────┬──────────┐\n",
       "│ set       ┆ slide_coun ┆ slide_pct ┆ tile_min ┆ … ┆ tile_std ┆ tile_media ┆ tile_coun ┆ tile_pct │\n",
       "│ ---       ┆ t          ┆ ---       ┆ ---      ┆   ┆ ---      ┆ n          ┆ t         ┆ ---      │\n",
       "│ str       ┆ ---        ┆ f64       ┆ i64      ┆   ┆ f64      ┆ ---        ┆ ---       ┆ f64      │\n",
       "│           ┆ u32        ┆           ┆          ┆   ┆          ┆ f64        ┆ i64       ┆          │\n",
       "╞═══════════╪════════════╪═══════════╪══════════╪═══╪══════════╪════════════╪═══════════╪══════════╡\n",
       "│ wsi_tiled ┆ 11         ┆ 6.71      ┆ 284      ┆ … ┆ 682.0    ┆ 644.0      ┆ 9649      ┆ 75.92    │\n",
       "│ img_tiled ┆ 153        ┆ 93.29     ┆ 0        ┆ … ┆ 7.0      ┆ 18.0       ┆ 3061      ┆ 24.08    │\n",
       "└───────────┴────────────┴───────────┴──────────┴───┴──────────┴────────────┴───────────┴──────────┘"
      ]
     },
     "execution_count": 74,
     "metadata": {},
     "output_type": "execute_result"
    }
   ],
   "source": [
    "# Category-wise Information\n",
    "\n",
    "per_category = (\n",
    "    slide_split_join_df.group_by(\"category\")\n",
    "    .agg(\n",
    "        [\n",
    "            pl.len().alias(\"slide_count\"),\n",
    "            pl.col(\"tile_count\").min().alias(\"tile_min\"),\n",
    "            pl.col(\"tile_count\").max().alias(\"tile_max\"),\n",
    "            pl.col(\"tile_count\").mean().round(0).alias(\"tile_avg\"),\n",
    "            pl.col(\"tile_count\").std().round(0).alias(\"tile_std\"),\n",
    "            pl.col(\"tile_count\").median().alias(\"tile_median\"),\n",
    "            pl.col(\"tile_count\").sum().alias(\"tile_count\"),\n",
    "        ]\n",
    "    )\n",
    "    .with_columns(\n",
    "        (pl.col(\"slide_count\") / pl.col(\"slide_count\").sum() * 100)\n",
    "        .round(2)\n",
    "        .alias(\"slide_pct\"),\n",
    "        (pl.col(\"tile_count\") / pl.col(\"tile_count\").sum() * 100)\n",
    "        .round(2)\n",
    "        .alias(\"tile_pct\"),\n",
    "    )\n",
    "    .sort(by=\"tile_count\", descending=True)\n",
    ")\n",
    "\n",
    "per_category = per_category.rename({\"category\": \"set\"})\n",
    "per_category = per_category.select(overall.columns)\n",
    "\n",
    "per_category"
   ]
  },
  {
   "cell_type": "code",
   "execution_count": 75,
   "id": "nWHF",
   "metadata": {},
   "outputs": [
    {
     "data": {
      "text/html": [
       "<div><style>\n",
       ".dataframe > thead > tr,\n",
       ".dataframe > tbody > tr {\n",
       "  text-align: right;\n",
       "  white-space: pre-wrap;\n",
       "}\n",
       "</style>\n",
       "<small>shape: (3, 10)</small><table border=\"1\" class=\"dataframe\"><thead><tr><th>set</th><th>slide_count</th><th>slide_pct</th><th>tile_min</th><th>tile_max</th><th>tile_avg</th><th>tile_std</th><th>tile_median</th><th>tile_count</th><th>tile_pct</th></tr><tr><td>str</td><td>u32</td><td>f64</td><td>i64</td><td>i64</td><td>f64</td><td>f64</td><td>f64</td><td>i64</td><td>f64</td></tr></thead><tbody><tr><td>&quot;train&quot;</td><td>99</td><td>60.37</td><td>0</td><td>2639</td><td>90.0</td><td>323.0</td><td>24.0</td><td>8865</td><td>69.75</td></tr><tr><td>&quot;test&quot;</td><td>32</td><td>19.51</td><td>3</td><td>963</td><td>67.0</td><td>197.0</td><td>16.0</td><td>2151</td><td>16.92</td></tr><tr><td>&quot;val&quot;</td><td>33</td><td>20.12</td><td>0</td><td>850</td><td>51.0</td><td>151.0</td><td>16.0</td><td>1694</td><td>13.33</td></tr></tbody></table></div>"
      ],
      "text/plain": [
       "shape: (3, 10)\n",
       "┌───────┬─────────────┬───────────┬──────────┬───┬──────────┬─────────────┬────────────┬──────────┐\n",
       "│ set   ┆ slide_count ┆ slide_pct ┆ tile_min ┆ … ┆ tile_std ┆ tile_median ┆ tile_count ┆ tile_pct │\n",
       "│ ---   ┆ ---         ┆ ---       ┆ ---      ┆   ┆ ---      ┆ ---         ┆ ---        ┆ ---      │\n",
       "│ str   ┆ u32         ┆ f64       ┆ i64      ┆   ┆ f64      ┆ f64         ┆ i64        ┆ f64      │\n",
       "╞═══════╪═════════════╪═══════════╪══════════╪═══╪══════════╪═════════════╪════════════╪══════════╡\n",
       "│ train ┆ 99          ┆ 60.37     ┆ 0        ┆ … ┆ 323.0    ┆ 24.0        ┆ 8865       ┆ 69.75    │\n",
       "│ test  ┆ 32          ┆ 19.51     ┆ 3        ┆ … ┆ 197.0    ┆ 16.0        ┆ 2151       ┆ 16.92    │\n",
       "│ val   ┆ 33          ┆ 20.12     ┆ 0        ┆ … ┆ 151.0    ┆ 16.0        ┆ 1694       ┆ 13.33    │\n",
       "└───────┴─────────────┴───────────┴──────────┴───┴──────────┴─────────────┴────────────┴──────────┘"
      ]
     },
     "execution_count": 75,
     "metadata": {},
     "output_type": "execute_result"
    }
   ],
   "source": [
    "# Split-wise Information\n",
    "\n",
    "per_split = (\n",
    "    slide_split_join_df.group_by(\"split\")\n",
    "    .agg(\n",
    "        [\n",
    "            pl.len().alias(\"slide_count\"),\n",
    "            pl.col(\"tile_count\").min().alias(\"tile_min\"),\n",
    "            pl.col(\"tile_count\").max().alias(\"tile_max\"),\n",
    "            pl.col(\"tile_count\").mean().round(0).alias(\"tile_avg\"),\n",
    "            pl.col(\"tile_count\").std().round(0).alias(\"tile_std\"),\n",
    "            pl.col(\"tile_count\").median().alias(\"tile_median\"),\n",
    "            pl.col(\"tile_count\").sum().alias(\"tile_count\"),\n",
    "        ]\n",
    "    )\n",
    "    .with_columns(\n",
    "        (pl.col(\"slide_count\") / pl.col(\"slide_count\").sum() * 100)\n",
    "        .round(2)\n",
    "        .alias(\"slide_pct\"),\n",
    "        (pl.col(\"tile_count\") / pl.col(\"tile_count\").sum() * 100)\n",
    "        .round(2)\n",
    "        .alias(\"tile_pct\"),\n",
    "    )\n",
    "    .sort(by=[\"tile_count\"], descending=True)\n",
    ")\n",
    "\n",
    "per_split = per_split.rename({\"split\": \"set\"})\n",
    "per_split = per_split.select(overall.columns)\n",
    "\n",
    "per_split"
   ]
  },
  {
   "cell_type": "code",
   "execution_count": 76,
   "id": "iLit",
   "metadata": {},
   "outputs": [
    {
     "data": {
      "text/html": [
       "<div><style>\n",
       ".dataframe > thead > tr,\n",
       ".dataframe > tbody > tr {\n",
       "  text-align: right;\n",
       "  white-space: pre-wrap;\n",
       "}\n",
       "</style>\n",
       "<small>shape: (6, 10)</small><table border=\"1\" class=\"dataframe\"><thead><tr><th>set</th><th>slide_count</th><th>slide_pct</th><th>tile_min</th><th>tile_max</th><th>tile_avg</th><th>tile_std</th><th>tile_median</th><th>tile_count</th><th>tile_pct</th></tr><tr><td>str</td><td>u32</td><td>f64</td><td>i64</td><td>i64</td><td>f64</td><td>f64</td><td>f64</td><td>i64</td><td>f64</td></tr></thead><tbody><tr><td>&quot;wsi_tiled_train&quot;</td><td>7</td><td>4.27</td><td>459</td><td>2639</td><td>987.0</td><td>832.0</td><td>537.0</td><td>6908</td><td>54.35</td></tr><tr><td>&quot;img_tiled_train&quot;</td><td>92</td><td>56.1</td><td>0</td><td>36</td><td>21.0</td><td>7.0</td><td>24.0</td><td>1957</td><td>15.4</td></tr><tr><td>&quot;wsi_tiled_test&quot;</td><td>2</td><td>1.22</td><td>644</td><td>963</td><td>804.0</td><td>226.0</td><td>803.5</td><td>1607</td><td>12.64</td></tr><tr><td>&quot;wsi_tiled_val&quot;</td><td>2</td><td>1.22</td><td>284</td><td>850</td><td>567.0</td><td>400.0</td><td>567.0</td><td>1134</td><td>8.92</td></tr><tr><td>&quot;img_tiled_val&quot;</td><td>31</td><td>18.9</td><td>0</td><td>34</td><td>18.0</td><td>8.0</td><td>16.0</td><td>560</td><td>4.41</td></tr><tr><td>&quot;img_tiled_test&quot;</td><td>30</td><td>18.29</td><td>3</td><td>35</td><td>18.0</td><td>7.0</td><td>16.0</td><td>544</td><td>4.28</td></tr></tbody></table></div>"
      ],
      "text/plain": [
       "shape: (6, 10)\n",
       "┌────────────┬────────────┬───────────┬──────────┬───┬──────────┬───────────┬───────────┬──────────┐\n",
       "│ set        ┆ slide_coun ┆ slide_pct ┆ tile_min ┆ … ┆ tile_std ┆ tile_medi ┆ tile_coun ┆ tile_pct │\n",
       "│ ---        ┆ t          ┆ ---       ┆ ---      ┆   ┆ ---      ┆ an        ┆ t         ┆ ---      │\n",
       "│ str        ┆ ---        ┆ f64       ┆ i64      ┆   ┆ f64      ┆ ---       ┆ ---       ┆ f64      │\n",
       "│            ┆ u32        ┆           ┆          ┆   ┆          ┆ f64       ┆ i64       ┆          │\n",
       "╞════════════╪════════════╪═══════════╪══════════╪═══╪══════════╪═══════════╪═══════════╪══════════╡\n",
       "│ wsi_tiled_ ┆ 7          ┆ 4.27      ┆ 459      ┆ … ┆ 832.0    ┆ 537.0     ┆ 6908      ┆ 54.35    │\n",
       "│ train      ┆            ┆           ┆          ┆   ┆          ┆           ┆           ┆          │\n",
       "│ img_tiled_ ┆ 92         ┆ 56.1      ┆ 0        ┆ … ┆ 7.0      ┆ 24.0      ┆ 1957      ┆ 15.4     │\n",
       "│ train      ┆            ┆           ┆          ┆   ┆          ┆           ┆           ┆          │\n",
       "│ wsi_tiled_ ┆ 2          ┆ 1.22      ┆ 644      ┆ … ┆ 226.0    ┆ 803.5     ┆ 1607      ┆ 12.64    │\n",
       "│ test       ┆            ┆           ┆          ┆   ┆          ┆           ┆           ┆          │\n",
       "│ wsi_tiled_ ┆ 2          ┆ 1.22      ┆ 284      ┆ … ┆ 400.0    ┆ 567.0     ┆ 1134      ┆ 8.92     │\n",
       "│ val        ┆            ┆           ┆          ┆   ┆          ┆           ┆           ┆          │\n",
       "│ img_tiled_ ┆ 31         ┆ 18.9      ┆ 0        ┆ … ┆ 8.0      ┆ 16.0      ┆ 560       ┆ 4.41     │\n",
       "│ val        ┆            ┆           ┆          ┆   ┆          ┆           ┆           ┆          │\n",
       "│ img_tiled_ ┆ 30         ┆ 18.29     ┆ 3        ┆ … ┆ 7.0      ┆ 16.0      ┆ 544       ┆ 4.28     │\n",
       "│ test       ┆            ┆           ┆          ┆   ┆          ┆           ┆           ┆          │\n",
       "└────────────┴────────────┴───────────┴──────────┴───┴──────────┴───────────┴───────────┴──────────┘"
      ]
     },
     "execution_count": 76,
     "metadata": {},
     "output_type": "execute_result"
    }
   ],
   "source": [
    "# Category-wise & Split-wise Information\n",
    "\n",
    "per_category_split = (\n",
    "    slide_split_join_df.group_by([\"category\", \"split\"])\n",
    "    .agg(\n",
    "        [\n",
    "            pl.len().alias(\"slide_count\"),\n",
    "            pl.col(\"tile_count\").min().alias(\"tile_min\"),\n",
    "            pl.col(\"tile_count\").max().alias(\"tile_max\"),\n",
    "            pl.col(\"tile_count\").mean().round(0).alias(\"tile_avg\"),\n",
    "            pl.col(\"tile_count\").std().round(0).alias(\"tile_std\"),\n",
    "            pl.col(\"tile_count\").median().alias(\"tile_median\"),\n",
    "            pl.col(\"tile_count\").sum().alias(\"tile_count\"),\n",
    "        ]\n",
    "    )\n",
    "    .with_columns(\n",
    "        (pl.col(\"slide_count\") / pl.col(\"slide_count\").sum() * 100)\n",
    "        .round(2)\n",
    "        .alias(\"slide_pct\"),\n",
    "        (pl.col(\"tile_count\") / pl.col(\"tile_count\").sum() * 100)\n",
    "        .round(2)\n",
    "        .alias(\"tile_pct\"),\n",
    "        pl.format(\"{}_{}\", pl.col(\"category\"), pl.col(\"split\")).alias(\"set\"),\n",
    "    )\n",
    "    .sort(by=[\"tile_count\"], descending=True)\n",
    ")\n",
    "\n",
    "per_category_split.drop_in_place(\"category\")\n",
    "per_category_split.drop_in_place(\"split\")\n",
    "per_category_split = per_category_split.select(overall.columns)\n",
    "\n",
    "per_category_split"
   ]
  },
  {
   "cell_type": "code",
   "execution_count": 77,
   "id": "ZHCJ",
   "metadata": {},
   "outputs": [
    {
     "data": {
      "text/html": [
       "<div><style>\n",
       ".dataframe > thead > tr,\n",
       ".dataframe > tbody > tr {\n",
       "  text-align: right;\n",
       "  white-space: pre-wrap;\n",
       "}\n",
       "</style>\n",
       "<small>shape: (12, 10)</small><table border=\"1\" class=\"dataframe\"><thead><tr><th>set</th><th>slide_count</th><th>slide_pct</th><th>tile_min</th><th>tile_max</th><th>tile_avg</th><th>tile_std</th><th>tile_median</th><th>tile_count</th><th>tile_pct</th></tr><tr><td>str</td><td>u32</td><td>f64</td><td>i64</td><td>i64</td><td>f64</td><td>f64</td><td>f64</td><td>i64</td><td>f64</td></tr></thead><tbody><tr><td>&quot;ALL&quot;</td><td>164</td><td>100.0</td><td>0</td><td>2639</td><td>78.0</td><td>274.0</td><td>22.0</td><td>12710</td><td>100.0</td></tr><tr><td>&quot;wsi_tiled&quot;</td><td>11</td><td>6.71</td><td>284</td><td>2639</td><td>877.0</td><td>682.0</td><td>644.0</td><td>9649</td><td>75.92</td></tr><tr><td>&quot;img_tiled&quot;</td><td>153</td><td>93.29</td><td>0</td><td>36</td><td>20.0</td><td>7.0</td><td>18.0</td><td>3061</td><td>24.08</td></tr><tr><td>&quot;train&quot;</td><td>99</td><td>60.37</td><td>0</td><td>2639</td><td>90.0</td><td>323.0</td><td>24.0</td><td>8865</td><td>69.75</td></tr><tr><td>&quot;test&quot;</td><td>32</td><td>19.51</td><td>3</td><td>963</td><td>67.0</td><td>197.0</td><td>16.0</td><td>2151</td><td>16.92</td></tr><tr><td>&hellip;</td><td>&hellip;</td><td>&hellip;</td><td>&hellip;</td><td>&hellip;</td><td>&hellip;</td><td>&hellip;</td><td>&hellip;</td><td>&hellip;</td><td>&hellip;</td></tr><tr><td>&quot;img_tiled_train&quot;</td><td>92</td><td>56.1</td><td>0</td><td>36</td><td>21.0</td><td>7.0</td><td>24.0</td><td>1957</td><td>15.4</td></tr><tr><td>&quot;wsi_tiled_test&quot;</td><td>2</td><td>1.22</td><td>644</td><td>963</td><td>804.0</td><td>226.0</td><td>803.5</td><td>1607</td><td>12.64</td></tr><tr><td>&quot;wsi_tiled_val&quot;</td><td>2</td><td>1.22</td><td>284</td><td>850</td><td>567.0</td><td>400.0</td><td>567.0</td><td>1134</td><td>8.92</td></tr><tr><td>&quot;img_tiled_val&quot;</td><td>31</td><td>18.9</td><td>0</td><td>34</td><td>18.0</td><td>8.0</td><td>16.0</td><td>560</td><td>4.41</td></tr><tr><td>&quot;img_tiled_test&quot;</td><td>30</td><td>18.29</td><td>3</td><td>35</td><td>18.0</td><td>7.0</td><td>16.0</td><td>544</td><td>4.28</td></tr></tbody></table></div>"
      ],
      "text/plain": [
       "shape: (12, 10)\n",
       "┌────────────┬────────────┬───────────┬──────────┬───┬──────────┬───────────┬───────────┬──────────┐\n",
       "│ set        ┆ slide_coun ┆ slide_pct ┆ tile_min ┆ … ┆ tile_std ┆ tile_medi ┆ tile_coun ┆ tile_pct │\n",
       "│ ---        ┆ t          ┆ ---       ┆ ---      ┆   ┆ ---      ┆ an        ┆ t         ┆ ---      │\n",
       "│ str        ┆ ---        ┆ f64       ┆ i64      ┆   ┆ f64      ┆ ---       ┆ ---       ┆ f64      │\n",
       "│            ┆ u32        ┆           ┆          ┆   ┆          ┆ f64       ┆ i64       ┆          │\n",
       "╞════════════╪════════════╪═══════════╪══════════╪═══╪══════════╪═══════════╪═══════════╪══════════╡\n",
       "│ ALL        ┆ 164        ┆ 100.0     ┆ 0        ┆ … ┆ 274.0    ┆ 22.0      ┆ 12710     ┆ 100.0    │\n",
       "│ wsi_tiled  ┆ 11         ┆ 6.71      ┆ 284      ┆ … ┆ 682.0    ┆ 644.0     ┆ 9649      ┆ 75.92    │\n",
       "│ img_tiled  ┆ 153        ┆ 93.29     ┆ 0        ┆ … ┆ 7.0      ┆ 18.0      ┆ 3061      ┆ 24.08    │\n",
       "│ train      ┆ 99         ┆ 60.37     ┆ 0        ┆ … ┆ 323.0    ┆ 24.0      ┆ 8865      ┆ 69.75    │\n",
       "│ test       ┆ 32         ┆ 19.51     ┆ 3        ┆ … ┆ 197.0    ┆ 16.0      ┆ 2151      ┆ 16.92    │\n",
       "│ …          ┆ …          ┆ …         ┆ …        ┆ … ┆ …        ┆ …         ┆ …         ┆ …        │\n",
       "│ img_tiled_ ┆ 92         ┆ 56.1      ┆ 0        ┆ … ┆ 7.0      ┆ 24.0      ┆ 1957      ┆ 15.4     │\n",
       "│ train      ┆            ┆           ┆          ┆   ┆          ┆           ┆           ┆          │\n",
       "│ wsi_tiled_ ┆ 2          ┆ 1.22      ┆ 644      ┆ … ┆ 226.0    ┆ 803.5     ┆ 1607      ┆ 12.64    │\n",
       "│ test       ┆            ┆           ┆          ┆   ┆          ┆           ┆           ┆          │\n",
       "│ wsi_tiled_ ┆ 2          ┆ 1.22      ┆ 284      ┆ … ┆ 400.0    ┆ 567.0     ┆ 1134      ┆ 8.92     │\n",
       "│ val        ┆            ┆           ┆          ┆   ┆          ┆           ┆           ┆          │\n",
       "│ img_tiled_ ┆ 31         ┆ 18.9      ┆ 0        ┆ … ┆ 8.0      ┆ 16.0      ┆ 560       ┆ 4.41     │\n",
       "│ val        ┆            ┆           ┆          ┆   ┆          ┆           ┆           ┆          │\n",
       "│ img_tiled_ ┆ 30         ┆ 18.29     ┆ 3        ┆ … ┆ 7.0      ┆ 16.0      ┆ 544       ┆ 4.28     │\n",
       "│ test       ┆            ┆           ┆          ┆   ┆          ┆           ┆           ┆          │\n",
       "└────────────┴────────────┴───────────┴──────────┴───┴──────────┴───────────┴───────────┴──────────┘"
      ]
     },
     "execution_count": 77,
     "metadata": {},
     "output_type": "execute_result"
    }
   ],
   "source": [
    "# All Slide Tile Information\n",
    "\n",
    "all_slide_metrics_df = pl.concat(\n",
    "    [overall, per_category, per_split, per_category_split]\n",
    ")\n",
    "\n",
    "all_slide_metrics_df"
   ]
  },
  {
   "cell_type": "markdown",
   "id": "ROlb",
   "metadata": {},
   "source": [
    "# Tile Information"
   ]
  },
  {
   "cell_type": "code",
   "execution_count": 78,
   "id": "qnkX",
   "metadata": {},
   "outputs": [
    {
     "data": {
      "text/html": [
       "<div><style>\n",
       ".dataframe > thead > tr,\n",
       ".dataframe > tbody > tr {\n",
       "  text-align: right;\n",
       "  white-space: pre-wrap;\n",
       "}\n",
       "</style>\n",
       "<small>shape: (5, 19)</small><table border=\"1\" class=\"dataframe\"><thead><tr><th>category</th><th>slide_name</th><th>downsample_rate</th><th>img_size</th><th>overlap_ratio_per_tile</th><th>only_annotated_tiles</th><th>allow_partial_tiles</th><th>tile_count</th><th>mask_count</th><th>split</th><th>parent_dir_path</th><th>relative_image_path</th><th>relative_mask_path</th><th>tumor_frac</th><th>image_size</th><th>downsample_rate_right</th><th>x</th><th>y</th><th>size_on_slide</th></tr><tr><td>str</td><td>str</td><td>f64</td><td>i64</td><td>f64</td><td>str</td><td>str</td><td>i64</td><td>i64</td><td>str</td><td>str</td><td>str</td><td>str</td><td>f64</td><td>i64</td><td>f64</td><td>i64</td><td>i64</td><td>i64</td></tr></thead><tbody><tr><td>&quot;wsi_tiled&quot;</td><td>&quot;B-18125-23-ER&quot;</td><td>3.0</td><td>512</td><td>0.5</td><td>&quot;T&quot;</td><td>&quot;F&quot;</td><td>1591</td><td>1591</td><td>&quot;train&quot;</td><td>&quot;train/B-18125-23-ER&quot;</td><td>&quot;images/B-18125-23-ER.vsi - 20x…</td><td>&quot;masks/B-18125-23-ER.vsi - 20x …</td><td>0.651775</td><td>512</td><td>3.0</td><td>13824</td><td>0</td><td>1536</td></tr><tr><td>&quot;wsi_tiled&quot;</td><td>&quot;B-18125-23-ER&quot;</td><td>3.0</td><td>512</td><td>0.5</td><td>&quot;T&quot;</td><td>&quot;F&quot;</td><td>1591</td><td>1591</td><td>&quot;train&quot;</td><td>&quot;train/B-18125-23-ER&quot;</td><td>&quot;images/B-18125-23-ER.vsi - 20x…</td><td>&quot;masks/B-18125-23-ER.vsi - 20x …</td><td>0.608932</td><td>512</td><td>3.0</td><td>17664</td><td>0</td><td>1536</td></tr><tr><td>&quot;wsi_tiled&quot;</td><td>&quot;B-18125-23-ER&quot;</td><td>3.0</td><td>512</td><td>0.5</td><td>&quot;T&quot;</td><td>&quot;F&quot;</td><td>1591</td><td>1591</td><td>&quot;train&quot;</td><td>&quot;train/B-18125-23-ER&quot;</td><td>&quot;images/B-18125-23-ER.vsi - 20x…</td><td>&quot;masks/B-18125-23-ER.vsi - 20x …</td><td>0.60181</td><td>512</td><td>3.0</td><td>16896</td><td>0</td><td>1536</td></tr><tr><td>&quot;wsi_tiled&quot;</td><td>&quot;B-18125-23-ER&quot;</td><td>3.0</td><td>512</td><td>0.5</td><td>&quot;T&quot;</td><td>&quot;F&quot;</td><td>1591</td><td>1591</td><td>&quot;train&quot;</td><td>&quot;train/B-18125-23-ER&quot;</td><td>&quot;images/B-18125-23-ER.vsi - 20x…</td><td>&quot;masks/B-18125-23-ER.vsi - 20x …</td><td>0.751411</td><td>512</td><td>3.0</td><td>10752</td><td>0</td><td>1536</td></tr><tr><td>&quot;wsi_tiled&quot;</td><td>&quot;B-18125-23-ER&quot;</td><td>3.0</td><td>512</td><td>0.5</td><td>&quot;T&quot;</td><td>&quot;F&quot;</td><td>1591</td><td>1591</td><td>&quot;train&quot;</td><td>&quot;train/B-18125-23-ER&quot;</td><td>&quot;images/B-18125-23-ER.vsi - 20x…</td><td>&quot;masks/B-18125-23-ER.vsi - 20x …</td><td>0.641216</td><td>512</td><td>3.0</td><td>14592</td><td>0</td><td>1536</td></tr></tbody></table></div>"
      ],
      "text/plain": [
       "shape: (5, 19)\n",
       "┌───────────┬──────────────┬──────────────┬──────────┬───┬─────────────┬───────┬─────┬─────────────┐\n",
       "│ category  ┆ slide_name   ┆ downsample_r ┆ img_size ┆ … ┆ downsample_ ┆ x     ┆ y   ┆ size_on_sli │\n",
       "│ ---       ┆ ---          ┆ ate          ┆ ---      ┆   ┆ rate_right  ┆ ---   ┆ --- ┆ de          │\n",
       "│ str       ┆ str          ┆ ---          ┆ i64      ┆   ┆ ---         ┆ i64   ┆ i64 ┆ ---         │\n",
       "│           ┆              ┆ f64          ┆          ┆   ┆ f64         ┆       ┆     ┆ i64         │\n",
       "╞═══════════╪══════════════╪══════════════╪══════════╪═══╪═════════════╪═══════╪═════╪═════════════╡\n",
       "│ wsi_tiled ┆ B-18125-23-E ┆ 3.0          ┆ 512      ┆ … ┆ 3.0         ┆ 13824 ┆ 0   ┆ 1536        │\n",
       "│           ┆ R            ┆              ┆          ┆   ┆             ┆       ┆     ┆             │\n",
       "│ wsi_tiled ┆ B-18125-23-E ┆ 3.0          ┆ 512      ┆ … ┆ 3.0         ┆ 17664 ┆ 0   ┆ 1536        │\n",
       "│           ┆ R            ┆              ┆          ┆   ┆             ┆       ┆     ┆             │\n",
       "│ wsi_tiled ┆ B-18125-23-E ┆ 3.0          ┆ 512      ┆ … ┆ 3.0         ┆ 16896 ┆ 0   ┆ 1536        │\n",
       "│           ┆ R            ┆              ┆          ┆   ┆             ┆       ┆     ┆             │\n",
       "│ wsi_tiled ┆ B-18125-23-E ┆ 3.0          ┆ 512      ┆ … ┆ 3.0         ┆ 10752 ┆ 0   ┆ 1536        │\n",
       "│           ┆ R            ┆              ┆          ┆   ┆             ┆       ┆     ┆             │\n",
       "│ wsi_tiled ┆ B-18125-23-E ┆ 3.0          ┆ 512      ┆ … ┆ 3.0         ┆ 14592 ┆ 0   ┆ 1536        │\n",
       "│           ┆ R            ┆              ┆          ┆   ┆             ┆       ┆     ┆             │\n",
       "└───────────┴──────────────┴──────────────┴──────────┴───┴─────────────┴───────┴─────┴─────────────┘"
      ]
     },
     "execution_count": 78,
     "metadata": {},
     "output_type": "execute_result"
    }
   ],
   "source": [
    "combined_df = slide_split_join_df.join(tiles_df, on=\"slide_name\")\n",
    "\n",
    "combined_df.head(5)"
   ]
  },
  {
   "cell_type": "code",
   "execution_count": 79,
   "id": "TqIu",
   "metadata": {},
   "outputs": [
    {
     "data": {
      "text/html": [
       "<div><style>\n",
       ".dataframe > thead > tr,\n",
       ".dataframe > tbody > tr {\n",
       "  text-align: right;\n",
       "  white-space: pre-wrap;\n",
       "}\n",
       "</style>\n",
       "<small>shape: (1, 6)</small><table border=\"1\" class=\"dataframe\"><thead><tr><th>set</th><th>tumor_min</th><th>tumor_max</th><th>tumor_avg</th><th>tumor_std</th><th>tumor_median</th></tr><tr><td>str</td><td>f64</td><td>f64</td><td>f64</td><td>f64</td><td>f64</td></tr></thead><tbody><tr><td>&quot;ALL&quot;</td><td>0.0</td><td>1.0</td><td>0.35</td><td>0.26</td><td>0.32</td></tr></tbody></table></div>"
      ],
      "text/plain": [
       "shape: (1, 6)\n",
       "┌─────┬───────────┬───────────┬───────────┬───────────┬──────────────┐\n",
       "│ set ┆ tumor_min ┆ tumor_max ┆ tumor_avg ┆ tumor_std ┆ tumor_median │\n",
       "│ --- ┆ ---       ┆ ---       ┆ ---       ┆ ---       ┆ ---          │\n",
       "│ str ┆ f64       ┆ f64       ┆ f64       ┆ f64       ┆ f64          │\n",
       "╞═════╪═══════════╪═══════════╪═══════════╪═══════════╪══════════════╡\n",
       "│ ALL ┆ 0.0       ┆ 1.0       ┆ 0.35      ┆ 0.26      ┆ 0.32         │\n",
       "└─────┴───────────┴───────────┴───────────┴───────────┴──────────────┘"
      ]
     },
     "execution_count": 79,
     "metadata": {},
     "output_type": "execute_result"
    }
   ],
   "source": [
    "# Overall Tile Tumor Fraction Stats\n",
    "\n",
    "tile_stats = combined_df[\"tumor_frac\"]\n",
    "overall_tumor = pl.DataFrame(\n",
    "    {\n",
    "        \"set\": [\"ALL\"],\n",
    "        \"tumor_min\": [round(tile_stats.min(), 2)],\n",
    "        \"tumor_max\": [round(tile_stats.max(), 2)],\n",
    "        \"tumor_avg\": [round(tile_stats.mean(), 2)],\n",
    "        \"tumor_std\": [round(tile_stats.std(), 2)],\n",
    "        \"tumor_median\": [round(tile_stats.median(), 2)],\n",
    "    }\n",
    ")\n",
    "\n",
    "overall_tumor"
   ]
  },
  {
   "cell_type": "code",
   "execution_count": 80,
   "id": "Vxnm",
   "metadata": {},
   "outputs": [
    {
     "data": {
      "text/html": [
       "<div><style>\n",
       ".dataframe > thead > tr,\n",
       ".dataframe > tbody > tr {\n",
       "  text-align: right;\n",
       "  white-space: pre-wrap;\n",
       "}\n",
       "</style>\n",
       "<small>shape: (2, 6)</small><table border=\"1\" class=\"dataframe\"><thead><tr><th>set</th><th>tumor_min</th><th>tumor_max</th><th>tumor_avg</th><th>tumor_std</th><th>tumor_median</th></tr><tr><td>str</td><td>f64</td><td>f64</td><td>f64</td><td>f64</td><td>f64</td></tr></thead><tbody><tr><td>&quot;wsi_tiled&quot;</td><td>0.0</td><td>1.0</td><td>0.32</td><td>0.24</td><td>0.3</td></tr><tr><td>&quot;img_tiled&quot;</td><td>0.0</td><td>1.0</td><td>0.43</td><td>0.3</td><td>0.4</td></tr></tbody></table></div>"
      ],
      "text/plain": [
       "shape: (2, 6)\n",
       "┌───────────┬───────────┬───────────┬───────────┬───────────┬──────────────┐\n",
       "│ set       ┆ tumor_min ┆ tumor_max ┆ tumor_avg ┆ tumor_std ┆ tumor_median │\n",
       "│ ---       ┆ ---       ┆ ---       ┆ ---       ┆ ---       ┆ ---          │\n",
       "│ str       ┆ f64       ┆ f64       ┆ f64       ┆ f64       ┆ f64          │\n",
       "╞═══════════╪═══════════╪═══════════╪═══════════╪═══════════╪══════════════╡\n",
       "│ wsi_tiled ┆ 0.0       ┆ 1.0       ┆ 0.32      ┆ 0.24      ┆ 0.3          │\n",
       "│ img_tiled ┆ 0.0       ┆ 1.0       ┆ 0.43      ┆ 0.3       ┆ 0.4          │\n",
       "└───────────┴───────────┴───────────┴───────────┴───────────┴──────────────┘"
      ]
     },
     "execution_count": 80,
     "metadata": {},
     "output_type": "execute_result"
    }
   ],
   "source": [
    "# Per Category Tile Tumor Fraction Stats\n",
    "\n",
    "per_category_tumor = (\n",
    "    combined_df.group_by(\"category\")\n",
    "    .agg(\n",
    "        [\n",
    "            pl.col(\"tumor_frac\").min().round(2).alias(\"tumor_min\"),\n",
    "            pl.col(\"tumor_frac\").max().round(2).alias(\"tumor_max\"),\n",
    "            pl.col(\"tumor_frac\").mean().round(2).alias(\"tumor_avg\"),\n",
    "            pl.col(\"tumor_frac\").std().round(2).alias(\"tumor_std\"),\n",
    "            pl.col(\"tumor_frac\").median().round(2).alias(\"tumor_median\"),\n",
    "        ]\n",
    "    )\n",
    "    .with_columns()\n",
    "    .sort(by=[\"category\"], descending=True)\n",
    ")\n",
    "\n",
    "per_category_tumor = per_category_tumor.rename({\"category\": \"set\"})\n",
    "per_category_tumor = per_category_tumor.select(overall_tumor.columns)\n",
    "\n",
    "per_category_tumor"
   ]
  },
  {
   "cell_type": "code",
   "execution_count": 81,
   "id": "DnEU",
   "metadata": {},
   "outputs": [
    {
     "data": {
      "text/html": [
       "<div><style>\n",
       ".dataframe > thead > tr,\n",
       ".dataframe > tbody > tr {\n",
       "  text-align: right;\n",
       "  white-space: pre-wrap;\n",
       "}\n",
       "</style>\n",
       "<small>shape: (3, 6)</small><table border=\"1\" class=\"dataframe\"><thead><tr><th>set</th><th>tumor_min</th><th>tumor_max</th><th>tumor_avg</th><th>tumor_std</th><th>tumor_median</th></tr><tr><td>str</td><td>f64</td><td>f64</td><td>f64</td><td>f64</td><td>f64</td></tr></thead><tbody><tr><td>&quot;val&quot;</td><td>0.0</td><td>1.0</td><td>0.31</td><td>0.28</td><td>0.23</td></tr><tr><td>&quot;train&quot;</td><td>0.0</td><td>1.0</td><td>0.35</td><td>0.25</td><td>0.34</td></tr><tr><td>&quot;test&quot;</td><td>0.0</td><td>1.0</td><td>0.35</td><td>0.28</td><td>0.31</td></tr></tbody></table></div>"
      ],
      "text/plain": [
       "shape: (3, 6)\n",
       "┌───────┬───────────┬───────────┬───────────┬───────────┬──────────────┐\n",
       "│ set   ┆ tumor_min ┆ tumor_max ┆ tumor_avg ┆ tumor_std ┆ tumor_median │\n",
       "│ ---   ┆ ---       ┆ ---       ┆ ---       ┆ ---       ┆ ---          │\n",
       "│ str   ┆ f64       ┆ f64       ┆ f64       ┆ f64       ┆ f64          │\n",
       "╞═══════╪═══════════╪═══════════╪═══════════╪═══════════╪══════════════╡\n",
       "│ val   ┆ 0.0       ┆ 1.0       ┆ 0.31      ┆ 0.28      ┆ 0.23         │\n",
       "│ train ┆ 0.0       ┆ 1.0       ┆ 0.35      ┆ 0.25      ┆ 0.34         │\n",
       "│ test  ┆ 0.0       ┆ 1.0       ┆ 0.35      ┆ 0.28      ┆ 0.31         │\n",
       "└───────┴───────────┴───────────┴───────────┴───────────┴──────────────┘"
      ]
     },
     "execution_count": 81,
     "metadata": {},
     "output_type": "execute_result"
    }
   ],
   "source": [
    "# Per Split Set Tile Tumor Fraction Stats\n",
    "\n",
    "per_split_tumor = (\n",
    "    combined_df.group_by(\"split\")\n",
    "    .agg(\n",
    "        [\n",
    "            pl.col(\"tumor_frac\").min().round(2).alias(\"tumor_min\"),\n",
    "            pl.col(\"tumor_frac\").max().round(2).alias(\"tumor_max\"),\n",
    "            pl.col(\"tumor_frac\").mean().round(2).alias(\"tumor_avg\"),\n",
    "            pl.col(\"tumor_frac\").std().round(2).alias(\"tumor_std\"),\n",
    "            pl.col(\"tumor_frac\").median().round(2).alias(\"tumor_median\"),\n",
    "        ]\n",
    "    )\n",
    "    .sort(by=[\"split\"], descending=True)\n",
    ")\n",
    "\n",
    "per_split_tumor = per_split_tumor.rename({\"split\": \"set\"})\n",
    "per_split_tumor = per_split_tumor.select(overall_tumor.columns)\n",
    "\n",
    "per_split_tumor"
   ]
  },
  {
   "cell_type": "code",
   "execution_count": 82,
   "id": "ulZA",
   "metadata": {},
   "outputs": [
    {
     "data": {
      "text/html": [
       "<div><style>\n",
       ".dataframe > thead > tr,\n",
       ".dataframe > tbody > tr {\n",
       "  text-align: right;\n",
       "  white-space: pre-wrap;\n",
       "}\n",
       "</style>\n",
       "<small>shape: (6, 6)</small><table border=\"1\" class=\"dataframe\"><thead><tr><th>set</th><th>tumor_min</th><th>tumor_max</th><th>tumor_avg</th><th>tumor_std</th><th>tumor_median</th></tr><tr><td>str</td><td>f64</td><td>f64</td><td>f64</td><td>f64</td><td>f64</td></tr></thead><tbody><tr><td>&quot;img_tiled_val&quot;</td><td>0.0</td><td>1.0</td><td>0.43</td><td>0.31</td><td>0.42</td></tr><tr><td>&quot;wsi_tiled_val&quot;</td><td>0.0</td><td>1.0</td><td>0.25</td><td>0.24</td><td>0.16</td></tr><tr><td>&quot;wsi_tiled_train&quot;</td><td>0.0</td><td>0.96</td><td>0.33</td><td>0.23</td><td>0.33</td></tr><tr><td>&quot;img_tiled_train&quot;</td><td>0.0</td><td>1.0</td><td>0.42</td><td>0.3</td><td>0.37</td></tr><tr><td>&quot;wsi_tiled_test&quot;</td><td>0.0</td><td>1.0</td><td>0.31</td><td>0.25</td><td>0.27</td></tr><tr><td>&quot;img_tiled_test&quot;</td><td>0.0</td><td>1.0</td><td>0.47</td><td>0.31</td><td>0.48</td></tr></tbody></table></div>"
      ],
      "text/plain": [
       "shape: (6, 6)\n",
       "┌─────────────────┬───────────┬───────────┬───────────┬───────────┬──────────────┐\n",
       "│ set             ┆ tumor_min ┆ tumor_max ┆ tumor_avg ┆ tumor_std ┆ tumor_median │\n",
       "│ ---             ┆ ---       ┆ ---       ┆ ---       ┆ ---       ┆ ---          │\n",
       "│ str             ┆ f64       ┆ f64       ┆ f64       ┆ f64       ┆ f64          │\n",
       "╞═════════════════╪═══════════╪═══════════╪═══════════╪═══════════╪══════════════╡\n",
       "│ img_tiled_val   ┆ 0.0       ┆ 1.0       ┆ 0.43      ┆ 0.31      ┆ 0.42         │\n",
       "│ wsi_tiled_val   ┆ 0.0       ┆ 1.0       ┆ 0.25      ┆ 0.24      ┆ 0.16         │\n",
       "│ wsi_tiled_train ┆ 0.0       ┆ 0.96      ┆ 0.33      ┆ 0.23      ┆ 0.33         │\n",
       "│ img_tiled_train ┆ 0.0       ┆ 1.0       ┆ 0.42      ┆ 0.3       ┆ 0.37         │\n",
       "│ wsi_tiled_test  ┆ 0.0       ┆ 1.0       ┆ 0.31      ┆ 0.25      ┆ 0.27         │\n",
       "│ img_tiled_test  ┆ 0.0       ┆ 1.0       ┆ 0.47      ┆ 0.31      ┆ 0.48         │\n",
       "└─────────────────┴───────────┴───────────┴───────────┴───────────┴──────────────┘"
      ]
     },
     "execution_count": 82,
     "metadata": {},
     "output_type": "execute_result"
    }
   ],
   "source": [
    "# Per Category & Split Set Tile Tumor Fraction Stats\n",
    "\n",
    "per_category_split_tumor = (\n",
    "    combined_df.group_by([\"category\", \"split\"])\n",
    "    .agg(\n",
    "        [\n",
    "            pl.col(\"tumor_frac\").min().round(2).alias(\"tumor_min\"),\n",
    "            pl.col(\"tumor_frac\").max().round(2).alias(\"tumor_max\"),\n",
    "            pl.col(\"tumor_frac\").mean().round(2).alias(\"tumor_avg\"),\n",
    "            pl.col(\"tumor_frac\").std().round(2).alias(\"tumor_std\"),\n",
    "            pl.col(\"tumor_frac\").median().round(2).alias(\"tumor_median\"),\n",
    "        ]\n",
    "    )\n",
    "    .with_columns(\n",
    "        pl.format(\"{}_{}\", pl.col(\"category\"), pl.col(\"split\")).alias(\"set\")\n",
    "    )\n",
    "    .sort(by=[\"split\"], descending=True)\n",
    ")\n",
    "\n",
    "per_category_split_tumor = per_category_split_tumor.select(overall_tumor.columns)\n",
    "\n",
    "per_category_split_tumor"
   ]
  },
  {
   "cell_type": "code",
   "execution_count": 83,
   "id": "ecfG",
   "metadata": {},
   "outputs": [
    {
     "data": {
      "text/html": [
       "<div><style>\n",
       ".dataframe > thead > tr,\n",
       ".dataframe > tbody > tr {\n",
       "  text-align: right;\n",
       "  white-space: pre-wrap;\n",
       "}\n",
       "</style>\n",
       "<small>shape: (12, 6)</small><table border=\"1\" class=\"dataframe\"><thead><tr><th>set</th><th>tumor_min</th><th>tumor_max</th><th>tumor_avg</th><th>tumor_std</th><th>tumor_median</th></tr><tr><td>str</td><td>f64</td><td>f64</td><td>f64</td><td>f64</td><td>f64</td></tr></thead><tbody><tr><td>&quot;ALL&quot;</td><td>0.0</td><td>1.0</td><td>0.35</td><td>0.26</td><td>0.32</td></tr><tr><td>&quot;wsi_tiled&quot;</td><td>0.0</td><td>1.0</td><td>0.32</td><td>0.24</td><td>0.3</td></tr><tr><td>&quot;img_tiled&quot;</td><td>0.0</td><td>1.0</td><td>0.43</td><td>0.3</td><td>0.4</td></tr><tr><td>&quot;val&quot;</td><td>0.0</td><td>1.0</td><td>0.31</td><td>0.28</td><td>0.23</td></tr><tr><td>&quot;train&quot;</td><td>0.0</td><td>1.0</td><td>0.35</td><td>0.25</td><td>0.34</td></tr><tr><td>&hellip;</td><td>&hellip;</td><td>&hellip;</td><td>&hellip;</td><td>&hellip;</td><td>&hellip;</td></tr><tr><td>&quot;wsi_tiled_val&quot;</td><td>0.0</td><td>1.0</td><td>0.25</td><td>0.24</td><td>0.16</td></tr><tr><td>&quot;wsi_tiled_train&quot;</td><td>0.0</td><td>0.96</td><td>0.33</td><td>0.23</td><td>0.33</td></tr><tr><td>&quot;img_tiled_train&quot;</td><td>0.0</td><td>1.0</td><td>0.42</td><td>0.3</td><td>0.37</td></tr><tr><td>&quot;wsi_tiled_test&quot;</td><td>0.0</td><td>1.0</td><td>0.31</td><td>0.25</td><td>0.27</td></tr><tr><td>&quot;img_tiled_test&quot;</td><td>0.0</td><td>1.0</td><td>0.47</td><td>0.31</td><td>0.48</td></tr></tbody></table></div>"
      ],
      "text/plain": [
       "shape: (12, 6)\n",
       "┌─────────────────┬───────────┬───────────┬───────────┬───────────┬──────────────┐\n",
       "│ set             ┆ tumor_min ┆ tumor_max ┆ tumor_avg ┆ tumor_std ┆ tumor_median │\n",
       "│ ---             ┆ ---       ┆ ---       ┆ ---       ┆ ---       ┆ ---          │\n",
       "│ str             ┆ f64       ┆ f64       ┆ f64       ┆ f64       ┆ f64          │\n",
       "╞═════════════════╪═══════════╪═══════════╪═══════════╪═══════════╪══════════════╡\n",
       "│ ALL             ┆ 0.0       ┆ 1.0       ┆ 0.35      ┆ 0.26      ┆ 0.32         │\n",
       "│ wsi_tiled       ┆ 0.0       ┆ 1.0       ┆ 0.32      ┆ 0.24      ┆ 0.3          │\n",
       "│ img_tiled       ┆ 0.0       ┆ 1.0       ┆ 0.43      ┆ 0.3       ┆ 0.4          │\n",
       "│ val             ┆ 0.0       ┆ 1.0       ┆ 0.31      ┆ 0.28      ┆ 0.23         │\n",
       "│ train           ┆ 0.0       ┆ 1.0       ┆ 0.35      ┆ 0.25      ┆ 0.34         │\n",
       "│ …               ┆ …         ┆ …         ┆ …         ┆ …         ┆ …            │\n",
       "│ wsi_tiled_val   ┆ 0.0       ┆ 1.0       ┆ 0.25      ┆ 0.24      ┆ 0.16         │\n",
       "│ wsi_tiled_train ┆ 0.0       ┆ 0.96      ┆ 0.33      ┆ 0.23      ┆ 0.33         │\n",
       "│ img_tiled_train ┆ 0.0       ┆ 1.0       ┆ 0.42      ┆ 0.3       ┆ 0.37         │\n",
       "│ wsi_tiled_test  ┆ 0.0       ┆ 1.0       ┆ 0.31      ┆ 0.25      ┆ 0.27         │\n",
       "│ img_tiled_test  ┆ 0.0       ┆ 1.0       ┆ 0.47      ┆ 0.31      ┆ 0.48         │\n",
       "└─────────────────┴───────────┴───────────┴───────────┴───────────┴──────────────┘"
      ]
     },
     "execution_count": 83,
     "metadata": {},
     "output_type": "execute_result"
    }
   ],
   "source": [
    "# All Tumor Tile Information\n",
    "\n",
    "all_tumor_metrics_df = pl.concat(\n",
    "    [overall_tumor, per_category_tumor, per_split_tumor, per_category_split_tumor]\n",
    ")\n",
    "\n",
    "all_tumor_metrics_df"
   ]
  },
  {
   "cell_type": "markdown",
   "id": "Pvdt",
   "metadata": {},
   "source": [
    "# Combined Metrics"
   ]
  },
  {
   "cell_type": "code",
   "execution_count": 84,
   "id": "ZBYS",
   "metadata": {},
   "outputs": [
    {
     "data": {
      "text/html": [
       "<div><style>\n",
       ".dataframe > thead > tr,\n",
       ".dataframe > tbody > tr {\n",
       "  text-align: right;\n",
       "  white-space: pre-wrap;\n",
       "}\n",
       "</style>\n",
       "<small>shape: (12, 15)</small><table border=\"1\" class=\"dataframe\"><thead><tr><th>set</th><th>slide_count</th><th>slide_pct</th><th>tile_min</th><th>tile_max</th><th>tile_avg</th><th>tile_std</th><th>tile_median</th><th>tile_count</th><th>tile_pct</th><th>tumor_min</th><th>tumor_max</th><th>tumor_avg</th><th>tumor_std</th><th>tumor_median</th></tr><tr><td>str</td><td>u32</td><td>f64</td><td>i64</td><td>i64</td><td>f64</td><td>f64</td><td>f64</td><td>i64</td><td>f64</td><td>f64</td><td>f64</td><td>f64</td><td>f64</td><td>f64</td></tr></thead><tbody><tr><td>&quot;ALL&quot;</td><td>164</td><td>100.0</td><td>0</td><td>2639</td><td>78.0</td><td>274.0</td><td>22.0</td><td>12710</td><td>100.0</td><td>0.0</td><td>1.0</td><td>0.35</td><td>0.26</td><td>0.32</td></tr><tr><td>&quot;wsi_tiled&quot;</td><td>11</td><td>6.71</td><td>284</td><td>2639</td><td>877.0</td><td>682.0</td><td>644.0</td><td>9649</td><td>75.92</td><td>0.0</td><td>1.0</td><td>0.32</td><td>0.24</td><td>0.3</td></tr><tr><td>&quot;img_tiled&quot;</td><td>153</td><td>93.29</td><td>0</td><td>36</td><td>20.0</td><td>7.0</td><td>18.0</td><td>3061</td><td>24.08</td><td>0.0</td><td>1.0</td><td>0.43</td><td>0.3</td><td>0.4</td></tr><tr><td>&quot;val&quot;</td><td>33</td><td>20.12</td><td>0</td><td>850</td><td>51.0</td><td>151.0</td><td>16.0</td><td>1694</td><td>13.33</td><td>0.0</td><td>1.0</td><td>0.31</td><td>0.28</td><td>0.23</td></tr><tr><td>&quot;train&quot;</td><td>99</td><td>60.37</td><td>0</td><td>2639</td><td>90.0</td><td>323.0</td><td>24.0</td><td>8865</td><td>69.75</td><td>0.0</td><td>1.0</td><td>0.35</td><td>0.25</td><td>0.34</td></tr><tr><td>&hellip;</td><td>&hellip;</td><td>&hellip;</td><td>&hellip;</td><td>&hellip;</td><td>&hellip;</td><td>&hellip;</td><td>&hellip;</td><td>&hellip;</td><td>&hellip;</td><td>&hellip;</td><td>&hellip;</td><td>&hellip;</td><td>&hellip;</td><td>&hellip;</td></tr><tr><td>&quot;wsi_tiled_val&quot;</td><td>2</td><td>1.22</td><td>284</td><td>850</td><td>567.0</td><td>400.0</td><td>567.0</td><td>1134</td><td>8.92</td><td>0.0</td><td>1.0</td><td>0.25</td><td>0.24</td><td>0.16</td></tr><tr><td>&quot;wsi_tiled_train&quot;</td><td>7</td><td>4.27</td><td>459</td><td>2639</td><td>987.0</td><td>832.0</td><td>537.0</td><td>6908</td><td>54.35</td><td>0.0</td><td>0.96</td><td>0.33</td><td>0.23</td><td>0.33</td></tr><tr><td>&quot;img_tiled_train&quot;</td><td>92</td><td>56.1</td><td>0</td><td>36</td><td>21.0</td><td>7.0</td><td>24.0</td><td>1957</td><td>15.4</td><td>0.0</td><td>1.0</td><td>0.42</td><td>0.3</td><td>0.37</td></tr><tr><td>&quot;wsi_tiled_test&quot;</td><td>2</td><td>1.22</td><td>644</td><td>963</td><td>804.0</td><td>226.0</td><td>803.5</td><td>1607</td><td>12.64</td><td>0.0</td><td>1.0</td><td>0.31</td><td>0.25</td><td>0.27</td></tr><tr><td>&quot;img_tiled_test&quot;</td><td>30</td><td>18.29</td><td>3</td><td>35</td><td>18.0</td><td>7.0</td><td>16.0</td><td>544</td><td>4.28</td><td>0.0</td><td>1.0</td><td>0.47</td><td>0.31</td><td>0.48</td></tr></tbody></table></div>"
      ],
      "text/plain": [
       "shape: (12, 15)\n",
       "┌───────────┬───────────┬───────────┬──────────┬───┬───────────┬───────────┬───────────┬───────────┐\n",
       "│ set       ┆ slide_cou ┆ slide_pct ┆ tile_min ┆ … ┆ tumor_max ┆ tumor_avg ┆ tumor_std ┆ tumor_med │\n",
       "│ ---       ┆ nt        ┆ ---       ┆ ---      ┆   ┆ ---       ┆ ---       ┆ ---       ┆ ian       │\n",
       "│ str       ┆ ---       ┆ f64       ┆ i64      ┆   ┆ f64       ┆ f64       ┆ f64       ┆ ---       │\n",
       "│           ┆ u32       ┆           ┆          ┆   ┆           ┆           ┆           ┆ f64       │\n",
       "╞═══════════╪═══════════╪═══════════╪══════════╪═══╪═══════════╪═══════════╪═══════════╪═══════════╡\n",
       "│ ALL       ┆ 164       ┆ 100.0     ┆ 0        ┆ … ┆ 1.0       ┆ 0.35      ┆ 0.26      ┆ 0.32      │\n",
       "│ wsi_tiled ┆ 11        ┆ 6.71      ┆ 284      ┆ … ┆ 1.0       ┆ 0.32      ┆ 0.24      ┆ 0.3       │\n",
       "│ img_tiled ┆ 153       ┆ 93.29     ┆ 0        ┆ … ┆ 1.0       ┆ 0.43      ┆ 0.3       ┆ 0.4       │\n",
       "│ val       ┆ 33        ┆ 20.12     ┆ 0        ┆ … ┆ 1.0       ┆ 0.31      ┆ 0.28      ┆ 0.23      │\n",
       "│ train     ┆ 99        ┆ 60.37     ┆ 0        ┆ … ┆ 1.0       ┆ 0.35      ┆ 0.25      ┆ 0.34      │\n",
       "│ …         ┆ …         ┆ …         ┆ …        ┆ … ┆ …         ┆ …         ┆ …         ┆ …         │\n",
       "│ wsi_tiled ┆ 2         ┆ 1.22      ┆ 284      ┆ … ┆ 1.0       ┆ 0.25      ┆ 0.24      ┆ 0.16      │\n",
       "│ _val      ┆           ┆           ┆          ┆   ┆           ┆           ┆           ┆           │\n",
       "│ wsi_tiled ┆ 7         ┆ 4.27      ┆ 459      ┆ … ┆ 0.96      ┆ 0.33      ┆ 0.23      ┆ 0.33      │\n",
       "│ _train    ┆           ┆           ┆          ┆   ┆           ┆           ┆           ┆           │\n",
       "│ img_tiled ┆ 92        ┆ 56.1      ┆ 0        ┆ … ┆ 1.0       ┆ 0.42      ┆ 0.3       ┆ 0.37      │\n",
       "│ _train    ┆           ┆           ┆          ┆   ┆           ┆           ┆           ┆           │\n",
       "│ wsi_tiled ┆ 2         ┆ 1.22      ┆ 644      ┆ … ┆ 1.0       ┆ 0.31      ┆ 0.25      ┆ 0.27      │\n",
       "│ _test     ┆           ┆           ┆          ┆   ┆           ┆           ┆           ┆           │\n",
       "│ img_tiled ┆ 30        ┆ 18.29     ┆ 3        ┆ … ┆ 1.0       ┆ 0.47      ┆ 0.31      ┆ 0.48      │\n",
       "│ _test     ┆           ┆           ┆          ┆   ┆           ┆           ┆           ┆           │\n",
       "└───────────┴───────────┴───────────┴──────────┴───┴───────────┴───────────┴───────────┴───────────┘"
      ]
     },
     "execution_count": 84,
     "metadata": {},
     "output_type": "execute_result"
    }
   ],
   "source": [
    "final_df = all_slide_metrics_df.join(all_tumor_metrics_df, on=\"set\")\n",
    "\n",
    "final_df"
   ]
  }
 ],
 "metadata": {
  "kernelspec": {
   "display_name": ".venv",
   "language": "python",
   "name": "python3"
  },
  "language_info": {
   "codemirror_mode": {
    "name": "ipython",
    "version": 3
   },
   "file_extension": ".py",
   "mimetype": "text/x-python",
   "name": "python",
   "nbconvert_exporter": "python",
   "pygments_lexer": "ipython3",
   "version": "3.13.3"
  }
 },
 "nbformat": 4,
 "nbformat_minor": 5
}
