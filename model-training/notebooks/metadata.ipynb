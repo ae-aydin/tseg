{
 "cells": [
  {
   "cell_type": "code",
   "execution_count": 30,
   "id": "Hbol",
   "metadata": {},
   "outputs": [],
   "source": [
    "from pathlib import Path\n",
    "\n",
    "import polars as pl"
   ]
  },
  {
   "cell_type": "code",
   "execution_count": 31,
   "id": "MJUe",
   "metadata": {},
   "outputs": [
    {
     "ename": "FileNotFoundError",
     "evalue": "No such file or directory (os error 2): /home/arif/Playground/tiles/dataset-combined-512-256-jpg/metadata/split.csv",
     "output_type": "error",
     "traceback": [
      "\u001b[31m---------------------------------------------------------------------------\u001b[39m",
      "\u001b[31mFileNotFoundError\u001b[39m                         Traceback (most recent call last)",
      "\u001b[36mCell\u001b[39m\u001b[36m \u001b[39m\u001b[32mIn[31]\u001b[39m\u001b[32m, line 3\u001b[39m\n\u001b[32m      1\u001b[39m DATASET_PATH = Path(\u001b[33m\"\u001b[39m\u001b[33m~/Playground/tiles/dataset-combined-512-256-jpg/\u001b[39m\u001b[33m\"\u001b[39m)\n\u001b[32m----> \u001b[39m\u001b[32m3\u001b[39m split_df = \u001b[43mpl\u001b[49m\u001b[43m.\u001b[49m\u001b[43mread_csv\u001b[49m\u001b[43m(\u001b[49m\u001b[43mDATASET_PATH\u001b[49m\u001b[43m \u001b[49m\u001b[43m/\u001b[49m\u001b[43m \u001b[49m\u001b[33;43m\"\u001b[39;49m\u001b[33;43mmetadata\u001b[39;49m\u001b[33;43m\"\u001b[39;49m\u001b[43m \u001b[49m\u001b[43m/\u001b[49m\u001b[43m \u001b[49m\u001b[33;43m\"\u001b[39;49m\u001b[33;43msplit.csv\u001b[39;49m\u001b[33;43m\"\u001b[39;49m\u001b[43m)\u001b[49m\n\u001b[32m      4\u001b[39m slide_df = pl.read_csv(DATASET_PATH / \u001b[33m\"\u001b[39m\u001b[33mmetadata\u001b[39m\u001b[33m\"\u001b[39m / \u001b[33m\"\u001b[39m\u001b[33mslide_info.csv\u001b[39m\u001b[33m\"\u001b[39m)\n\u001b[32m      5\u001b[39m tiles_df = pl.read_csv(DATASET_PATH / \u001b[33m\"\u001b[39m\u001b[33mmetadata\u001b[39m\u001b[33m\"\u001b[39m / \u001b[33m\"\u001b[39m\u001b[33mtile_info.csv\u001b[39m\u001b[33m\"\u001b[39m)\n",
      "\u001b[36mFile \u001b[39m\u001b[32m~/Playground/code-tseg/tseg/.venv/lib/python3.12/site-packages/polars/_utils/deprecation.py:128\u001b[39m, in \u001b[36mdeprecate_renamed_parameter.<locals>.decorate.<locals>.wrapper\u001b[39m\u001b[34m(*args, **kwargs)\u001b[39m\n\u001b[32m    123\u001b[39m \u001b[38;5;129m@wraps\u001b[39m(function)\n\u001b[32m    124\u001b[39m \u001b[38;5;28;01mdef\u001b[39;00m\u001b[38;5;250m \u001b[39m\u001b[34mwrapper\u001b[39m(*args: P.args, **kwargs: P.kwargs) -> T:\n\u001b[32m    125\u001b[39m     _rename_keyword_argument(\n\u001b[32m    126\u001b[39m         old_name, new_name, kwargs, function.\u001b[34m__qualname__\u001b[39m, version\n\u001b[32m    127\u001b[39m     )\n\u001b[32m--> \u001b[39m\u001b[32m128\u001b[39m     \u001b[38;5;28;01mreturn\u001b[39;00m \u001b[43mfunction\u001b[49m\u001b[43m(\u001b[49m\u001b[43m*\u001b[49m\u001b[43margs\u001b[49m\u001b[43m,\u001b[49m\u001b[43m \u001b[49m\u001b[43m*\u001b[49m\u001b[43m*\u001b[49m\u001b[43mkwargs\u001b[49m\u001b[43m)\u001b[49m\n",
      "\u001b[36mFile \u001b[39m\u001b[32m~/Playground/code-tseg/tseg/.venv/lib/python3.12/site-packages/polars/_utils/deprecation.py:128\u001b[39m, in \u001b[36mdeprecate_renamed_parameter.<locals>.decorate.<locals>.wrapper\u001b[39m\u001b[34m(*args, **kwargs)\u001b[39m\n\u001b[32m    123\u001b[39m \u001b[38;5;129m@wraps\u001b[39m(function)\n\u001b[32m    124\u001b[39m \u001b[38;5;28;01mdef\u001b[39;00m\u001b[38;5;250m \u001b[39m\u001b[34mwrapper\u001b[39m(*args: P.args, **kwargs: P.kwargs) -> T:\n\u001b[32m    125\u001b[39m     _rename_keyword_argument(\n\u001b[32m    126\u001b[39m         old_name, new_name, kwargs, function.\u001b[34m__qualname__\u001b[39m, version\n\u001b[32m    127\u001b[39m     )\n\u001b[32m--> \u001b[39m\u001b[32m128\u001b[39m     \u001b[38;5;28;01mreturn\u001b[39;00m \u001b[43mfunction\u001b[49m\u001b[43m(\u001b[49m\u001b[43m*\u001b[49m\u001b[43margs\u001b[49m\u001b[43m,\u001b[49m\u001b[43m \u001b[49m\u001b[43m*\u001b[49m\u001b[43m*\u001b[49m\u001b[43mkwargs\u001b[49m\u001b[43m)\u001b[49m\n",
      "\u001b[36mFile \u001b[39m\u001b[32m~/Playground/code-tseg/tseg/.venv/lib/python3.12/site-packages/polars/_utils/deprecation.py:128\u001b[39m, in \u001b[36mdeprecate_renamed_parameter.<locals>.decorate.<locals>.wrapper\u001b[39m\u001b[34m(*args, **kwargs)\u001b[39m\n\u001b[32m    123\u001b[39m \u001b[38;5;129m@wraps\u001b[39m(function)\n\u001b[32m    124\u001b[39m \u001b[38;5;28;01mdef\u001b[39;00m\u001b[38;5;250m \u001b[39m\u001b[34mwrapper\u001b[39m(*args: P.args, **kwargs: P.kwargs) -> T:\n\u001b[32m    125\u001b[39m     _rename_keyword_argument(\n\u001b[32m    126\u001b[39m         old_name, new_name, kwargs, function.\u001b[34m__qualname__\u001b[39m, version\n\u001b[32m    127\u001b[39m     )\n\u001b[32m--> \u001b[39m\u001b[32m128\u001b[39m     \u001b[38;5;28;01mreturn\u001b[39;00m \u001b[43mfunction\u001b[49m\u001b[43m(\u001b[49m\u001b[43m*\u001b[49m\u001b[43margs\u001b[49m\u001b[43m,\u001b[49m\u001b[43m \u001b[49m\u001b[43m*\u001b[49m\u001b[43m*\u001b[49m\u001b[43mkwargs\u001b[49m\u001b[43m)\u001b[49m\n",
      "\u001b[36mFile \u001b[39m\u001b[32m~/Playground/code-tseg/tseg/.venv/lib/python3.12/site-packages/polars/io/csv/functions.py:546\u001b[39m, in \u001b[36mread_csv\u001b[39m\u001b[34m(source, has_header, columns, new_columns, separator, comment_prefix, quote_char, skip_rows, skip_lines, schema, schema_overrides, null_values, missing_utf8_is_empty_string, ignore_errors, try_parse_dates, n_threads, infer_schema, infer_schema_length, batch_size, n_rows, encoding, low_memory, rechunk, use_pyarrow, storage_options, skip_rows_after_header, row_index_name, row_index_offset, sample_size, eol_char, raise_if_empty, truncate_ragged_lines, decimal_comma, glob)\u001b[39m\n\u001b[32m    538\u001b[39m \u001b[38;5;28;01melse\u001b[39;00m:\n\u001b[32m    539\u001b[39m     \u001b[38;5;28;01mwith\u001b[39;00m prepare_file_arg(\n\u001b[32m    540\u001b[39m         source,\n\u001b[32m    541\u001b[39m         encoding=encoding,\n\u001b[32m   (...)\u001b[39m\u001b[32m    544\u001b[39m         storage_options=storage_options,\n\u001b[32m    545\u001b[39m     ) \u001b[38;5;28;01mas\u001b[39;00m data:\n\u001b[32m--> \u001b[39m\u001b[32m546\u001b[39m         df = \u001b[43m_read_csv_impl\u001b[49m\u001b[43m(\u001b[49m\n\u001b[32m    547\u001b[39m \u001b[43m            \u001b[49m\u001b[43mdata\u001b[49m\u001b[43m,\u001b[49m\n\u001b[32m    548\u001b[39m \u001b[43m            \u001b[49m\u001b[43mhas_header\u001b[49m\u001b[43m=\u001b[49m\u001b[43mhas_header\u001b[49m\u001b[43m,\u001b[49m\n\u001b[32m    549\u001b[39m \u001b[43m            \u001b[49m\u001b[43mcolumns\u001b[49m\u001b[43m=\u001b[49m\u001b[43mcolumns\u001b[49m\u001b[43m \u001b[49m\u001b[38;5;28;43;01mif\u001b[39;49;00m\u001b[43m \u001b[49m\u001b[43mcolumns\u001b[49m\u001b[43m \u001b[49m\u001b[38;5;28;43;01melse\u001b[39;49;00m\u001b[43m \u001b[49m\u001b[43mprojection\u001b[49m\u001b[43m,\u001b[49m\n\u001b[32m    550\u001b[39m \u001b[43m            \u001b[49m\u001b[43mseparator\u001b[49m\u001b[43m=\u001b[49m\u001b[43mseparator\u001b[49m\u001b[43m,\u001b[49m\n\u001b[32m    551\u001b[39m \u001b[43m            \u001b[49m\u001b[43mcomment_prefix\u001b[49m\u001b[43m=\u001b[49m\u001b[43mcomment_prefix\u001b[49m\u001b[43m,\u001b[49m\n\u001b[32m    552\u001b[39m \u001b[43m            \u001b[49m\u001b[43mquote_char\u001b[49m\u001b[43m=\u001b[49m\u001b[43mquote_char\u001b[49m\u001b[43m,\u001b[49m\n\u001b[32m    553\u001b[39m \u001b[43m            \u001b[49m\u001b[43mskip_rows\u001b[49m\u001b[43m=\u001b[49m\u001b[43mskip_rows\u001b[49m\u001b[43m,\u001b[49m\n\u001b[32m    554\u001b[39m \u001b[43m            \u001b[49m\u001b[43mskip_lines\u001b[49m\u001b[43m=\u001b[49m\u001b[43mskip_lines\u001b[49m\u001b[43m,\u001b[49m\n\u001b[32m    555\u001b[39m \u001b[43m            \u001b[49m\u001b[43mschema_overrides\u001b[49m\u001b[43m=\u001b[49m\u001b[43mschema_overrides\u001b[49m\u001b[43m,\u001b[49m\n\u001b[32m    556\u001b[39m \u001b[43m            \u001b[49m\u001b[43mschema\u001b[49m\u001b[43m=\u001b[49m\u001b[43mschema\u001b[49m\u001b[43m,\u001b[49m\n\u001b[32m    557\u001b[39m \u001b[43m            \u001b[49m\u001b[43mnull_values\u001b[49m\u001b[43m=\u001b[49m\u001b[43mnull_values\u001b[49m\u001b[43m,\u001b[49m\n\u001b[32m    558\u001b[39m \u001b[43m            \u001b[49m\u001b[43mmissing_utf8_is_empty_string\u001b[49m\u001b[43m=\u001b[49m\u001b[43mmissing_utf8_is_empty_string\u001b[49m\u001b[43m,\u001b[49m\n\u001b[32m    559\u001b[39m \u001b[43m            \u001b[49m\u001b[43mignore_errors\u001b[49m\u001b[43m=\u001b[49m\u001b[43mignore_errors\u001b[49m\u001b[43m,\u001b[49m\n\u001b[32m    560\u001b[39m \u001b[43m            \u001b[49m\u001b[43mtry_parse_dates\u001b[49m\u001b[43m=\u001b[49m\u001b[43mtry_parse_dates\u001b[49m\u001b[43m,\u001b[49m\n\u001b[32m    561\u001b[39m \u001b[43m            \u001b[49m\u001b[43mn_threads\u001b[49m\u001b[43m=\u001b[49m\u001b[43mn_threads\u001b[49m\u001b[43m,\u001b[49m\n\u001b[32m    562\u001b[39m \u001b[43m            \u001b[49m\u001b[43minfer_schema_length\u001b[49m\u001b[43m=\u001b[49m\u001b[43minfer_schema_length\u001b[49m\u001b[43m,\u001b[49m\n\u001b[32m    563\u001b[39m \u001b[43m            \u001b[49m\u001b[43mbatch_size\u001b[49m\u001b[43m=\u001b[49m\u001b[43mbatch_size\u001b[49m\u001b[43m,\u001b[49m\n\u001b[32m    564\u001b[39m \u001b[43m            \u001b[49m\u001b[43mn_rows\u001b[49m\u001b[43m=\u001b[49m\u001b[43mn_rows\u001b[49m\u001b[43m,\u001b[49m\n\u001b[32m    565\u001b[39m \u001b[43m            \u001b[49m\u001b[43mencoding\u001b[49m\u001b[43m=\u001b[49m\u001b[43mencoding\u001b[49m\u001b[43m \u001b[49m\u001b[38;5;28;43;01mif\u001b[39;49;00m\u001b[43m \u001b[49m\u001b[43mencoding\u001b[49m\u001b[43m \u001b[49m\u001b[43m==\u001b[49m\u001b[43m \u001b[49m\u001b[33;43m\"\u001b[39;49m\u001b[33;43mutf8-lossy\u001b[39;49m\u001b[33;43m\"\u001b[39;49m\u001b[43m \u001b[49m\u001b[38;5;28;43;01melse\u001b[39;49;00m\u001b[43m \u001b[49m\u001b[33;43m\"\u001b[39;49m\u001b[33;43mutf8\u001b[39;49m\u001b[33;43m\"\u001b[39;49m\u001b[43m,\u001b[49m\n\u001b[32m    566\u001b[39m \u001b[43m            \u001b[49m\u001b[43mlow_memory\u001b[49m\u001b[43m=\u001b[49m\u001b[43mlow_memory\u001b[49m\u001b[43m,\u001b[49m\n\u001b[32m    567\u001b[39m \u001b[43m            \u001b[49m\u001b[43mrechunk\u001b[49m\u001b[43m=\u001b[49m\u001b[43mrechunk\u001b[49m\u001b[43m,\u001b[49m\n\u001b[32m    568\u001b[39m \u001b[43m            \u001b[49m\u001b[43mskip_rows_after_header\u001b[49m\u001b[43m=\u001b[49m\u001b[43mskip_rows_after_header\u001b[49m\u001b[43m,\u001b[49m\n\u001b[32m    569\u001b[39m \u001b[43m            \u001b[49m\u001b[43mrow_index_name\u001b[49m\u001b[43m=\u001b[49m\u001b[43mrow_index_name\u001b[49m\u001b[43m,\u001b[49m\n\u001b[32m    570\u001b[39m \u001b[43m            \u001b[49m\u001b[43mrow_index_offset\u001b[49m\u001b[43m=\u001b[49m\u001b[43mrow_index_offset\u001b[49m\u001b[43m,\u001b[49m\n\u001b[32m    571\u001b[39m \u001b[43m            \u001b[49m\u001b[43meol_char\u001b[49m\u001b[43m=\u001b[49m\u001b[43meol_char\u001b[49m\u001b[43m,\u001b[49m\n\u001b[32m    572\u001b[39m \u001b[43m            \u001b[49m\u001b[43mraise_if_empty\u001b[49m\u001b[43m=\u001b[49m\u001b[43mraise_if_empty\u001b[49m\u001b[43m,\u001b[49m\n\u001b[32m    573\u001b[39m \u001b[43m            \u001b[49m\u001b[43mtruncate_ragged_lines\u001b[49m\u001b[43m=\u001b[49m\u001b[43mtruncate_ragged_lines\u001b[49m\u001b[43m,\u001b[49m\n\u001b[32m    574\u001b[39m \u001b[43m            \u001b[49m\u001b[43mdecimal_comma\u001b[49m\u001b[43m=\u001b[49m\u001b[43mdecimal_comma\u001b[49m\u001b[43m,\u001b[49m\n\u001b[32m    575\u001b[39m \u001b[43m            \u001b[49m\u001b[43mglob\u001b[49m\u001b[43m=\u001b[49m\u001b[43mglob\u001b[49m\u001b[43m,\u001b[49m\n\u001b[32m    576\u001b[39m \u001b[43m        \u001b[49m\u001b[43m)\u001b[49m\n\u001b[32m    578\u001b[39m \u001b[38;5;28;01mif\u001b[39;00m new_columns:\n\u001b[32m    579\u001b[39m     \u001b[38;5;28;01mreturn\u001b[39;00m _update_columns(df, new_columns)\n",
      "\u001b[36mFile \u001b[39m\u001b[32m~/Playground/code-tseg/tseg/.venv/lib/python3.12/site-packages/polars/io/csv/functions.py:694\u001b[39m, in \u001b[36m_read_csv_impl\u001b[39m\u001b[34m(source, has_header, columns, separator, comment_prefix, quote_char, skip_rows, skip_lines, schema, schema_overrides, null_values, missing_utf8_is_empty_string, ignore_errors, try_parse_dates, n_threads, infer_schema_length, batch_size, n_rows, encoding, low_memory, rechunk, skip_rows_after_header, row_index_name, row_index_offset, sample_size, eol_char, raise_if_empty, truncate_ragged_lines, decimal_comma, glob)\u001b[39m\n\u001b[32m    690\u001b[39m         \u001b[38;5;28;01mraise\u001b[39;00m \u001b[38;5;167;01mValueError\u001b[39;00m(msg)\n\u001b[32m    692\u001b[39m projection, columns = parse_columns_arg(columns)\n\u001b[32m--> \u001b[39m\u001b[32m694\u001b[39m pydf = \u001b[43mPyDataFrame\u001b[49m\u001b[43m.\u001b[49m\u001b[43mread_csv\u001b[49m\u001b[43m(\u001b[49m\n\u001b[32m    695\u001b[39m \u001b[43m    \u001b[49m\u001b[43msource\u001b[49m\u001b[43m,\u001b[49m\n\u001b[32m    696\u001b[39m \u001b[43m    \u001b[49m\u001b[43minfer_schema_length\u001b[49m\u001b[43m,\u001b[49m\n\u001b[32m    697\u001b[39m \u001b[43m    \u001b[49m\u001b[43mbatch_size\u001b[49m\u001b[43m,\u001b[49m\n\u001b[32m    698\u001b[39m \u001b[43m    \u001b[49m\u001b[43mhas_header\u001b[49m\u001b[43m,\u001b[49m\n\u001b[32m    699\u001b[39m \u001b[43m    \u001b[49m\u001b[43mignore_errors\u001b[49m\u001b[43m,\u001b[49m\n\u001b[32m    700\u001b[39m \u001b[43m    \u001b[49m\u001b[43mn_rows\u001b[49m\u001b[43m,\u001b[49m\n\u001b[32m    701\u001b[39m \u001b[43m    \u001b[49m\u001b[43mskip_rows\u001b[49m\u001b[43m,\u001b[49m\n\u001b[32m    702\u001b[39m \u001b[43m    \u001b[49m\u001b[43mskip_lines\u001b[49m\u001b[43m,\u001b[49m\n\u001b[32m    703\u001b[39m \u001b[43m    \u001b[49m\u001b[43mprojection\u001b[49m\u001b[43m,\u001b[49m\n\u001b[32m    704\u001b[39m \u001b[43m    \u001b[49m\u001b[43mseparator\u001b[49m\u001b[43m,\u001b[49m\n\u001b[32m    705\u001b[39m \u001b[43m    \u001b[49m\u001b[43mrechunk\u001b[49m\u001b[43m,\u001b[49m\n\u001b[32m    706\u001b[39m \u001b[43m    \u001b[49m\u001b[43mcolumns\u001b[49m\u001b[43m,\u001b[49m\n\u001b[32m    707\u001b[39m \u001b[43m    \u001b[49m\u001b[43mencoding\u001b[49m\u001b[43m,\u001b[49m\n\u001b[32m    708\u001b[39m \u001b[43m    \u001b[49m\u001b[43mn_threads\u001b[49m\u001b[43m,\u001b[49m\n\u001b[32m    709\u001b[39m \u001b[43m    \u001b[49m\u001b[43mpath\u001b[49m\u001b[43m,\u001b[49m\n\u001b[32m    710\u001b[39m \u001b[43m    \u001b[49m\u001b[43mdtype_list\u001b[49m\u001b[43m,\u001b[49m\n\u001b[32m    711\u001b[39m \u001b[43m    \u001b[49m\u001b[43mdtype_slice\u001b[49m\u001b[43m,\u001b[49m\n\u001b[32m    712\u001b[39m \u001b[43m    \u001b[49m\u001b[43mlow_memory\u001b[49m\u001b[43m,\u001b[49m\n\u001b[32m    713\u001b[39m \u001b[43m    \u001b[49m\u001b[43mcomment_prefix\u001b[49m\u001b[43m,\u001b[49m\n\u001b[32m    714\u001b[39m \u001b[43m    \u001b[49m\u001b[43mquote_char\u001b[49m\u001b[43m,\u001b[49m\n\u001b[32m    715\u001b[39m \u001b[43m    \u001b[49m\u001b[43mprocessed_null_values\u001b[49m\u001b[43m,\u001b[49m\n\u001b[32m    716\u001b[39m \u001b[43m    \u001b[49m\u001b[43mmissing_utf8_is_empty_string\u001b[49m\u001b[43m,\u001b[49m\n\u001b[32m    717\u001b[39m \u001b[43m    \u001b[49m\u001b[43mtry_parse_dates\u001b[49m\u001b[43m,\u001b[49m\n\u001b[32m    718\u001b[39m \u001b[43m    \u001b[49m\u001b[43mskip_rows_after_header\u001b[49m\u001b[43m,\u001b[49m\n\u001b[32m    719\u001b[39m \u001b[43m    \u001b[49m\u001b[43mparse_row_index_args\u001b[49m\u001b[43m(\u001b[49m\u001b[43mrow_index_name\u001b[49m\u001b[43m,\u001b[49m\u001b[43m \u001b[49m\u001b[43mrow_index_offset\u001b[49m\u001b[43m)\u001b[49m\u001b[43m,\u001b[49m\n\u001b[32m    720\u001b[39m \u001b[43m    \u001b[49m\u001b[43meol_char\u001b[49m\u001b[43m=\u001b[49m\u001b[43meol_char\u001b[49m\u001b[43m,\u001b[49m\n\u001b[32m    721\u001b[39m \u001b[43m    \u001b[49m\u001b[43mraise_if_empty\u001b[49m\u001b[43m=\u001b[49m\u001b[43mraise_if_empty\u001b[49m\u001b[43m,\u001b[49m\n\u001b[32m    722\u001b[39m \u001b[43m    \u001b[49m\u001b[43mtruncate_ragged_lines\u001b[49m\u001b[43m=\u001b[49m\u001b[43mtruncate_ragged_lines\u001b[49m\u001b[43m,\u001b[49m\n\u001b[32m    723\u001b[39m \u001b[43m    \u001b[49m\u001b[43mdecimal_comma\u001b[49m\u001b[43m=\u001b[49m\u001b[43mdecimal_comma\u001b[49m\u001b[43m,\u001b[49m\n\u001b[32m    724\u001b[39m \u001b[43m    \u001b[49m\u001b[43mschema\u001b[49m\u001b[43m=\u001b[49m\u001b[43mschema\u001b[49m\u001b[43m,\u001b[49m\n\u001b[32m    725\u001b[39m \u001b[43m\u001b[49m\u001b[43m)\u001b[49m\n\u001b[32m    726\u001b[39m \u001b[38;5;28;01mreturn\u001b[39;00m wrap_df(pydf)\n",
      "\u001b[31mFileNotFoundError\u001b[39m: No such file or directory (os error 2): /home/arif/Playground/tiles/dataset-combined-512-256-jpg/metadata/split.csv"
     ]
    }
   ],
   "source": [
    "DATASET_PATH = Path(\"~/Playground/tiles/dataset-combined-512-256-jpg/\")\n",
    "\n",
    "split_df = pl.read_csv(DATASET_PATH / \"metadata\" / \"split.csv\")\n",
    "slide_df = pl.read_csv(DATASET_PATH / \"metadata\" / \"slide_info.csv\")\n",
    "tiles_df = pl.read_csv(DATASET_PATH / \"metadata\" / \"tile_info.csv\")"
   ]
  },
  {
   "cell_type": "markdown",
   "id": "vblA",
   "metadata": {},
   "source": [
    "# General Information"
   ]
  },
  {
   "cell_type": "code",
   "execution_count": 5,
   "id": "bkHC",
   "metadata": {},
   "outputs": [
    {
     "name": "stdout",
     "output_type": "stream",
     "text": [
      "Rows: 164\n",
      "Columns: 2\n",
      "$ slide_name <str> 'B-25194-23-ER', 'B-17557-23-KI67', 'B-20002-23-ER'\n",
      "$ split      <str> 'train', 'train', 'train'\n",
      "\n"
     ]
    }
   ],
   "source": [
    "split_df.glimpse(max_items_per_column=3)"
   ]
  },
  {
   "cell_type": "code",
   "execution_count": 6,
   "id": "lEQa",
   "metadata": {},
   "outputs": [
    {
     "data": {
      "text/html": [
       "<div><style>\n",
       ".dataframe > thead > tr,\n",
       ".dataframe > tbody > tr {\n",
       "  text-align: right;\n",
       "  white-space: pre-wrap;\n",
       "}\n",
       "</style>\n",
       "<small>shape: (5, 2)</small><table border=\"1\" class=\"dataframe\"><thead><tr><th>slide_name</th><th>split</th></tr><tr><td>str</td><td>str</td></tr></thead><tbody><tr><td>&quot;B-25194-23-ER&quot;</td><td>&quot;train&quot;</td></tr><tr><td>&quot;B-17557-23-KI67&quot;</td><td>&quot;train&quot;</td></tr><tr><td>&quot;B-20002-23-ER&quot;</td><td>&quot;train&quot;</td></tr><tr><td>&quot;B-19844-23-ER&quot;</td><td>&quot;train&quot;</td></tr><tr><td>&quot;B-20788-23-ER&quot;</td><td>&quot;train&quot;</td></tr></tbody></table></div>"
      ],
      "text/plain": [
       "shape: (5, 2)\n",
       "┌─────────────────┬───────┐\n",
       "│ slide_name      ┆ split │\n",
       "│ ---             ┆ ---   │\n",
       "│ str             ┆ str   │\n",
       "╞═════════════════╪═══════╡\n",
       "│ B-25194-23-ER   ┆ train │\n",
       "│ B-17557-23-KI67 ┆ train │\n",
       "│ B-20002-23-ER   ┆ train │\n",
       "│ B-19844-23-ER   ┆ train │\n",
       "│ B-20788-23-ER   ┆ train │\n",
       "└─────────────────┴───────┘"
      ]
     },
     "execution_count": 6,
     "metadata": {},
     "output_type": "execute_result"
    }
   ],
   "source": [
    "split_df.head(5)"
   ]
  },
  {
   "cell_type": "code",
   "execution_count": 7,
   "id": "PKri",
   "metadata": {},
   "outputs": [
    {
     "name": "stdout",
     "output_type": "stream",
     "text": [
      "Rows: 164\n",
      "Columns: 9\n",
      "$ category               <str> 'wsi_tiled', 'wsi_tiled', 'wsi_tiled'\n",
      "$ slide_name             <str> 'B-17557-23-ER', 'B-17557-23-KI67', 'B-18125-23-ER'\n",
      "$ downsample_rate        <f64> 3.0, 3.0, 3.0\n",
      "$ img_size               <i64> 512, 512, 512\n",
      "$ overlap_ratio_per_tile <f64> 0.5, 0.5, 0.5\n",
      "$ only_annotated_tiles   <str> 'T', 'T', 'T'\n",
      "$ allow_partial_tiles    <str> 'F', 'F', 'F'\n",
      "$ tile_count             <i64> 459, 470, 1591\n",
      "$ mask_count             <i64> 459, 470, 1591\n",
      "\n"
     ]
    }
   ],
   "source": [
    "slide_df.glimpse(max_items_per_column=3)"
   ]
  },
  {
   "cell_type": "code",
   "execution_count": 8,
   "id": "Xref",
   "metadata": {},
   "outputs": [
    {
     "data": {
      "text/html": [
       "<div><style>\n",
       ".dataframe > thead > tr,\n",
       ".dataframe > tbody > tr {\n",
       "  text-align: right;\n",
       "  white-space: pre-wrap;\n",
       "}\n",
       "</style>\n",
       "<small>shape: (5, 9)</small><table border=\"1\" class=\"dataframe\"><thead><tr><th>category</th><th>slide_name</th><th>downsample_rate</th><th>img_size</th><th>overlap_ratio_per_tile</th><th>only_annotated_tiles</th><th>allow_partial_tiles</th><th>tile_count</th><th>mask_count</th></tr><tr><td>str</td><td>str</td><td>f64</td><td>i64</td><td>f64</td><td>str</td><td>str</td><td>i64</td><td>i64</td></tr></thead><tbody><tr><td>&quot;wsi_tiled&quot;</td><td>&quot;B-17557-23-ER&quot;</td><td>3.0</td><td>512</td><td>0.5</td><td>&quot;T&quot;</td><td>&quot;F&quot;</td><td>459</td><td>459</td></tr><tr><td>&quot;wsi_tiled&quot;</td><td>&quot;B-17557-23-KI67&quot;</td><td>3.0</td><td>512</td><td>0.5</td><td>&quot;T&quot;</td><td>&quot;F&quot;</td><td>470</td><td>470</td></tr><tr><td>&quot;wsi_tiled&quot;</td><td>&quot;B-18125-23-ER&quot;</td><td>3.0</td><td>512</td><td>0.5</td><td>&quot;T&quot;</td><td>&quot;F&quot;</td><td>1591</td><td>1591</td></tr><tr><td>&quot;wsi_tiled&quot;</td><td>&quot;B-18132-23-ER&quot;</td><td>3.0</td><td>512</td><td>0.5</td><td>&quot;T&quot;</td><td>&quot;F&quot;</td><td>850</td><td>850</td></tr><tr><td>&quot;wsi_tiled&quot;</td><td>&quot;B-19844-23-ER&quot;</td><td>3.0</td><td>512</td><td>0.5</td><td>&quot;T&quot;</td><td>&quot;F&quot;</td><td>2639</td><td>2639</td></tr></tbody></table></div>"
      ],
      "text/plain": [
       "shape: (5, 9)\n",
       "┌───────────┬───────────┬───────────┬──────────┬───┬───────────┬───────────┬───────────┬───────────┐\n",
       "│ category  ┆ slide_nam ┆ downsampl ┆ img_size ┆ … ┆ only_anno ┆ allow_par ┆ tile_coun ┆ mask_coun │\n",
       "│ ---       ┆ e         ┆ e_rate    ┆ ---      ┆   ┆ tated_til ┆ tial_tile ┆ t         ┆ t         │\n",
       "│ str       ┆ ---       ┆ ---       ┆ i64      ┆   ┆ es        ┆ s         ┆ ---       ┆ ---       │\n",
       "│           ┆ str       ┆ f64       ┆          ┆   ┆ ---       ┆ ---       ┆ i64       ┆ i64       │\n",
       "│           ┆           ┆           ┆          ┆   ┆ str       ┆ str       ┆           ┆           │\n",
       "╞═══════════╪═══════════╪═══════════╪══════════╪═══╪═══════════╪═══════════╪═══════════╪═══════════╡\n",
       "│ wsi_tiled ┆ B-17557-2 ┆ 3.0       ┆ 512      ┆ … ┆ T         ┆ F         ┆ 459       ┆ 459       │\n",
       "│           ┆ 3-ER      ┆           ┆          ┆   ┆           ┆           ┆           ┆           │\n",
       "│ wsi_tiled ┆ B-17557-2 ┆ 3.0       ┆ 512      ┆ … ┆ T         ┆ F         ┆ 470       ┆ 470       │\n",
       "│           ┆ 3-KI67    ┆           ┆          ┆   ┆           ┆           ┆           ┆           │\n",
       "│ wsi_tiled ┆ B-18125-2 ┆ 3.0       ┆ 512      ┆ … ┆ T         ┆ F         ┆ 1591      ┆ 1591      │\n",
       "│           ┆ 3-ER      ┆           ┆          ┆   ┆           ┆           ┆           ┆           │\n",
       "│ wsi_tiled ┆ B-18132-2 ┆ 3.0       ┆ 512      ┆ … ┆ T         ┆ F         ┆ 850       ┆ 850       │\n",
       "│           ┆ 3-ER      ┆           ┆          ┆   ┆           ┆           ┆           ┆           │\n",
       "│ wsi_tiled ┆ B-19844-2 ┆ 3.0       ┆ 512      ┆ … ┆ T         ┆ F         ┆ 2639      ┆ 2639      │\n",
       "│           ┆ 3-ER      ┆           ┆          ┆   ┆           ┆           ┆           ┆           │\n",
       "└───────────┴───────────┴───────────┴──────────┴───┴───────────┴───────────┴───────────┴───────────┘"
      ]
     },
     "execution_count": 8,
     "metadata": {},
     "output_type": "execute_result"
    }
   ],
   "source": [
    "slide_df.head(5)"
   ]
  },
  {
   "cell_type": "code",
   "execution_count": 9,
   "id": "SFPL",
   "metadata": {},
   "outputs": [
    {
     "name": "stdout",
     "output_type": "stream",
     "text": [
      "Rows: 12710\n",
      "Columns: 10\n",
      "$ slide_name          <str> 'B-17557-23-ER', 'B-17557-23-ER', 'B-17557-23-ER'\n",
      "$ parent_dir_path     <str> 'slides/B-17557-23-ER', 'slides/B-17557-23-ER', 'slides/B-17557-23-ER'\n",
      "$ relative_image_path <str> 'images/B-17557-23-ER.vsi - 20x [d=3,x=47616,y=0,w=1536,h=1536].jpg', 'images/B-17557-23-ER.vsi - 20x [d=3,x=47616,y=768,w=1536,h=1536].jpg', 'images/B-17557-23-ER.vsi - 20x [d=3,x=52224,y=0,w=1536,h=1536].jpg'\n",
      "$ relative_mask_path  <str> 'masks/B-17557-23-ER.vsi - 20x [d=3,x=47616,y=0,w=1536,h=1536]_label.png', 'masks/B-17557-23-ER.vsi - 20x [d=3,x=47616,y=768,w=1536,h=1536]_label.png', 'masks/B-17557-23-ER.vsi - 20x [d=3,x=52224,y=0,w=1536,h=1536]_label.png'\n",
      "$ tumor_frac          <f64> 0.019420623779296875, 0.0350341796875, 0.051177978515625\n",
      "$ image_size          <i64> 512, 512, 512\n",
      "$ downsample_rate     <f64> 3.0, 3.0, 3.0\n",
      "$ x                   <i64> 47616, 47616, 52224\n",
      "$ y                   <i64> 0, 768, 0\n",
      "$ size_on_slide       <i64> 1536, 1536, 1536\n",
      "\n"
     ]
    }
   ],
   "source": [
    "tiles_df.glimpse(max_items_per_column=3)"
   ]
  },
  {
   "cell_type": "code",
   "execution_count": 10,
   "id": "BYtC",
   "metadata": {},
   "outputs": [
    {
     "data": {
      "text/html": [
       "<div><style>\n",
       ".dataframe > thead > tr,\n",
       ".dataframe > tbody > tr {\n",
       "  text-align: right;\n",
       "  white-space: pre-wrap;\n",
       "}\n",
       "</style>\n",
       "<small>shape: (5, 10)</small><table border=\"1\" class=\"dataframe\"><thead><tr><th>slide_name</th><th>parent_dir_path</th><th>relative_image_path</th><th>relative_mask_path</th><th>tumor_frac</th><th>image_size</th><th>downsample_rate</th><th>x</th><th>y</th><th>size_on_slide</th></tr><tr><td>str</td><td>str</td><td>str</td><td>str</td><td>f64</td><td>i64</td><td>f64</td><td>i64</td><td>i64</td><td>i64</td></tr></thead><tbody><tr><td>&quot;B-17557-23-ER&quot;</td><td>&quot;slides/B-17557-23-ER&quot;</td><td>&quot;images/B-17557-23-ER.vsi - 20x…</td><td>&quot;masks/B-17557-23-ER.vsi - 20x …</td><td>0.019421</td><td>512</td><td>3.0</td><td>47616</td><td>0</td><td>1536</td></tr><tr><td>&quot;B-17557-23-ER&quot;</td><td>&quot;slides/B-17557-23-ER&quot;</td><td>&quot;images/B-17557-23-ER.vsi - 20x…</td><td>&quot;masks/B-17557-23-ER.vsi - 20x …</td><td>0.035034</td><td>512</td><td>3.0</td><td>47616</td><td>768</td><td>1536</td></tr><tr><td>&quot;B-17557-23-ER&quot;</td><td>&quot;slides/B-17557-23-ER&quot;</td><td>&quot;images/B-17557-23-ER.vsi - 20x…</td><td>&quot;masks/B-17557-23-ER.vsi - 20x …</td><td>0.051178</td><td>512</td><td>3.0</td><td>52224</td><td>0</td><td>1536</td></tr><tr><td>&quot;B-17557-23-ER&quot;</td><td>&quot;slides/B-17557-23-ER&quot;</td><td>&quot;images/B-17557-23-ER.vsi - 20x…</td><td>&quot;masks/B-17557-23-ER.vsi - 20x …</td><td>0.001961</td><td>512</td><td>3.0</td><td>52992</td><td>0</td><td>1536</td></tr><tr><td>&quot;B-17557-23-ER&quot;</td><td>&quot;slides/B-17557-23-ER&quot;</td><td>&quot;images/B-17557-23-ER.vsi - 20x…</td><td>&quot;masks/B-17557-23-ER.vsi - 20x …</td><td>0.015614</td><td>512</td><td>3.0</td><td>47616</td><td>1536</td><td>1536</td></tr></tbody></table></div>"
      ],
      "text/plain": [
       "shape: (5, 10)\n",
       "┌─────────────┬─────────────┬────────────┬────────────┬───┬────────────┬───────┬──────┬────────────┐\n",
       "│ slide_name  ┆ parent_dir_ ┆ relative_i ┆ relative_m ┆ … ┆ downsample ┆ x     ┆ y    ┆ size_on_sl │\n",
       "│ ---         ┆ path        ┆ mage_path  ┆ ask_path   ┆   ┆ _rate      ┆ ---   ┆ ---  ┆ ide        │\n",
       "│ str         ┆ ---         ┆ ---        ┆ ---        ┆   ┆ ---        ┆ i64   ┆ i64  ┆ ---        │\n",
       "│             ┆ str         ┆ str        ┆ str        ┆   ┆ f64        ┆       ┆      ┆ i64        │\n",
       "╞═════════════╪═════════════╪════════════╪════════════╪═══╪════════════╪═══════╪══════╪════════════╡\n",
       "│ B-17557-23- ┆ slides/B-17 ┆ images/B-1 ┆ masks/B-17 ┆ … ┆ 3.0        ┆ 47616 ┆ 0    ┆ 1536       │\n",
       "│ ER          ┆ 557-23-ER   ┆ 7557-23-ER ┆ 557-23-ER. ┆   ┆            ┆       ┆      ┆            │\n",
       "│             ┆             ┆ .vsi -     ┆ vsi - 20x  ┆   ┆            ┆       ┆      ┆            │\n",
       "│             ┆             ┆ 20x…       ┆ …          ┆   ┆            ┆       ┆      ┆            │\n",
       "│ B-17557-23- ┆ slides/B-17 ┆ images/B-1 ┆ masks/B-17 ┆ … ┆ 3.0        ┆ 47616 ┆ 768  ┆ 1536       │\n",
       "│ ER          ┆ 557-23-ER   ┆ 7557-23-ER ┆ 557-23-ER. ┆   ┆            ┆       ┆      ┆            │\n",
       "│             ┆             ┆ .vsi -     ┆ vsi - 20x  ┆   ┆            ┆       ┆      ┆            │\n",
       "│             ┆             ┆ 20x…       ┆ …          ┆   ┆            ┆       ┆      ┆            │\n",
       "│ B-17557-23- ┆ slides/B-17 ┆ images/B-1 ┆ masks/B-17 ┆ … ┆ 3.0        ┆ 52224 ┆ 0    ┆ 1536       │\n",
       "│ ER          ┆ 557-23-ER   ┆ 7557-23-ER ┆ 557-23-ER. ┆   ┆            ┆       ┆      ┆            │\n",
       "│             ┆             ┆ .vsi -     ┆ vsi - 20x  ┆   ┆            ┆       ┆      ┆            │\n",
       "│             ┆             ┆ 20x…       ┆ …          ┆   ┆            ┆       ┆      ┆            │\n",
       "│ B-17557-23- ┆ slides/B-17 ┆ images/B-1 ┆ masks/B-17 ┆ … ┆ 3.0        ┆ 52992 ┆ 0    ┆ 1536       │\n",
       "│ ER          ┆ 557-23-ER   ┆ 7557-23-ER ┆ 557-23-ER. ┆   ┆            ┆       ┆      ┆            │\n",
       "│             ┆             ┆ .vsi -     ┆ vsi - 20x  ┆   ┆            ┆       ┆      ┆            │\n",
       "│             ┆             ┆ 20x…       ┆ …          ┆   ┆            ┆       ┆      ┆            │\n",
       "│ B-17557-23- ┆ slides/B-17 ┆ images/B-1 ┆ masks/B-17 ┆ … ┆ 3.0        ┆ 47616 ┆ 1536 ┆ 1536       │\n",
       "│ ER          ┆ 557-23-ER   ┆ 7557-23-ER ┆ 557-23-ER. ┆   ┆            ┆       ┆      ┆            │\n",
       "│             ┆             ┆ .vsi -     ┆ vsi - 20x  ┆   ┆            ┆       ┆      ┆            │\n",
       "│             ┆             ┆ 20x…       ┆ …          ┆   ┆            ┆       ┆      ┆            │\n",
       "└─────────────┴─────────────┴────────────┴────────────┴───┴────────────┴───────┴──────┴────────────┘"
      ]
     },
     "execution_count": 10,
     "metadata": {},
     "output_type": "execute_result"
    }
   ],
   "source": [
    "tiles_df.head(5)"
   ]
  },
  {
   "cell_type": "markdown",
   "id": "RGSE",
   "metadata": {},
   "source": [
    "# Slide Information"
   ]
  },
  {
   "cell_type": "code",
   "execution_count": null,
   "id": "Kclp",
   "metadata": {},
   "outputs": [
    {
     "data": {
      "text/html": [
       "<div><style>\n",
       ".dataframe > thead > tr,\n",
       ".dataframe > tbody > tr {\n",
       "  text-align: right;\n",
       "  white-space: pre-wrap;\n",
       "}\n",
       "</style>\n",
       "<small>shape: (5, 10)</small><table border=\"1\" class=\"dataframe\"><thead><tr><th>category</th><th>slide_name</th><th>downsample_rate</th><th>img_size</th><th>overlap_ratio_per_tile</th><th>only_annotated_tiles</th><th>allow_partial_tiles</th><th>tile_count</th><th>mask_count</th><th>split</th></tr><tr><td>str</td><td>str</td><td>f64</td><td>i64</td><td>f64</td><td>str</td><td>str</td><td>i64</td><td>i64</td><td>str</td></tr></thead><tbody><tr><td>&quot;wsi_tiled&quot;</td><td>&quot;B-25194-23-ER&quot;</td><td>3.0</td><td>512</td><td>0.5</td><td>&quot;T&quot;</td><td>&quot;F&quot;</td><td>644</td><td>644</td><td>&quot;train&quot;</td></tr><tr><td>&quot;wsi_tiled&quot;</td><td>&quot;B-17557-23-KI67&quot;</td><td>3.0</td><td>512</td><td>0.5</td><td>&quot;T&quot;</td><td>&quot;F&quot;</td><td>470</td><td>470</td><td>&quot;train&quot;</td></tr><tr><td>&quot;wsi_tiled&quot;</td><td>&quot;B-20002-23-ER&quot;</td><td>3.0</td><td>512</td><td>0.5</td><td>&quot;T&quot;</td><td>&quot;F&quot;</td><td>699</td><td>699</td><td>&quot;train&quot;</td></tr><tr><td>&quot;wsi_tiled&quot;</td><td>&quot;B-19844-23-ER&quot;</td><td>3.0</td><td>512</td><td>0.5</td><td>&quot;T&quot;</td><td>&quot;F&quot;</td><td>2639</td><td>2639</td><td>&quot;train&quot;</td></tr><tr><td>&quot;wsi_tiled&quot;</td><td>&quot;B-20788-23-ER&quot;</td><td>3.0</td><td>512</td><td>0.5</td><td>&quot;T&quot;</td><td>&quot;F&quot;</td><td>963</td><td>963</td><td>&quot;train&quot;</td></tr></tbody></table></div>"
      ],
      "text/plain": [
       "shape: (5, 10)\n",
       "┌───────────┬────────────┬────────────┬──────────┬───┬────────────┬────────────┬───────────┬───────┐\n",
       "│ category  ┆ slide_name ┆ downsample ┆ img_size ┆ … ┆ allow_part ┆ tile_count ┆ mask_coun ┆ split │\n",
       "│ ---       ┆ ---        ┆ _rate      ┆ ---      ┆   ┆ ial_tiles  ┆ ---        ┆ t         ┆ ---   │\n",
       "│ str       ┆ str        ┆ ---        ┆ i64      ┆   ┆ ---        ┆ i64        ┆ ---       ┆ str   │\n",
       "│           ┆            ┆ f64        ┆          ┆   ┆ str        ┆            ┆ i64       ┆       │\n",
       "╞═══════════╪════════════╪════════════╪══════════╪═══╪════════════╪════════════╪═══════════╪═══════╡\n",
       "│ wsi_tiled ┆ B-25194-23 ┆ 3.0        ┆ 512      ┆ … ┆ F          ┆ 644        ┆ 644       ┆ train │\n",
       "│           ┆ -ER        ┆            ┆          ┆   ┆            ┆            ┆           ┆       │\n",
       "│ wsi_tiled ┆ B-17557-23 ┆ 3.0        ┆ 512      ┆ … ┆ F          ┆ 470        ┆ 470       ┆ train │\n",
       "│           ┆ -KI67      ┆            ┆          ┆   ┆            ┆            ┆           ┆       │\n",
       "│ wsi_tiled ┆ B-20002-23 ┆ 3.0        ┆ 512      ┆ … ┆ F          ┆ 699        ┆ 699       ┆ train │\n",
       "│           ┆ -ER        ┆            ┆          ┆   ┆            ┆            ┆           ┆       │\n",
       "│ wsi_tiled ┆ B-19844-23 ┆ 3.0        ┆ 512      ┆ … ┆ F          ┆ 2639       ┆ 2639      ┆ train │\n",
       "│           ┆ -ER        ┆            ┆          ┆   ┆            ┆            ┆           ┆       │\n",
       "│ wsi_tiled ┆ B-20788-23 ┆ 3.0        ┆ 512      ┆ … ┆ F          ┆ 963        ┆ 963       ┆ train │\n",
       "│           ┆ -ER        ┆            ┆          ┆   ┆            ┆            ┆           ┆       │\n",
       "└───────────┴────────────┴────────────┴──────────┴───┴────────────┴────────────┴───────────┴───────┘"
      ]
     },
     "execution_count": 11,
     "metadata": {},
     "output_type": "execute_result"
    }
   ],
   "source": [
    "slide_split_join_df = slide_df.join(split_df, on=\"slide_name\")\n",
    "\n",
    "slide_split_join_df.head(5)"
   ]
  },
  {
   "cell_type": "code",
   "execution_count": 12,
   "id": "emfo",
   "metadata": {},
   "outputs": [
    {
     "data": {
      "text/html": [
       "<div><style>\n",
       ".dataframe > thead > tr,\n",
       ".dataframe > tbody > tr {\n",
       "  text-align: right;\n",
       "  white-space: pre-wrap;\n",
       "}\n",
       "</style>\n",
       "<small>shape: (1, 10)</small><table border=\"1\" class=\"dataframe\"><thead><tr><th>set</th><th>slide_count</th><th>slide_pct</th><th>tile_min</th><th>tile_max</th><th>tile_avg</th><th>tile_std</th><th>tile_median</th><th>tile_count</th><th>tile_pct</th></tr><tr><td>str</td><td>u32</td><td>f64</td><td>i64</td><td>i64</td><td>f64</td><td>f64</td><td>f64</td><td>i64</td><td>f64</td></tr></thead><tbody><tr><td>&quot;ALL&quot;</td><td>164</td><td>100.0</td><td>0</td><td>2639</td><td>78.0</td><td>274.0</td><td>22.0</td><td>12710</td><td>100.0</td></tr></tbody></table></div>"
      ],
      "text/plain": [
       "shape: (1, 10)\n",
       "┌─────┬─────────────┬───────────┬──────────┬───┬──────────┬─────────────┬────────────┬──────────┐\n",
       "│ set ┆ slide_count ┆ slide_pct ┆ tile_min ┆ … ┆ tile_std ┆ tile_median ┆ tile_count ┆ tile_pct │\n",
       "│ --- ┆ ---         ┆ ---       ┆ ---      ┆   ┆ ---      ┆ ---         ┆ ---        ┆ ---      │\n",
       "│ str ┆ u32         ┆ f64       ┆ i64      ┆   ┆ f64      ┆ f64         ┆ i64        ┆ f64      │\n",
       "╞═════╪═════════════╪═══════════╪══════════╪═══╪══════════╪═════════════╪════════════╪══════════╡\n",
       "│ ALL ┆ 164         ┆ 100.0     ┆ 0        ┆ … ┆ 274.0    ┆ 22.0        ┆ 12710      ┆ 100.0    │\n",
       "└─────┴─────────────┴───────────┴──────────┴───┴──────────┴─────────────┴────────────┴──────────┘"
      ]
     },
     "execution_count": 12,
     "metadata": {},
     "output_type": "execute_result"
    }
   ],
   "source": [
    "# Overall Information\n",
    "\n",
    "stats = slide_split_join_df[\"tile_count\"]\n",
    "overall = pl.DataFrame(\n",
    "    {\n",
    "        \"set\": [\"ALL\"],\n",
    "        \"slide_count\": [len(slide_split_join_df)],\n",
    "        \"slide_pct\": [100.0],\n",
    "        \"tile_min\": [stats.min()],\n",
    "        \"tile_max\": [stats.max()],\n",
    "        \"tile_avg\": [round(stats.mean(), 0)],\n",
    "        \"tile_std\": [round(stats.std(), 0)],\n",
    "        \"tile_median\": [stats.median()],\n",
    "        \"tile_count\": [stats.sum()],\n",
    "        \"tile_pct\": [100.0],\n",
    "    }\n",
    ")\n",
    "\n",
    "overall = overall.cast({\"slide_count\": pl.UInt32})\n",
    "\n",
    "overall"
   ]
  },
  {
   "cell_type": "code",
   "execution_count": 13,
   "id": "Hstk",
   "metadata": {},
   "outputs": [
    {
     "data": {
      "text/html": [
       "<div><style>\n",
       ".dataframe > thead > tr,\n",
       ".dataframe > tbody > tr {\n",
       "  text-align: right;\n",
       "  white-space: pre-wrap;\n",
       "}\n",
       "</style>\n",
       "<small>shape: (2, 10)</small><table border=\"1\" class=\"dataframe\"><thead><tr><th>set</th><th>slide_count</th><th>slide_pct</th><th>tile_min</th><th>tile_max</th><th>tile_avg</th><th>tile_std</th><th>tile_median</th><th>tile_count</th><th>tile_pct</th></tr><tr><td>str</td><td>u32</td><td>f64</td><td>i64</td><td>i64</td><td>f64</td><td>f64</td><td>f64</td><td>i64</td><td>f64</td></tr></thead><tbody><tr><td>&quot;wsi_tiled&quot;</td><td>11</td><td>6.71</td><td>284</td><td>2639</td><td>877.0</td><td>682.0</td><td>644.0</td><td>9649</td><td>75.92</td></tr><tr><td>&quot;img_tiled&quot;</td><td>153</td><td>93.29</td><td>0</td><td>36</td><td>20.0</td><td>7.0</td><td>18.0</td><td>3061</td><td>24.08</td></tr></tbody></table></div>"
      ],
      "text/plain": [
       "shape: (2, 10)\n",
       "┌───────────┬────────────┬───────────┬──────────┬───┬──────────┬────────────┬───────────┬──────────┐\n",
       "│ set       ┆ slide_coun ┆ slide_pct ┆ tile_min ┆ … ┆ tile_std ┆ tile_media ┆ tile_coun ┆ tile_pct │\n",
       "│ ---       ┆ t          ┆ ---       ┆ ---      ┆   ┆ ---      ┆ n          ┆ t         ┆ ---      │\n",
       "│ str       ┆ ---        ┆ f64       ┆ i64      ┆   ┆ f64      ┆ ---        ┆ ---       ┆ f64      │\n",
       "│           ┆ u32        ┆           ┆          ┆   ┆          ┆ f64        ┆ i64       ┆          │\n",
       "╞═══════════╪════════════╪═══════════╪══════════╪═══╪══════════╪════════════╪═══════════╪══════════╡\n",
       "│ wsi_tiled ┆ 11         ┆ 6.71      ┆ 284      ┆ … ┆ 682.0    ┆ 644.0      ┆ 9649      ┆ 75.92    │\n",
       "│ img_tiled ┆ 153        ┆ 93.29     ┆ 0        ┆ … ┆ 7.0      ┆ 18.0       ┆ 3061      ┆ 24.08    │\n",
       "└───────────┴────────────┴───────────┴──────────┴───┴──────────┴────────────┴───────────┴──────────┘"
      ]
     },
     "execution_count": 13,
     "metadata": {},
     "output_type": "execute_result"
    }
   ],
   "source": [
    "# Category-wise Information\n",
    "\n",
    "per_category = (\n",
    "    slide_split_join_df.group_by(\"category\")\n",
    "    .agg(\n",
    "        [\n",
    "            pl.len().alias(\"slide_count\"),\n",
    "            pl.col(\"tile_count\").min().alias(\"tile_min\"),\n",
    "            pl.col(\"tile_count\").max().alias(\"tile_max\"),\n",
    "            pl.col(\"tile_count\").mean().round(0).alias(\"tile_avg\"),\n",
    "            pl.col(\"tile_count\").std().round(0).alias(\"tile_std\"),\n",
    "            pl.col(\"tile_count\").median().alias(\"tile_median\"),\n",
    "            pl.col(\"tile_count\").sum().alias(\"tile_count\"),\n",
    "        ]\n",
    "    )\n",
    "    .with_columns(\n",
    "        (pl.col(\"slide_count\") / pl.col(\"slide_count\").sum() * 100)\n",
    "        .round(2)\n",
    "        .alias(\"slide_pct\"),\n",
    "        (pl.col(\"tile_count\") / pl.col(\"tile_count\").sum() * 100)\n",
    "        .round(2)\n",
    "        .alias(\"tile_pct\"),\n",
    "    )\n",
    "    .sort(by=\"tile_count\", descending=True)\n",
    ")\n",
    "\n",
    "per_category = per_category.rename({\"category\": \"set\"})\n",
    "per_category = per_category.select(overall.columns)\n",
    "\n",
    "per_category"
   ]
  },
  {
   "cell_type": "code",
   "execution_count": 14,
   "id": "nWHF",
   "metadata": {},
   "outputs": [
    {
     "data": {
      "text/html": [
       "<div><style>\n",
       ".dataframe > thead > tr,\n",
       ".dataframe > tbody > tr {\n",
       "  text-align: right;\n",
       "  white-space: pre-wrap;\n",
       "}\n",
       "</style>\n",
       "<small>shape: (3, 10)</small><table border=\"1\" class=\"dataframe\"><thead><tr><th>set</th><th>slide_count</th><th>slide_pct</th><th>tile_min</th><th>tile_max</th><th>tile_avg</th><th>tile_std</th><th>tile_median</th><th>tile_count</th><th>tile_pct</th></tr><tr><td>str</td><td>u32</td><td>f64</td><td>i64</td><td>i64</td><td>f64</td><td>f64</td><td>f64</td><td>i64</td><td>f64</td></tr></thead><tbody><tr><td>&quot;train&quot;</td><td>160</td><td>97.56</td><td>0</td><td>2639</td><td>66.0</td><td>265.0</td><td>21.0</td><td>10526</td><td>82.82</td></tr><tr><td>&quot;test&quot;</td><td>2</td><td>1.22</td><td>513</td><td>850</td><td>682.0</td><td>238.0</td><td>681.5</td><td>1363</td><td>10.72</td></tr><tr><td>&quot;val&quot;</td><td>2</td><td>1.22</td><td>284</td><td>537</td><td>410.0</td><td>179.0</td><td>410.5</td><td>821</td><td>6.46</td></tr></tbody></table></div>"
      ],
      "text/plain": [
       "shape: (3, 10)\n",
       "┌───────┬─────────────┬───────────┬──────────┬───┬──────────┬─────────────┬────────────┬──────────┐\n",
       "│ set   ┆ slide_count ┆ slide_pct ┆ tile_min ┆ … ┆ tile_std ┆ tile_median ┆ tile_count ┆ tile_pct │\n",
       "│ ---   ┆ ---         ┆ ---       ┆ ---      ┆   ┆ ---      ┆ ---         ┆ ---        ┆ ---      │\n",
       "│ str   ┆ u32         ┆ f64       ┆ i64      ┆   ┆ f64      ┆ f64         ┆ i64        ┆ f64      │\n",
       "╞═══════╪═════════════╪═══════════╪══════════╪═══╪══════════╪═════════════╪════════════╪══════════╡\n",
       "│ train ┆ 160         ┆ 97.56     ┆ 0        ┆ … ┆ 265.0    ┆ 21.0        ┆ 10526      ┆ 82.82    │\n",
       "│ test  ┆ 2           ┆ 1.22      ┆ 513      ┆ … ┆ 238.0    ┆ 681.5       ┆ 1363       ┆ 10.72    │\n",
       "│ val   ┆ 2           ┆ 1.22      ┆ 284      ┆ … ┆ 179.0    ┆ 410.5       ┆ 821        ┆ 6.46     │\n",
       "└───────┴─────────────┴───────────┴──────────┴───┴──────────┴─────────────┴────────────┴──────────┘"
      ]
     },
     "execution_count": 14,
     "metadata": {},
     "output_type": "execute_result"
    }
   ],
   "source": [
    "# Split-wise Information\n",
    "\n",
    "per_split = (\n",
    "    slide_split_join_df.group_by(\"split\")\n",
    "    .agg(\n",
    "        [\n",
    "            pl.len().alias(\"slide_count\"),\n",
    "            pl.col(\"tile_count\").min().alias(\"tile_min\"),\n",
    "            pl.col(\"tile_count\").max().alias(\"tile_max\"),\n",
    "            pl.col(\"tile_count\").mean().round(0).alias(\"tile_avg\"),\n",
    "            pl.col(\"tile_count\").std().round(0).alias(\"tile_std\"),\n",
    "            pl.col(\"tile_count\").median().alias(\"tile_median\"),\n",
    "            pl.col(\"tile_count\").sum().alias(\"tile_count\"),\n",
    "        ]\n",
    "    )\n",
    "    .with_columns(\n",
    "        (pl.col(\"slide_count\") / pl.col(\"slide_count\").sum() * 100)\n",
    "        .round(2)\n",
    "        .alias(\"slide_pct\"),\n",
    "        (pl.col(\"tile_count\") / pl.col(\"tile_count\").sum() * 100)\n",
    "        .round(2)\n",
    "        .alias(\"tile_pct\"),\n",
    "    )\n",
    "    .sort(by=[\"tile_count\"], descending=True)\n",
    ")\n",
    "\n",
    "per_split = per_split.rename({\"split\": \"set\"})\n",
    "per_split = per_split.select(overall.columns)\n",
    "\n",
    "per_split"
   ]
  },
  {
   "cell_type": "code",
   "execution_count": 15,
   "id": "iLit",
   "metadata": {},
   "outputs": [
    {
     "data": {
      "text/html": [
       "<div><style>\n",
       ".dataframe > thead > tr,\n",
       ".dataframe > tbody > tr {\n",
       "  text-align: right;\n",
       "  white-space: pre-wrap;\n",
       "}\n",
       "</style>\n",
       "<small>shape: (4, 10)</small><table border=\"1\" class=\"dataframe\"><thead><tr><th>set</th><th>slide_count</th><th>slide_pct</th><th>tile_min</th><th>tile_max</th><th>tile_avg</th><th>tile_std</th><th>tile_median</th><th>tile_count</th><th>tile_pct</th></tr><tr><td>str</td><td>u32</td><td>f64</td><td>i64</td><td>i64</td><td>f64</td><td>f64</td><td>f64</td><td>i64</td><td>f64</td></tr></thead><tbody><tr><td>&quot;wsi_tiled_train&quot;</td><td>7</td><td>4.27</td><td>459</td><td>2639</td><td>1066.0</td><td>796.0</td><td>699.0</td><td>7465</td><td>58.73</td></tr><tr><td>&quot;img_tiled_train&quot;</td><td>153</td><td>93.29</td><td>0</td><td>36</td><td>20.0</td><td>7.0</td><td>18.0</td><td>3061</td><td>24.08</td></tr><tr><td>&quot;wsi_tiled_test&quot;</td><td>2</td><td>1.22</td><td>513</td><td>850</td><td>682.0</td><td>238.0</td><td>681.5</td><td>1363</td><td>10.72</td></tr><tr><td>&quot;wsi_tiled_val&quot;</td><td>2</td><td>1.22</td><td>284</td><td>537</td><td>410.0</td><td>179.0</td><td>410.5</td><td>821</td><td>6.46</td></tr></tbody></table></div>"
      ],
      "text/plain": [
       "shape: (4, 10)\n",
       "┌────────────┬────────────┬───────────┬──────────┬───┬──────────┬───────────┬───────────┬──────────┐\n",
       "│ set        ┆ slide_coun ┆ slide_pct ┆ tile_min ┆ … ┆ tile_std ┆ tile_medi ┆ tile_coun ┆ tile_pct │\n",
       "│ ---        ┆ t          ┆ ---       ┆ ---      ┆   ┆ ---      ┆ an        ┆ t         ┆ ---      │\n",
       "│ str        ┆ ---        ┆ f64       ┆ i64      ┆   ┆ f64      ┆ ---       ┆ ---       ┆ f64      │\n",
       "│            ┆ u32        ┆           ┆          ┆   ┆          ┆ f64       ┆ i64       ┆          │\n",
       "╞════════════╪════════════╪═══════════╪══════════╪═══╪══════════╪═══════════╪═══════════╪══════════╡\n",
       "│ wsi_tiled_ ┆ 7          ┆ 4.27      ┆ 459      ┆ … ┆ 796.0    ┆ 699.0     ┆ 7465      ┆ 58.73    │\n",
       "│ train      ┆            ┆           ┆          ┆   ┆          ┆           ┆           ┆          │\n",
       "│ img_tiled_ ┆ 153        ┆ 93.29     ┆ 0        ┆ … ┆ 7.0      ┆ 18.0      ┆ 3061      ┆ 24.08    │\n",
       "│ train      ┆            ┆           ┆          ┆   ┆          ┆           ┆           ┆          │\n",
       "│ wsi_tiled_ ┆ 2          ┆ 1.22      ┆ 513      ┆ … ┆ 238.0    ┆ 681.5     ┆ 1363      ┆ 10.72    │\n",
       "│ test       ┆            ┆           ┆          ┆   ┆          ┆           ┆           ┆          │\n",
       "│ wsi_tiled_ ┆ 2          ┆ 1.22      ┆ 284      ┆ … ┆ 179.0    ┆ 410.5     ┆ 821       ┆ 6.46     │\n",
       "│ val        ┆            ┆           ┆          ┆   ┆          ┆           ┆           ┆          │\n",
       "└────────────┴────────────┴───────────┴──────────┴───┴──────────┴───────────┴───────────┴──────────┘"
      ]
     },
     "execution_count": 15,
     "metadata": {},
     "output_type": "execute_result"
    }
   ],
   "source": [
    "# Category-wise & Split-wise Information\n",
    "\n",
    "per_category_split = (\n",
    "    slide_split_join_df.group_by([\"category\", \"split\"])\n",
    "    .agg(\n",
    "        [\n",
    "            pl.len().alias(\"slide_count\"),\n",
    "            pl.col(\"tile_count\").min().alias(\"tile_min\"),\n",
    "            pl.col(\"tile_count\").max().alias(\"tile_max\"),\n",
    "            pl.col(\"tile_count\").mean().round(0).alias(\"tile_avg\"),\n",
    "            pl.col(\"tile_count\").std().round(0).alias(\"tile_std\"),\n",
    "            pl.col(\"tile_count\").median().alias(\"tile_median\"),\n",
    "            pl.col(\"tile_count\").sum().alias(\"tile_count\"),\n",
    "        ]\n",
    "    )\n",
    "    .with_columns(\n",
    "        (pl.col(\"slide_count\") / pl.col(\"slide_count\").sum() * 100)\n",
    "        .round(2)\n",
    "        .alias(\"slide_pct\"),\n",
    "        (pl.col(\"tile_count\") / pl.col(\"tile_count\").sum() * 100)\n",
    "        .round(2)\n",
    "        .alias(\"tile_pct\"),\n",
    "        pl.format(\"{}_{}\", pl.col(\"category\"), pl.col(\"split\")).alias(\"set\"),\n",
    "    )\n",
    "    .sort(by=[\"tile_count\"], descending=True)\n",
    ")\n",
    "\n",
    "per_category_split.drop_in_place(\"category\")\n",
    "per_category_split.drop_in_place(\"split\")\n",
    "per_category_split = per_category_split.select(overall.columns)\n",
    "\n",
    "per_category_split"
   ]
  },
  {
   "cell_type": "code",
   "execution_count": 16,
   "id": "ZHCJ",
   "metadata": {},
   "outputs": [
    {
     "data": {
      "text/html": [
       "<div><style>\n",
       ".dataframe > thead > tr,\n",
       ".dataframe > tbody > tr {\n",
       "  text-align: right;\n",
       "  white-space: pre-wrap;\n",
       "}\n",
       "</style>\n",
       "<small>shape: (10, 10)</small><table border=\"1\" class=\"dataframe\"><thead><tr><th>set</th><th>slide_count</th><th>slide_pct</th><th>tile_min</th><th>tile_max</th><th>tile_avg</th><th>tile_std</th><th>tile_median</th><th>tile_count</th><th>tile_pct</th></tr><tr><td>str</td><td>u32</td><td>f64</td><td>i64</td><td>i64</td><td>f64</td><td>f64</td><td>f64</td><td>i64</td><td>f64</td></tr></thead><tbody><tr><td>&quot;ALL&quot;</td><td>164</td><td>100.0</td><td>0</td><td>2639</td><td>78.0</td><td>274.0</td><td>22.0</td><td>12710</td><td>100.0</td></tr><tr><td>&quot;wsi_tiled&quot;</td><td>11</td><td>6.71</td><td>284</td><td>2639</td><td>877.0</td><td>682.0</td><td>644.0</td><td>9649</td><td>75.92</td></tr><tr><td>&quot;img_tiled&quot;</td><td>153</td><td>93.29</td><td>0</td><td>36</td><td>20.0</td><td>7.0</td><td>18.0</td><td>3061</td><td>24.08</td></tr><tr><td>&quot;train&quot;</td><td>160</td><td>97.56</td><td>0</td><td>2639</td><td>66.0</td><td>265.0</td><td>21.0</td><td>10526</td><td>82.82</td></tr><tr><td>&quot;test&quot;</td><td>2</td><td>1.22</td><td>513</td><td>850</td><td>682.0</td><td>238.0</td><td>681.5</td><td>1363</td><td>10.72</td></tr><tr><td>&quot;val&quot;</td><td>2</td><td>1.22</td><td>284</td><td>537</td><td>410.0</td><td>179.0</td><td>410.5</td><td>821</td><td>6.46</td></tr><tr><td>&quot;wsi_tiled_train&quot;</td><td>7</td><td>4.27</td><td>459</td><td>2639</td><td>1066.0</td><td>796.0</td><td>699.0</td><td>7465</td><td>58.73</td></tr><tr><td>&quot;img_tiled_train&quot;</td><td>153</td><td>93.29</td><td>0</td><td>36</td><td>20.0</td><td>7.0</td><td>18.0</td><td>3061</td><td>24.08</td></tr><tr><td>&quot;wsi_tiled_test&quot;</td><td>2</td><td>1.22</td><td>513</td><td>850</td><td>682.0</td><td>238.0</td><td>681.5</td><td>1363</td><td>10.72</td></tr><tr><td>&quot;wsi_tiled_val&quot;</td><td>2</td><td>1.22</td><td>284</td><td>537</td><td>410.0</td><td>179.0</td><td>410.5</td><td>821</td><td>6.46</td></tr></tbody></table></div>"
      ],
      "text/plain": [
       "shape: (10, 10)\n",
       "┌────────────┬────────────┬───────────┬──────────┬───┬──────────┬───────────┬───────────┬──────────┐\n",
       "│ set        ┆ slide_coun ┆ slide_pct ┆ tile_min ┆ … ┆ tile_std ┆ tile_medi ┆ tile_coun ┆ tile_pct │\n",
       "│ ---        ┆ t          ┆ ---       ┆ ---      ┆   ┆ ---      ┆ an        ┆ t         ┆ ---      │\n",
       "│ str        ┆ ---        ┆ f64       ┆ i64      ┆   ┆ f64      ┆ ---       ┆ ---       ┆ f64      │\n",
       "│            ┆ u32        ┆           ┆          ┆   ┆          ┆ f64       ┆ i64       ┆          │\n",
       "╞════════════╪════════════╪═══════════╪══════════╪═══╪══════════╪═══════════╪═══════════╪══════════╡\n",
       "│ ALL        ┆ 164        ┆ 100.0     ┆ 0        ┆ … ┆ 274.0    ┆ 22.0      ┆ 12710     ┆ 100.0    │\n",
       "│ wsi_tiled  ┆ 11         ┆ 6.71      ┆ 284      ┆ … ┆ 682.0    ┆ 644.0     ┆ 9649      ┆ 75.92    │\n",
       "│ img_tiled  ┆ 153        ┆ 93.29     ┆ 0        ┆ … ┆ 7.0      ┆ 18.0      ┆ 3061      ┆ 24.08    │\n",
       "│ train      ┆ 160        ┆ 97.56     ┆ 0        ┆ … ┆ 265.0    ┆ 21.0      ┆ 10526     ┆ 82.82    │\n",
       "│ test       ┆ 2          ┆ 1.22      ┆ 513      ┆ … ┆ 238.0    ┆ 681.5     ┆ 1363      ┆ 10.72    │\n",
       "│ val        ┆ 2          ┆ 1.22      ┆ 284      ┆ … ┆ 179.0    ┆ 410.5     ┆ 821       ┆ 6.46     │\n",
       "│ wsi_tiled_ ┆ 7          ┆ 4.27      ┆ 459      ┆ … ┆ 796.0    ┆ 699.0     ┆ 7465      ┆ 58.73    │\n",
       "│ train      ┆            ┆           ┆          ┆   ┆          ┆           ┆           ┆          │\n",
       "│ img_tiled_ ┆ 153        ┆ 93.29     ┆ 0        ┆ … ┆ 7.0      ┆ 18.0      ┆ 3061      ┆ 24.08    │\n",
       "│ train      ┆            ┆           ┆          ┆   ┆          ┆           ┆           ┆          │\n",
       "│ wsi_tiled_ ┆ 2          ┆ 1.22      ┆ 513      ┆ … ┆ 238.0    ┆ 681.5     ┆ 1363      ┆ 10.72    │\n",
       "│ test       ┆            ┆           ┆          ┆   ┆          ┆           ┆           ┆          │\n",
       "│ wsi_tiled_ ┆ 2          ┆ 1.22      ┆ 284      ┆ … ┆ 179.0    ┆ 410.5     ┆ 821       ┆ 6.46     │\n",
       "│ val        ┆            ┆           ┆          ┆   ┆          ┆           ┆           ┆          │\n",
       "└────────────┴────────────┴───────────┴──────────┴───┴──────────┴───────────┴───────────┴──────────┘"
      ]
     },
     "execution_count": 16,
     "metadata": {},
     "output_type": "execute_result"
    }
   ],
   "source": [
    "# All Slide Tile Information\n",
    "\n",
    "all_slide_metrics_df = pl.concat([overall, per_category, per_split, per_category_split])\n",
    "\n",
    "all_slide_metrics_df"
   ]
  },
  {
   "cell_type": "markdown",
   "id": "ROlb",
   "metadata": {},
   "source": [
    "# Tile Information"
   ]
  },
  {
   "cell_type": "code",
   "execution_count": 17,
   "id": "qnkX",
   "metadata": {},
   "outputs": [
    {
     "data": {
      "text/html": [
       "<div><style>\n",
       ".dataframe > thead > tr,\n",
       ".dataframe > tbody > tr {\n",
       "  text-align: right;\n",
       "  white-space: pre-wrap;\n",
       "}\n",
       "</style>\n",
       "<small>shape: (5, 19)</small><table border=\"1\" class=\"dataframe\"><thead><tr><th>category</th><th>slide_name</th><th>downsample_rate</th><th>img_size</th><th>overlap_ratio_per_tile</th><th>only_annotated_tiles</th><th>allow_partial_tiles</th><th>tile_count</th><th>mask_count</th><th>split</th><th>parent_dir_path</th><th>relative_image_path</th><th>relative_mask_path</th><th>tumor_frac</th><th>image_size</th><th>downsample_rate_right</th><th>x</th><th>y</th><th>size_on_slide</th></tr><tr><td>str</td><td>str</td><td>f64</td><td>i64</td><td>f64</td><td>str</td><td>str</td><td>i64</td><td>i64</td><td>str</td><td>str</td><td>str</td><td>str</td><td>f64</td><td>i64</td><td>f64</td><td>i64</td><td>i64</td><td>i64</td></tr></thead><tbody><tr><td>&quot;wsi_tiled&quot;</td><td>&quot;B-17557-23-ER&quot;</td><td>3.0</td><td>512</td><td>0.5</td><td>&quot;T&quot;</td><td>&quot;F&quot;</td><td>459</td><td>459</td><td>&quot;train&quot;</td><td>&quot;slides/B-17557-23-ER&quot;</td><td>&quot;images/B-17557-23-ER.vsi - 20x…</td><td>&quot;masks/B-17557-23-ER.vsi - 20x …</td><td>0.019421</td><td>512</td><td>3.0</td><td>47616</td><td>0</td><td>1536</td></tr><tr><td>&quot;wsi_tiled&quot;</td><td>&quot;B-17557-23-ER&quot;</td><td>3.0</td><td>512</td><td>0.5</td><td>&quot;T&quot;</td><td>&quot;F&quot;</td><td>459</td><td>459</td><td>&quot;train&quot;</td><td>&quot;slides/B-17557-23-ER&quot;</td><td>&quot;images/B-17557-23-ER.vsi - 20x…</td><td>&quot;masks/B-17557-23-ER.vsi - 20x …</td><td>0.035034</td><td>512</td><td>3.0</td><td>47616</td><td>768</td><td>1536</td></tr><tr><td>&quot;wsi_tiled&quot;</td><td>&quot;B-17557-23-ER&quot;</td><td>3.0</td><td>512</td><td>0.5</td><td>&quot;T&quot;</td><td>&quot;F&quot;</td><td>459</td><td>459</td><td>&quot;train&quot;</td><td>&quot;slides/B-17557-23-ER&quot;</td><td>&quot;images/B-17557-23-ER.vsi - 20x…</td><td>&quot;masks/B-17557-23-ER.vsi - 20x …</td><td>0.051178</td><td>512</td><td>3.0</td><td>52224</td><td>0</td><td>1536</td></tr><tr><td>&quot;wsi_tiled&quot;</td><td>&quot;B-17557-23-ER&quot;</td><td>3.0</td><td>512</td><td>0.5</td><td>&quot;T&quot;</td><td>&quot;F&quot;</td><td>459</td><td>459</td><td>&quot;train&quot;</td><td>&quot;slides/B-17557-23-ER&quot;</td><td>&quot;images/B-17557-23-ER.vsi - 20x…</td><td>&quot;masks/B-17557-23-ER.vsi - 20x …</td><td>0.001961</td><td>512</td><td>3.0</td><td>52992</td><td>0</td><td>1536</td></tr><tr><td>&quot;wsi_tiled&quot;</td><td>&quot;B-17557-23-ER&quot;</td><td>3.0</td><td>512</td><td>0.5</td><td>&quot;T&quot;</td><td>&quot;F&quot;</td><td>459</td><td>459</td><td>&quot;train&quot;</td><td>&quot;slides/B-17557-23-ER&quot;</td><td>&quot;images/B-17557-23-ER.vsi - 20x…</td><td>&quot;masks/B-17557-23-ER.vsi - 20x …</td><td>0.015614</td><td>512</td><td>3.0</td><td>47616</td><td>1536</td><td>1536</td></tr></tbody></table></div>"
      ],
      "text/plain": [
       "shape: (5, 19)\n",
       "┌───────────┬──────────────┬─────────────┬──────────┬───┬─────────────┬───────┬──────┬─────────────┐\n",
       "│ category  ┆ slide_name   ┆ downsample_ ┆ img_size ┆ … ┆ downsample_ ┆ x     ┆ y    ┆ size_on_sli │\n",
       "│ ---       ┆ ---          ┆ rate        ┆ ---      ┆   ┆ rate_right  ┆ ---   ┆ ---  ┆ de          │\n",
       "│ str       ┆ str          ┆ ---         ┆ i64      ┆   ┆ ---         ┆ i64   ┆ i64  ┆ ---         │\n",
       "│           ┆              ┆ f64         ┆          ┆   ┆ f64         ┆       ┆      ┆ i64         │\n",
       "╞═══════════╪══════════════╪═════════════╪══════════╪═══╪═════════════╪═══════╪══════╪═════════════╡\n",
       "│ wsi_tiled ┆ B-17557-23-E ┆ 3.0         ┆ 512      ┆ … ┆ 3.0         ┆ 47616 ┆ 0    ┆ 1536        │\n",
       "│           ┆ R            ┆             ┆          ┆   ┆             ┆       ┆      ┆             │\n",
       "│ wsi_tiled ┆ B-17557-23-E ┆ 3.0         ┆ 512      ┆ … ┆ 3.0         ┆ 47616 ┆ 768  ┆ 1536        │\n",
       "│           ┆ R            ┆             ┆          ┆   ┆             ┆       ┆      ┆             │\n",
       "│ wsi_tiled ┆ B-17557-23-E ┆ 3.0         ┆ 512      ┆ … ┆ 3.0         ┆ 52224 ┆ 0    ┆ 1536        │\n",
       "│           ┆ R            ┆             ┆          ┆   ┆             ┆       ┆      ┆             │\n",
       "│ wsi_tiled ┆ B-17557-23-E ┆ 3.0         ┆ 512      ┆ … ┆ 3.0         ┆ 52992 ┆ 0    ┆ 1536        │\n",
       "│           ┆ R            ┆             ┆          ┆   ┆             ┆       ┆      ┆             │\n",
       "│ wsi_tiled ┆ B-17557-23-E ┆ 3.0         ┆ 512      ┆ … ┆ 3.0         ┆ 47616 ┆ 1536 ┆ 1536        │\n",
       "│           ┆ R            ┆             ┆          ┆   ┆             ┆       ┆      ┆             │\n",
       "└───────────┴──────────────┴─────────────┴──────────┴───┴─────────────┴───────┴──────┴─────────────┘"
      ]
     },
     "execution_count": 17,
     "metadata": {},
     "output_type": "execute_result"
    }
   ],
   "source": [
    "combined_df = slide_split_join_df.join(tiles_df, on=\"slide_name\")\n",
    "\n",
    "combined_df.head(5)"
   ]
  },
  {
   "cell_type": "code",
   "execution_count": 18,
   "id": "TqIu",
   "metadata": {},
   "outputs": [
    {
     "data": {
      "text/html": [
       "<div><style>\n",
       ".dataframe > thead > tr,\n",
       ".dataframe > tbody > tr {\n",
       "  text-align: right;\n",
       "  white-space: pre-wrap;\n",
       "}\n",
       "</style>\n",
       "<small>shape: (1, 6)</small><table border=\"1\" class=\"dataframe\"><thead><tr><th>set</th><th>tumor_min</th><th>tumor_max</th><th>tumor_avg</th><th>tumor_std</th><th>tumor_median</th></tr><tr><td>str</td><td>f64</td><td>f64</td><td>f64</td><td>f64</td><td>f64</td></tr></thead><tbody><tr><td>&quot;ALL&quot;</td><td>0.0</td><td>1.0</td><td>0.35</td><td>0.26</td><td>0.32</td></tr></tbody></table></div>"
      ],
      "text/plain": [
       "shape: (1, 6)\n",
       "┌─────┬───────────┬───────────┬───────────┬───────────┬──────────────┐\n",
       "│ set ┆ tumor_min ┆ tumor_max ┆ tumor_avg ┆ tumor_std ┆ tumor_median │\n",
       "│ --- ┆ ---       ┆ ---       ┆ ---       ┆ ---       ┆ ---          │\n",
       "│ str ┆ f64       ┆ f64       ┆ f64       ┆ f64       ┆ f64          │\n",
       "╞═════╪═══════════╪═══════════╪═══════════╪═══════════╪══════════════╡\n",
       "│ ALL ┆ 0.0       ┆ 1.0       ┆ 0.35      ┆ 0.26      ┆ 0.32         │\n",
       "└─────┴───────────┴───────────┴───────────┴───────────┴──────────────┘"
      ]
     },
     "execution_count": 18,
     "metadata": {},
     "output_type": "execute_result"
    }
   ],
   "source": [
    "# Overall Tile Tumor Fraction Stats\n",
    "\n",
    "tile_stats = combined_df[\"tumor_frac\"]\n",
    "overall_tumor = pl.DataFrame(\n",
    "    {\n",
    "        \"set\": [\"ALL\"],\n",
    "        \"tumor_min\": [round(tile_stats.min(), 2)],\n",
    "        \"tumor_max\": [round(tile_stats.max(), 2)],\n",
    "        \"tumor_avg\": [round(tile_stats.mean(), 2)],\n",
    "        \"tumor_std\": [round(tile_stats.std(), 2)],\n",
    "        \"tumor_median\": [round(tile_stats.median(), 2)],\n",
    "    }\n",
    ")\n",
    "\n",
    "overall_tumor"
   ]
  },
  {
   "cell_type": "code",
   "execution_count": 19,
   "id": "Vxnm",
   "metadata": {},
   "outputs": [
    {
     "data": {
      "text/html": [
       "<div><style>\n",
       ".dataframe > thead > tr,\n",
       ".dataframe > tbody > tr {\n",
       "  text-align: right;\n",
       "  white-space: pre-wrap;\n",
       "}\n",
       "</style>\n",
       "<small>shape: (2, 6)</small><table border=\"1\" class=\"dataframe\"><thead><tr><th>set</th><th>tumor_min</th><th>tumor_max</th><th>tumor_avg</th><th>tumor_std</th><th>tumor_median</th></tr><tr><td>str</td><td>f64</td><td>f64</td><td>f64</td><td>f64</td><td>f64</td></tr></thead><tbody><tr><td>&quot;wsi_tiled&quot;</td><td>0.0</td><td>1.0</td><td>0.32</td><td>0.24</td><td>0.3</td></tr><tr><td>&quot;img_tiled&quot;</td><td>0.0</td><td>1.0</td><td>0.43</td><td>0.3</td><td>0.4</td></tr></tbody></table></div>"
      ],
      "text/plain": [
       "shape: (2, 6)\n",
       "┌───────────┬───────────┬───────────┬───────────┬───────────┬──────────────┐\n",
       "│ set       ┆ tumor_min ┆ tumor_max ┆ tumor_avg ┆ tumor_std ┆ tumor_median │\n",
       "│ ---       ┆ ---       ┆ ---       ┆ ---       ┆ ---       ┆ ---          │\n",
       "│ str       ┆ f64       ┆ f64       ┆ f64       ┆ f64       ┆ f64          │\n",
       "╞═══════════╪═══════════╪═══════════╪═══════════╪═══════════╪══════════════╡\n",
       "│ wsi_tiled ┆ 0.0       ┆ 1.0       ┆ 0.32      ┆ 0.24      ┆ 0.3          │\n",
       "│ img_tiled ┆ 0.0       ┆ 1.0       ┆ 0.43      ┆ 0.3       ┆ 0.4          │\n",
       "└───────────┴───────────┴───────────┴───────────┴───────────┴──────────────┘"
      ]
     },
     "execution_count": 19,
     "metadata": {},
     "output_type": "execute_result"
    }
   ],
   "source": [
    "# Per Category Tile Tumor Fraction Stats\n",
    "\n",
    "per_category_tumor = (\n",
    "    combined_df.group_by(\"category\")\n",
    "    .agg(\n",
    "        [\n",
    "            pl.col(\"tumor_frac\").min().round(2).alias(\"tumor_min\"),\n",
    "            pl.col(\"tumor_frac\").max().round(2).alias(\"tumor_max\"),\n",
    "            pl.col(\"tumor_frac\").mean().round(2).alias(\"tumor_avg\"),\n",
    "            pl.col(\"tumor_frac\").std().round(2).alias(\"tumor_std\"),\n",
    "            pl.col(\"tumor_frac\").median().round(2).alias(\"tumor_median\"),\n",
    "        ]\n",
    "    )\n",
    "    .with_columns()\n",
    "    .sort(by=[\"category\"], descending=True)\n",
    ")\n",
    "\n",
    "per_category_tumor = per_category_tumor.rename({\"category\": \"set\"})\n",
    "per_category_tumor = per_category_tumor.select(overall_tumor.columns)\n",
    "\n",
    "per_category_tumor"
   ]
  },
  {
   "cell_type": "code",
   "execution_count": 20,
   "id": "DnEU",
   "metadata": {},
   "outputs": [
    {
     "data": {
      "text/html": [
       "<div><style>\n",
       ".dataframe > thead > tr,\n",
       ".dataframe > tbody > tr {\n",
       "  text-align: right;\n",
       "  white-space: pre-wrap;\n",
       "}\n",
       "</style>\n",
       "<small>shape: (3, 6)</small><table border=\"1\" class=\"dataframe\"><thead><tr><th>set</th><th>tumor_min</th><th>tumor_max</th><th>tumor_avg</th><th>tumor_std</th><th>tumor_median</th></tr><tr><td>str</td><td>f64</td><td>f64</td><td>f64</td><td>f64</td><td>f64</td></tr></thead><tbody><tr><td>&quot;val&quot;</td><td>0.0</td><td>0.76</td><td>0.23</td><td>0.22</td><td>0.15</td></tr><tr><td>&quot;train&quot;</td><td>0.0</td><td>1.0</td><td>0.37</td><td>0.26</td><td>0.35</td></tr><tr><td>&quot;test&quot;</td><td>0.0</td><td>1.0</td><td>0.25</td><td>0.23</td><td>0.18</td></tr></tbody></table></div>"
      ],
      "text/plain": [
       "shape: (3, 6)\n",
       "┌───────┬───────────┬───────────┬───────────┬───────────┬──────────────┐\n",
       "│ set   ┆ tumor_min ┆ tumor_max ┆ tumor_avg ┆ tumor_std ┆ tumor_median │\n",
       "│ ---   ┆ ---       ┆ ---       ┆ ---       ┆ ---       ┆ ---          │\n",
       "│ str   ┆ f64       ┆ f64       ┆ f64       ┆ f64       ┆ f64          │\n",
       "╞═══════╪═══════════╪═══════════╪═══════════╪═══════════╪══════════════╡\n",
       "│ val   ┆ 0.0       ┆ 0.76      ┆ 0.23      ┆ 0.22      ┆ 0.15         │\n",
       "│ train ┆ 0.0       ┆ 1.0       ┆ 0.37      ┆ 0.26      ┆ 0.35         │\n",
       "│ test  ┆ 0.0       ┆ 1.0       ┆ 0.25      ┆ 0.23      ┆ 0.18         │\n",
       "└───────┴───────────┴───────────┴───────────┴───────────┴──────────────┘"
      ]
     },
     "execution_count": 20,
     "metadata": {},
     "output_type": "execute_result"
    }
   ],
   "source": [
    "# Per Split Set Tile Tumor Fraction Stats\n",
    "\n",
    "per_split_tumor = (\n",
    "    combined_df.group_by(\"split\")\n",
    "    .agg(\n",
    "        [\n",
    "            pl.col(\"tumor_frac\").min().round(2).alias(\"tumor_min\"),\n",
    "            pl.col(\"tumor_frac\").max().round(2).alias(\"tumor_max\"),\n",
    "            pl.col(\"tumor_frac\").mean().round(2).alias(\"tumor_avg\"),\n",
    "            pl.col(\"tumor_frac\").std().round(2).alias(\"tumor_std\"),\n",
    "            pl.col(\"tumor_frac\").median().round(2).alias(\"tumor_median\"),\n",
    "        ]\n",
    "    )\n",
    "    .sort(by=[\"split\"], descending=True)\n",
    ")\n",
    "\n",
    "per_split_tumor = per_split_tumor.rename({\"split\": \"set\"})\n",
    "per_split_tumor = per_split_tumor.select(overall_tumor.columns)\n",
    "\n",
    "per_split_tumor"
   ]
  },
  {
   "cell_type": "code",
   "execution_count": 21,
   "id": "ulZA",
   "metadata": {},
   "outputs": [
    {
     "data": {
      "text/html": [
       "<div><style>\n",
       ".dataframe > thead > tr,\n",
       ".dataframe > tbody > tr {\n",
       "  text-align: right;\n",
       "  white-space: pre-wrap;\n",
       "}\n",
       "</style>\n",
       "<small>shape: (4, 6)</small><table border=\"1\" class=\"dataframe\"><thead><tr><th>set</th><th>tumor_min</th><th>tumor_max</th><th>tumor_avg</th><th>tumor_std</th><th>tumor_median</th></tr><tr><td>str</td><td>f64</td><td>f64</td><td>f64</td><td>f64</td><td>f64</td></tr></thead><tbody><tr><td>&quot;wsi_tiled_val&quot;</td><td>0.0</td><td>0.76</td><td>0.23</td><td>0.22</td><td>0.15</td></tr><tr><td>&quot;wsi_tiled_train&quot;</td><td>0.0</td><td>1.0</td><td>0.34</td><td>0.24</td><td>0.34</td></tr><tr><td>&quot;img_tiled_train&quot;</td><td>0.0</td><td>1.0</td><td>0.43</td><td>0.3</td><td>0.4</td></tr><tr><td>&quot;wsi_tiled_test&quot;</td><td>0.0</td><td>1.0</td><td>0.25</td><td>0.23</td><td>0.18</td></tr></tbody></table></div>"
      ],
      "text/plain": [
       "shape: (4, 6)\n",
       "┌─────────────────┬───────────┬───────────┬───────────┬───────────┬──────────────┐\n",
       "│ set             ┆ tumor_min ┆ tumor_max ┆ tumor_avg ┆ tumor_std ┆ tumor_median │\n",
       "│ ---             ┆ ---       ┆ ---       ┆ ---       ┆ ---       ┆ ---          │\n",
       "│ str             ┆ f64       ┆ f64       ┆ f64       ┆ f64       ┆ f64          │\n",
       "╞═════════════════╪═══════════╪═══════════╪═══════════╪═══════════╪══════════════╡\n",
       "│ wsi_tiled_val   ┆ 0.0       ┆ 0.76      ┆ 0.23      ┆ 0.22      ┆ 0.15         │\n",
       "│ wsi_tiled_train ┆ 0.0       ┆ 1.0       ┆ 0.34      ┆ 0.24      ┆ 0.34         │\n",
       "│ img_tiled_train ┆ 0.0       ┆ 1.0       ┆ 0.43      ┆ 0.3       ┆ 0.4          │\n",
       "│ wsi_tiled_test  ┆ 0.0       ┆ 1.0       ┆ 0.25      ┆ 0.23      ┆ 0.18         │\n",
       "└─────────────────┴───────────┴───────────┴───────────┴───────────┴──────────────┘"
      ]
     },
     "execution_count": 21,
     "metadata": {},
     "output_type": "execute_result"
    }
   ],
   "source": [
    "# Per Category & Split Set Tile Tumor Fraction Stats\n",
    "\n",
    "per_category_split_tumor = (\n",
    "    combined_df.group_by([\"category\", \"split\"])\n",
    "    .agg(\n",
    "        [\n",
    "            pl.col(\"tumor_frac\").min().round(2).alias(\"tumor_min\"),\n",
    "            pl.col(\"tumor_frac\").max().round(2).alias(\"tumor_max\"),\n",
    "            pl.col(\"tumor_frac\").mean().round(2).alias(\"tumor_avg\"),\n",
    "            pl.col(\"tumor_frac\").std().round(2).alias(\"tumor_std\"),\n",
    "            pl.col(\"tumor_frac\").median().round(2).alias(\"tumor_median\"),\n",
    "        ]\n",
    "    )\n",
    "    .with_columns(pl.format(\"{}_{}\", pl.col(\"category\"), pl.col(\"split\")).alias(\"set\"))\n",
    "    .sort(by=[\"split\"], descending=True)\n",
    ")\n",
    "\n",
    "per_category_split_tumor = per_category_split_tumor.select(overall_tumor.columns)\n",
    "\n",
    "per_category_split_tumor"
   ]
  },
  {
   "cell_type": "code",
   "execution_count": 22,
   "id": "ecfG",
   "metadata": {},
   "outputs": [
    {
     "data": {
      "text/html": [
       "<div><style>\n",
       ".dataframe > thead > tr,\n",
       ".dataframe > tbody > tr {\n",
       "  text-align: right;\n",
       "  white-space: pre-wrap;\n",
       "}\n",
       "</style>\n",
       "<small>shape: (10, 6)</small><table border=\"1\" class=\"dataframe\"><thead><tr><th>set</th><th>tumor_min</th><th>tumor_max</th><th>tumor_avg</th><th>tumor_std</th><th>tumor_median</th></tr><tr><td>str</td><td>f64</td><td>f64</td><td>f64</td><td>f64</td><td>f64</td></tr></thead><tbody><tr><td>&quot;ALL&quot;</td><td>0.0</td><td>1.0</td><td>0.35</td><td>0.26</td><td>0.32</td></tr><tr><td>&quot;wsi_tiled&quot;</td><td>0.0</td><td>1.0</td><td>0.32</td><td>0.24</td><td>0.3</td></tr><tr><td>&quot;img_tiled&quot;</td><td>0.0</td><td>1.0</td><td>0.43</td><td>0.3</td><td>0.4</td></tr><tr><td>&quot;val&quot;</td><td>0.0</td><td>0.76</td><td>0.23</td><td>0.22</td><td>0.15</td></tr><tr><td>&quot;train&quot;</td><td>0.0</td><td>1.0</td><td>0.37</td><td>0.26</td><td>0.35</td></tr><tr><td>&quot;test&quot;</td><td>0.0</td><td>1.0</td><td>0.25</td><td>0.23</td><td>0.18</td></tr><tr><td>&quot;wsi_tiled_val&quot;</td><td>0.0</td><td>0.76</td><td>0.23</td><td>0.22</td><td>0.15</td></tr><tr><td>&quot;wsi_tiled_train&quot;</td><td>0.0</td><td>1.0</td><td>0.34</td><td>0.24</td><td>0.34</td></tr><tr><td>&quot;img_tiled_train&quot;</td><td>0.0</td><td>1.0</td><td>0.43</td><td>0.3</td><td>0.4</td></tr><tr><td>&quot;wsi_tiled_test&quot;</td><td>0.0</td><td>1.0</td><td>0.25</td><td>0.23</td><td>0.18</td></tr></tbody></table></div>"
      ],
      "text/plain": [
       "shape: (10, 6)\n",
       "┌─────────────────┬───────────┬───────────┬───────────┬───────────┬──────────────┐\n",
       "│ set             ┆ tumor_min ┆ tumor_max ┆ tumor_avg ┆ tumor_std ┆ tumor_median │\n",
       "│ ---             ┆ ---       ┆ ---       ┆ ---       ┆ ---       ┆ ---          │\n",
       "│ str             ┆ f64       ┆ f64       ┆ f64       ┆ f64       ┆ f64          │\n",
       "╞═════════════════╪═══════════╪═══════════╪═══════════╪═══════════╪══════════════╡\n",
       "│ ALL             ┆ 0.0       ┆ 1.0       ┆ 0.35      ┆ 0.26      ┆ 0.32         │\n",
       "│ wsi_tiled       ┆ 0.0       ┆ 1.0       ┆ 0.32      ┆ 0.24      ┆ 0.3          │\n",
       "│ img_tiled       ┆ 0.0       ┆ 1.0       ┆ 0.43      ┆ 0.3       ┆ 0.4          │\n",
       "│ val             ┆ 0.0       ┆ 0.76      ┆ 0.23      ┆ 0.22      ┆ 0.15         │\n",
       "│ train           ┆ 0.0       ┆ 1.0       ┆ 0.37      ┆ 0.26      ┆ 0.35         │\n",
       "│ test            ┆ 0.0       ┆ 1.0       ┆ 0.25      ┆ 0.23      ┆ 0.18         │\n",
       "│ wsi_tiled_val   ┆ 0.0       ┆ 0.76      ┆ 0.23      ┆ 0.22      ┆ 0.15         │\n",
       "│ wsi_tiled_train ┆ 0.0       ┆ 1.0       ┆ 0.34      ┆ 0.24      ┆ 0.34         │\n",
       "│ img_tiled_train ┆ 0.0       ┆ 1.0       ┆ 0.43      ┆ 0.3       ┆ 0.4          │\n",
       "│ wsi_tiled_test  ┆ 0.0       ┆ 1.0       ┆ 0.25      ┆ 0.23      ┆ 0.18         │\n",
       "└─────────────────┴───────────┴───────────┴───────────┴───────────┴──────────────┘"
      ]
     },
     "execution_count": 22,
     "metadata": {},
     "output_type": "execute_result"
    }
   ],
   "source": [
    "# All Tumor Tile Information\n",
    "\n",
    "all_tumor_metrics_df = pl.concat(\n",
    "    [overall_tumor, per_category_tumor, per_split_tumor, per_category_split_tumor]\n",
    ")\n",
    "\n",
    "all_tumor_metrics_df"
   ]
  },
  {
   "cell_type": "markdown",
   "id": "Pvdt",
   "metadata": {},
   "source": [
    "# Combined Metrics"
   ]
  },
  {
   "cell_type": "code",
   "execution_count": 23,
   "id": "ZBYS",
   "metadata": {},
   "outputs": [
    {
     "data": {
      "text/html": [
       "<div><style>\n",
       ".dataframe > thead > tr,\n",
       ".dataframe > tbody > tr {\n",
       "  text-align: right;\n",
       "  white-space: pre-wrap;\n",
       "}\n",
       "</style>\n",
       "<small>shape: (10, 15)</small><table border=\"1\" class=\"dataframe\"><thead><tr><th>set</th><th>slide_count</th><th>slide_pct</th><th>tile_min</th><th>tile_max</th><th>tile_avg</th><th>tile_std</th><th>tile_median</th><th>tile_count</th><th>tile_pct</th><th>tumor_min</th><th>tumor_max</th><th>tumor_avg</th><th>tumor_std</th><th>tumor_median</th></tr><tr><td>str</td><td>u32</td><td>f64</td><td>i64</td><td>i64</td><td>f64</td><td>f64</td><td>f64</td><td>i64</td><td>f64</td><td>f64</td><td>f64</td><td>f64</td><td>f64</td><td>f64</td></tr></thead><tbody><tr><td>&quot;ALL&quot;</td><td>164</td><td>100.0</td><td>0</td><td>2639</td><td>78.0</td><td>274.0</td><td>22.0</td><td>12710</td><td>100.0</td><td>0.0</td><td>1.0</td><td>0.35</td><td>0.26</td><td>0.32</td></tr><tr><td>&quot;wsi_tiled&quot;</td><td>11</td><td>6.71</td><td>284</td><td>2639</td><td>877.0</td><td>682.0</td><td>644.0</td><td>9649</td><td>75.92</td><td>0.0</td><td>1.0</td><td>0.32</td><td>0.24</td><td>0.3</td></tr><tr><td>&quot;img_tiled&quot;</td><td>153</td><td>93.29</td><td>0</td><td>36</td><td>20.0</td><td>7.0</td><td>18.0</td><td>3061</td><td>24.08</td><td>0.0</td><td>1.0</td><td>0.43</td><td>0.3</td><td>0.4</td></tr><tr><td>&quot;val&quot;</td><td>2</td><td>1.22</td><td>284</td><td>537</td><td>410.0</td><td>179.0</td><td>410.5</td><td>821</td><td>6.46</td><td>0.0</td><td>0.76</td><td>0.23</td><td>0.22</td><td>0.15</td></tr><tr><td>&quot;train&quot;</td><td>160</td><td>97.56</td><td>0</td><td>2639</td><td>66.0</td><td>265.0</td><td>21.0</td><td>10526</td><td>82.82</td><td>0.0</td><td>1.0</td><td>0.37</td><td>0.26</td><td>0.35</td></tr><tr><td>&quot;test&quot;</td><td>2</td><td>1.22</td><td>513</td><td>850</td><td>682.0</td><td>238.0</td><td>681.5</td><td>1363</td><td>10.72</td><td>0.0</td><td>1.0</td><td>0.25</td><td>0.23</td><td>0.18</td></tr><tr><td>&quot;wsi_tiled_val&quot;</td><td>2</td><td>1.22</td><td>284</td><td>537</td><td>410.0</td><td>179.0</td><td>410.5</td><td>821</td><td>6.46</td><td>0.0</td><td>0.76</td><td>0.23</td><td>0.22</td><td>0.15</td></tr><tr><td>&quot;wsi_tiled_train&quot;</td><td>7</td><td>4.27</td><td>459</td><td>2639</td><td>1066.0</td><td>796.0</td><td>699.0</td><td>7465</td><td>58.73</td><td>0.0</td><td>1.0</td><td>0.34</td><td>0.24</td><td>0.34</td></tr><tr><td>&quot;img_tiled_train&quot;</td><td>153</td><td>93.29</td><td>0</td><td>36</td><td>20.0</td><td>7.0</td><td>18.0</td><td>3061</td><td>24.08</td><td>0.0</td><td>1.0</td><td>0.43</td><td>0.3</td><td>0.4</td></tr><tr><td>&quot;wsi_tiled_test&quot;</td><td>2</td><td>1.22</td><td>513</td><td>850</td><td>682.0</td><td>238.0</td><td>681.5</td><td>1363</td><td>10.72</td><td>0.0</td><td>1.0</td><td>0.25</td><td>0.23</td><td>0.18</td></tr></tbody></table></div>"
      ],
      "text/plain": [
       "shape: (10, 15)\n",
       "┌───────────┬───────────┬───────────┬──────────┬───┬───────────┬───────────┬───────────┬───────────┐\n",
       "│ set       ┆ slide_cou ┆ slide_pct ┆ tile_min ┆ … ┆ tumor_max ┆ tumor_avg ┆ tumor_std ┆ tumor_med │\n",
       "│ ---       ┆ nt        ┆ ---       ┆ ---      ┆   ┆ ---       ┆ ---       ┆ ---       ┆ ian       │\n",
       "│ str       ┆ ---       ┆ f64       ┆ i64      ┆   ┆ f64       ┆ f64       ┆ f64       ┆ ---       │\n",
       "│           ┆ u32       ┆           ┆          ┆   ┆           ┆           ┆           ┆ f64       │\n",
       "╞═══════════╪═══════════╪═══════════╪══════════╪═══╪═══════════╪═══════════╪═══════════╪═══════════╡\n",
       "│ ALL       ┆ 164       ┆ 100.0     ┆ 0        ┆ … ┆ 1.0       ┆ 0.35      ┆ 0.26      ┆ 0.32      │\n",
       "│ wsi_tiled ┆ 11        ┆ 6.71      ┆ 284      ┆ … ┆ 1.0       ┆ 0.32      ┆ 0.24      ┆ 0.3       │\n",
       "│ img_tiled ┆ 153       ┆ 93.29     ┆ 0        ┆ … ┆ 1.0       ┆ 0.43      ┆ 0.3       ┆ 0.4       │\n",
       "│ val       ┆ 2         ┆ 1.22      ┆ 284      ┆ … ┆ 0.76      ┆ 0.23      ┆ 0.22      ┆ 0.15      │\n",
       "│ train     ┆ 160       ┆ 97.56     ┆ 0        ┆ … ┆ 1.0       ┆ 0.37      ┆ 0.26      ┆ 0.35      │\n",
       "│ test      ┆ 2         ┆ 1.22      ┆ 513      ┆ … ┆ 1.0       ┆ 0.25      ┆ 0.23      ┆ 0.18      │\n",
       "│ wsi_tiled ┆ 2         ┆ 1.22      ┆ 284      ┆ … ┆ 0.76      ┆ 0.23      ┆ 0.22      ┆ 0.15      │\n",
       "│ _val      ┆           ┆           ┆          ┆   ┆           ┆           ┆           ┆           │\n",
       "│ wsi_tiled ┆ 7         ┆ 4.27      ┆ 459      ┆ … ┆ 1.0       ┆ 0.34      ┆ 0.24      ┆ 0.34      │\n",
       "│ _train    ┆           ┆           ┆          ┆   ┆           ┆           ┆           ┆           │\n",
       "│ img_tiled ┆ 153       ┆ 93.29     ┆ 0        ┆ … ┆ 1.0       ┆ 0.43      ┆ 0.3       ┆ 0.4       │\n",
       "│ _train    ┆           ┆           ┆          ┆   ┆           ┆           ┆           ┆           │\n",
       "│ wsi_tiled ┆ 2         ┆ 1.22      ┆ 513      ┆ … ┆ 1.0       ┆ 0.25      ┆ 0.23      ┆ 0.18      │\n",
       "│ _test     ┆           ┆           ┆          ┆   ┆           ┆           ┆           ┆           │\n",
       "└───────────┴───────────┴───────────┴──────────┴───┴───────────┴───────────┴───────────┴───────────┘"
      ]
     },
     "execution_count": 23,
     "metadata": {},
     "output_type": "execute_result"
    }
   ],
   "source": [
    "final_df = all_slide_metrics_df.join(all_tumor_metrics_df, on=\"set\")\n",
    "\n",
    "final_df"
   ]
  }
 ],
 "metadata": {
  "kernelspec": {
   "display_name": ".venv",
   "language": "python",
   "name": "python3"
  },
  "language_info": {
   "codemirror_mode": {
    "name": "ipython",
    "version": 3
   },
   "file_extension": ".py",
   "mimetype": "text/x-python",
   "name": "python",
   "nbconvert_exporter": "python",
   "pygments_lexer": "ipython3",
   "version": "3.12.10"
  }
 },
 "nbformat": 4,
 "nbformat_minor": 5
}
