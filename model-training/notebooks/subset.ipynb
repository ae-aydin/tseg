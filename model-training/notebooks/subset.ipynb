{
 "cells": [
  {
   "cell_type": "code",
   "execution_count": 11,
   "id": "Hbol",
   "metadata": {},
   "outputs": [],
   "source": [
    "import pandas as pd\n",
    "from pathlib import Path"
   ]
  },
  {
   "cell_type": "code",
   "execution_count": 12,
   "id": "MJUe",
   "metadata": {},
   "outputs": [],
   "source": [
    "dataset_logs_path = Path(\"../../experiments/tumorseg_20250616020201/logs\").resolve()"
   ]
  },
  {
   "cell_type": "code",
   "execution_count": 13,
   "id": "vblA",
   "metadata": {},
   "outputs": [],
   "source": [
    "metadata_df = pd.read_csv(dataset_logs_path / \"metadata.csv\")\n",
    "train_df = pd.read_csv(dataset_logs_path / \"train.csv\")\n",
    "train_hospital_df = pd.read_csv(dataset_logs_path / \"train_hospital.csv\")\n",
    "train_hpa_df = pd.read_csv(dataset_logs_path / \"train_hpa.csv\")\n",
    "val_df = pd.read_csv(dataset_logs_path / \"val.csv\")\n",
    "test_df = pd.read_csv(dataset_logs_path / \"test.csv\")"
   ]
  },
  {
   "cell_type": "code",
   "execution_count": 14,
   "id": "bkHC",
   "metadata": {},
   "outputs": [
    {
     "name": "stdout",
     "output_type": "stream",
     "text": [
      "Hospital: 7465\n",
      "Hospital Slide Count: 7\n",
      "Hospital Slides: ['B-17557-23-ER' 'B-17557-23-KI67' 'B-18125-23-ER' 'B-19844-23-ER'\n",
      " 'B-20002-23-ER' 'B-20788-23-ER' 'B-25194-23-ER'] \n",
      "\n",
      "HPA: 3061\n",
      "HPA Slide Count: 150\n",
      "HPA Slides: ['414_A_4_1' '414_A_4_2' '414_A_4_3' '414_A_4_5' '414_A_4_6' '414_A_4_7'\n",
      " '414_A_4_8' '414_A_5_1' '414_A_5_2' '414_A_5_4' '414_A_5_5' '414_A_5_6'\n",
      " '414_A_5_7' '414_A_5_8' '414_A_6_3' '414_A_6_4' '414_A_6_8' '1898_A_4_1'\n",
      " '1898_A_4_3' '1898_A_4_5' '1898_A_4_6' '1898_A_4_7' '1898_A_4_8'\n",
      " '1898_A_5_1' '1898_A_5_2' '1898_A_5_3' '1898_A_5_5' '1898_A_5_6'\n",
      " '1898_A_5_8' '1898_A_6_3' '1898_A_6_4' '1898_A_6_5' '1898_A_6_6'\n",
      " '1941_A_4_1' '1941_A_4_2' '1941_A_4_3' '1941_A_4_4' '1941_A_4_5'\n",
      " '1941_A_4_6' '1941_A_4_7' '1941_A_4_8' '1941_A_5_1' '1941_A_5_2'\n",
      " '1941_A_5_3' '1941_A_5_4' '1941_A_5_5' '1941_A_5_6' '1941_A_5_7'\n",
      " '1941_A_6_1' '1941_A_6_2' '1941_A_6_3' '1941_A_6_4' '1941_A_6_5'\n",
      " '1941_A_6_7' '1974_A_4_1' '1974_A_4_2' '1974_A_4_3' '1974_A_4_4'\n",
      " '1974_A_4_5' '1974_A_4_6' '1974_A_4_7' '1974_A_4_8' '1974_A_5_1'\n",
      " '1974_A_5_2' '1974_A_5_3' '1974_A_5_4' '1974_A_5_5' '1974_A_5_6'\n",
      " '1974_A_5_7' '1974_A_5_8' '1974_A_6_1' '1974_A_6_2' '1974_A_6_3'\n",
      " '1974_A_6_4' '1974_A_6_5' '15547_A_4_3' '15547_A_4_4' '15547_A_4_5'\n",
      " '15547_A_4_6' '15547_A_4_7' '15547_A_4_8' '15547_A_5_1' '15547_A_5_2'\n",
      " '15547_A_5_3' '15547_A_5_4' '15547_A_5_5' '15547_A_5_6' '15547_A_5_7'\n",
      " '15547_A_6_1' '15547_A_6_2' '15547_A_6_3' '15547_A_6_5' '15547_A_6_6'\n",
      " '15547_A_6_7' '15547_A_6_8' '21814_A_4_3' '21814_A_4_4' '21814_A_4_5'\n",
      " '21814_A_4_6' '21814_A_4_7' '21814_A_4_8' '21814_A_5_1' '21814_A_5_2'\n",
      " '21814_A_5_3' '21814_A_5_4' '21814_A_5_8' '21814_A_6_1' '21814_A_6_2'\n",
      " '122033_A_4_1' '122033_A_4_3' '122033_A_4_4' '122033_A_4_5'\n",
      " '122033_A_4_6' '122033_A_4_7' '122033_A_4_8' '122033_A_5_1'\n",
      " '122033_A_5_2' '122033_A_5_5' '122033_A_5_6' '122033_A_5_7'\n",
      " '122033_A_5_8' '122033_A_6_1' '122033_A_6_2' '122033_A_6_3'\n",
      " '122033_A_6_4' '122033_A_6_5' '122033_A_6_8' '157117_A_4_1'\n",
      " '157117_A_4_2' '157117_A_4_3' '157117_A_4_4' '157117_A_4_5'\n",
      " '157117_A_4_6' '157117_A_4_7' '157117_A_4_8' '157117_A_5_1'\n",
      " '157117_A_5_2' '157117_A_5_3' '157117_A_5_4' '157117_A_5_5'\n",
      " '157117_A_5_7' '157117_A_5_8' '157117_A_6_1' '157117_A_6_2'\n",
      " '157117_A_6_3' '157117_A_6_4' '157117_A_6_5' '157117_A_6_6'\n",
      " '157117_A_6_7' '157117_A_6_8'] \n",
      "\n",
      "Hospital + HPA: 10526\n",
      "Hospital + HPA Slide Count: 157 \n",
      "\n",
      "Train: 10526\n",
      "Train Slide Count: 157 \n",
      "\n",
      "Metadata Train: 10526\n",
      "Metadata Train Slide Count: 157 \n",
      "\n",
      "Train equals Hospital + HPA: True\n"
     ]
    }
   ],
   "source": [
    "combined_df = pd.concat([train_hospital_df, train_hpa_df], ignore_index=True)\n",
    "\n",
    "print(\"Hospital:\", len(train_hospital_df))\n",
    "print(\"Hospital Slide Count:\", len(train_hospital_df[\"slide_name\"].unique()))\n",
    "print(\"Hospital Slides:\", train_hospital_df[\"slide_name\"].unique(), \"\\n\")\n",
    "\n",
    "\n",
    "print(\"HPA:\", len(train_hpa_df))\n",
    "print(\"HPA Slide Count:\", len(train_hpa_df[\"slide_name\"].unique()))\n",
    "print(\"HPA Slides:\", train_hpa_df[\"slide_name\"].unique(), \"\\n\")\n",
    "\n",
    "print(\"Hospital + HPA:\", len(combined_df))\n",
    "print(\"Hospital + HPA Slide Count:\", len(combined_df[\"slide_name\"].unique()), \"\\n\")\n",
    "\n",
    "print(\"Train:\", len(train_df))\n",
    "print(\"Train Slide Count:\", len(train_df[\"slide_name\"].unique()), \"\\n\")\n",
    "\n",
    "metadata_train_df = metadata_df[metadata_df[\"split\"] == \"train\"]\n",
    "print(\"Metadata Train:\", len(metadata_train_df))\n",
    "print(\n",
    "    \"Metadata Train Slide Count:\", len(metadata_train_df[\"slide_name\"].unique()), \"\\n\"\n",
    ")\n",
    "\n",
    "\n",
    "train_df_sorted = train_df.sort_values(by=train_df.columns.tolist()).reset_index(\n",
    "    drop=True\n",
    ")\n",
    "combined_df_sorted = combined_df.sort_values(\n",
    "    by=combined_df.columns.tolist()\n",
    ").reset_index(drop=True)\n",
    "\n",
    "is_equal = train_df_sorted.equals(combined_df_sorted)\n",
    "print(\"Train equals Hospital + HPA:\", is_equal)"
   ]
  },
  {
   "cell_type": "code",
   "execution_count": 15,
   "id": "lEQa",
   "metadata": {},
   "outputs": [
    {
     "name": "stdout",
     "output_type": "stream",
     "text": [
      "Validation: 821\n",
      "Validation Slide Count: 2\n",
      "Validation Slides: ['B-20000-23-2-ER' 'B-25081-23-PR312'] \n",
      "\n",
      "Rows in Train not in Validation (or vice versa): True\n"
     ]
    }
   ],
   "source": [
    "print(\"Validation:\", len(val_df))\n",
    "print(\"Validation Slide Count:\", len(val_df[\"slide_name\"].unique()))\n",
    "print(\"Validation Slides:\", val_df[\"slide_name\"].unique(), \"\\n\")\n",
    "\n",
    "diff_train_val = pd.concat([train_df, val_df]).drop_duplicates(keep=False)\n",
    "print(\"Rows in Train not in Validation (or vice versa):\", not diff_train_val.empty)"
   ]
  },
  {
   "cell_type": "code",
   "execution_count": 16,
   "id": "PKri",
   "metadata": {},
   "outputs": [
    {
     "name": "stdout",
     "output_type": "stream",
     "text": [
      "Test: 1363\n",
      "Test Slide Count: 2\n",
      "Test Slides: ['B-18132-23-ER' 'B-23157-23-ER'] \n",
      "\n",
      "Rows in Train not in Test (or vice versa): True\n"
     ]
    }
   ],
   "source": [
    "print(\"Test:\", len(test_df))\n",
    "print(\"Test Slide Count:\", len(test_df[\"slide_name\"].unique()))\n",
    "print(\"Test Slides:\", test_df[\"slide_name\"].unique(), \"\\n\")\n",
    "\n",
    "diff_train_test = pd.concat([train_df, test_df]).drop_duplicates(keep=False)\n",
    "print(\"Rows in Train not in Test (or vice versa):\", not diff_train_test.empty)"
   ]
  },
  {
   "cell_type": "code",
   "execution_count": 17,
   "id": "Xref",
   "metadata": {},
   "outputs": [
    {
     "name": "stdout",
     "output_type": "stream",
     "text": [
      "Rows in Validation not in Test (or vice versa): True\n"
     ]
    }
   ],
   "source": [
    "diff_val_test = pd.concat([val_df, test_df]).drop_duplicates(keep=False)\n",
    "print(\"Rows in Validation not in Test (or vice versa):\", not diff_val_test.empty)"
   ]
  },
  {
   "cell_type": "code",
   "execution_count": 18,
   "id": "SFPL",
   "metadata": {},
   "outputs": [
    {
     "name": "stdout",
     "output_type": "stream",
     "text": [
      "Metadata Test: 1363\n",
      "Metadata Test Slide Count: 2\n",
      "Metadata Test Slides: ['B-18132-23-ER' 'B-23157-23-ER'] \n",
      "\n"
     ]
    }
   ],
   "source": [
    "metadata_test_df = metadata_df[metadata_df[\"split\"] == \"test\"]\n",
    "\n",
    "print(\"Metadata Test:\", len(test_df))\n",
    "print(\"Metadata Test Slide Count:\", len(test_df[\"slide_name\"].unique()))\n",
    "print(\"Metadata Test Slides:\", test_df[\"slide_name\"].unique(), \"\\n\")"
   ]
  },
  {
   "cell_type": "markdown",
   "id": "7b844353",
   "metadata": {},
   "source": [
    "---"
   ]
  },
  {
   "cell_type": "code",
   "execution_count": 19,
   "id": "50f2525a",
   "metadata": {},
   "outputs": [
    {
     "data": {
      "text/plain": [
       "Index(['slide_name', 'parent_dir_path', 'relative_image_path',\n",
       "       'relative_mask_path', 'tumor_frac', 'category', 'tile_count', 'split',\n",
       "       'tumor_bin'],\n",
       "      dtype='object')"
      ]
     },
     "execution_count": 19,
     "metadata": {},
     "output_type": "execute_result"
    }
   ],
   "source": [
    "metadata_df.columns"
   ]
  },
  {
   "cell_type": "code",
   "execution_count": 20,
   "id": "21a82bcc",
   "metadata": {},
   "outputs": [
    {
     "name": "stdout",
     "output_type": "stream",
     "text": [
      "Number of duplicate images in metadata: 0\n"
     ]
    }
   ],
   "source": [
    "duplicates = metadata_df[metadata_df[\"relative_image_path\"].duplicated()]\n",
    "print(f\"Number of duplicate images in metadata: {len(duplicates)}\")"
   ]
  },
  {
   "cell_type": "code",
   "execution_count": 21,
   "id": "e3edc084",
   "metadata": {},
   "outputs": [
    {
     "data": {
      "text/plain": [
       "np.True_"
      ]
     },
     "execution_count": 21,
     "metadata": {},
     "output_type": "execute_result"
    }
   ],
   "source": [
    "image_names = metadata_df[\"relative_image_path\"].apply(lambda x: Path(x).stem)\n",
    "mask_names = metadata_df[\"relative_mask_path\"].apply(\n",
    "    lambda x: Path(x).stem.strip(\"_label\")\n",
    ")\n",
    "\n",
    "(image_names == mask_names).all()"
   ]
  },
  {
   "cell_type": "code",
   "execution_count": 22,
   "id": "97778f9f",
   "metadata": {},
   "outputs": [
    {
     "data": {
      "text/plain": [
       "True"
      ]
     },
     "execution_count": 22,
     "metadata": {},
     "output_type": "execute_result"
    }
   ],
   "source": [
    "image_names.is_unique"
   ]
  },
  {
   "cell_type": "code",
   "execution_count": 23,
   "id": "e40ef333",
   "metadata": {},
   "outputs": [
    {
     "name": "stdout",
     "output_type": "stream",
     "text": [
      "Train-Val overlap: 0\n",
      "Train-Test overlap: 0\n",
      "Val-Test overlap: 0\n"
     ]
    }
   ],
   "source": [
    "train_images = set(train_df[\"relative_image_path\"])\n",
    "val_images = set(val_df[\"relative_image_path\"])\n",
    "test_images = set(test_df[\"relative_image_path\"])\n",
    "\n",
    "overlap_train_val = train_images & val_images\n",
    "overlap_train_test = train_images & test_images\n",
    "overlap_val_test = val_images & test_images\n",
    "\n",
    "print(\"Train-Val overlap:\", len(overlap_train_val))\n",
    "print(\"Train-Test overlap:\", len(overlap_train_test))\n",
    "print(\"Val-Test overlap:\", len(overlap_val_test))"
   ]
  },
  {
   "cell_type": "code",
   "execution_count": 24,
   "id": "c3f12ede",
   "metadata": {},
   "outputs": [
    {
     "name": "stdout",
     "output_type": "stream",
     "text": [
      "Train-Val overlap: 0\n",
      "Train-Test overlap: 0\n",
      "Val-Test overlap: 0\n"
     ]
    }
   ],
   "source": [
    "train_slides = set(train_df[\"relative_image_path\"])\n",
    "val_slides = set(val_df[\"relative_image_path\"])\n",
    "test_slides = set(test_df[\"relative_image_path\"])\n",
    "\n",
    "overlap_train_val = train_slides & val_slides\n",
    "overlap_train_test = train_slides & test_slides\n",
    "overlap_val_test = val_slides & test_slides\n",
    "\n",
    "print(\"Train-Val overlap:\", len(overlap_train_val))\n",
    "print(\"Train-Test overlap:\", len(overlap_train_test))\n",
    "print(\"Val-Test overlap:\", len(overlap_val_test))"
   ]
  }
 ],
 "metadata": {
  "kernelspec": {
   "display_name": ".venv",
   "language": "python",
   "name": "python3"
  },
  "language_info": {
   "codemirror_mode": {
    "name": "ipython",
    "version": 3
   },
   "file_extension": ".py",
   "mimetype": "text/x-python",
   "name": "python",
   "nbconvert_exporter": "python",
   "pygments_lexer": "ipython3",
   "version": "3.12.10"
  }
 },
 "nbformat": 4,
 "nbformat_minor": 5
}
